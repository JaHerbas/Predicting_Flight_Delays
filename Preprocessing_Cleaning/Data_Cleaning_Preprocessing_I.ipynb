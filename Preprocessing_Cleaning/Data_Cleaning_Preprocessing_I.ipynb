{
 "cells": [
  {
   "cell_type": "markdown",
   "metadata": {},
   "source": [
    "<font size=\"7\"><b>PREDICTING FLIGHT DELAYS</b></font>"
   ]
  },
  {
   "cell_type": "markdown",
   "metadata": {
    "ExecuteTime": {
     "end_time": "2020-10-04T16:29:48.544628Z",
     "start_time": "2020-10-04T16:29:48.532509Z"
    }
   },
   "source": [
    "<font size=\"6\"><b>Data Preprocessing/Cleaning</b></font>"
   ]
  },
  {
   "cell_type": "markdown",
   "metadata": {},
   "source": [
    "![Figure_6](img/Figure_6.png)"
   ]
  },
  {
   "cell_type": "markdown",
   "metadata": {},
   "source": [
    "Before I start doing this notebook I will define what a <b>delayed flight</b> will be as this will be the principle used to drop or not some of the columns/features that come with this dataset, or to engineer others.\n",
    "\n",
    "<b>* First of all, a delay flight will be a flight that arrives late at its destination</b><br>\n",
    "<b>* If the flight has any delays from its departure, but still arrives to its destination on time, it will not be considered a delayed flight</b> \n",
    "\n",
    "Furthermore, I will also handle this as a binary classification problem, with a 0 for a arrival on time, and a 1 for delayed arrival. "
   ]
  },
  {
   "cell_type": "markdown",
   "metadata": {},
   "source": [
    "# Libraries"
   ]
  },
  {
   "cell_type": "code",
   "execution_count": 1,
   "metadata": {
    "ExecuteTime": {
     "end_time": "2020-10-09T11:56:12.718282Z",
     "start_time": "2020-10-09T11:56:11.628548Z"
    }
   },
   "outputs": [],
   "source": [
    "import pandas as pd\n",
    "import numpy as np\n",
    "import matplotlib.pyplot as plt\n",
    "%matplotlib inline\n",
    "import seaborn as sns\n",
    "pd.set_option('display.max_columns', None)\n",
    "import datetime, warnings, scipy\n",
    "warnings.filterwarnings(\"ignore\")"
   ]
  },
  {
   "cell_type": "markdown",
   "metadata": {},
   "source": [
    "# Data Loading and Familiarization"
   ]
  },
  {
   "cell_type": "code",
   "execution_count": 2,
   "metadata": {
    "ExecuteTime": {
     "end_time": "2020-10-09T11:56:30.040333Z",
     "start_time": "2020-10-09T11:56:12.831370Z"
    }
   },
   "outputs": [
    {
     "data": {
      "text/html": [
       "<div>\n",
       "<style scoped>\n",
       "    .dataframe tbody tr th:only-of-type {\n",
       "        vertical-align: middle;\n",
       "    }\n",
       "\n",
       "    .dataframe tbody tr th {\n",
       "        vertical-align: top;\n",
       "    }\n",
       "\n",
       "    .dataframe thead th {\n",
       "        text-align: right;\n",
       "    }\n",
       "</style>\n",
       "<table border=\"1\" class=\"dataframe\">\n",
       "  <thead>\n",
       "    <tr style=\"text-align: right;\">\n",
       "      <th></th>\n",
       "      <th>FL_DATE</th>\n",
       "      <th>OP_CARRIER</th>\n",
       "      <th>OP_CARRIER_FL_NUM</th>\n",
       "      <th>ORIGIN</th>\n",
       "      <th>DEST</th>\n",
       "      <th>CRS_DEP_TIME</th>\n",
       "      <th>DEP_TIME</th>\n",
       "      <th>DEP_DELAY</th>\n",
       "      <th>TAXI_OUT</th>\n",
       "      <th>WHEELS_OFF</th>\n",
       "      <th>WHEELS_ON</th>\n",
       "      <th>TAXI_IN</th>\n",
       "      <th>CRS_ARR_TIME</th>\n",
       "      <th>ARR_TIME</th>\n",
       "      <th>ARR_DELAY</th>\n",
       "      <th>CANCELLED</th>\n",
       "      <th>CANCELLATION_CODE</th>\n",
       "      <th>DIVERTED</th>\n",
       "      <th>CRS_ELAPSED_TIME</th>\n",
       "      <th>ACTUAL_ELAPSED_TIME</th>\n",
       "      <th>AIR_TIME</th>\n",
       "      <th>DISTANCE</th>\n",
       "      <th>CARRIER_DELAY</th>\n",
       "      <th>WEATHER_DELAY</th>\n",
       "      <th>NAS_DELAY</th>\n",
       "      <th>SECURITY_DELAY</th>\n",
       "      <th>LATE_AIRCRAFT_DELAY</th>\n",
       "      <th>Unnamed: 27</th>\n",
       "    </tr>\n",
       "  </thead>\n",
       "  <tbody>\n",
       "    <tr>\n",
       "      <th>0</th>\n",
       "      <td>2018-01-01</td>\n",
       "      <td>UA</td>\n",
       "      <td>2429</td>\n",
       "      <td>EWR</td>\n",
       "      <td>DEN</td>\n",
       "      <td>1517</td>\n",
       "      <td>1512.0</td>\n",
       "      <td>-5.0</td>\n",
       "      <td>15.0</td>\n",
       "      <td>1527.0</td>\n",
       "      <td>1712.0</td>\n",
       "      <td>10.0</td>\n",
       "      <td>1745</td>\n",
       "      <td>1722.0</td>\n",
       "      <td>-23.0</td>\n",
       "      <td>0.0</td>\n",
       "      <td>NaN</td>\n",
       "      <td>0.0</td>\n",
       "      <td>268.0</td>\n",
       "      <td>250.0</td>\n",
       "      <td>225.0</td>\n",
       "      <td>1605.0</td>\n",
       "      <td>NaN</td>\n",
       "      <td>NaN</td>\n",
       "      <td>NaN</td>\n",
       "      <td>NaN</td>\n",
       "      <td>NaN</td>\n",
       "      <td>NaN</td>\n",
       "    </tr>\n",
       "    <tr>\n",
       "      <th>1</th>\n",
       "      <td>2018-01-01</td>\n",
       "      <td>UA</td>\n",
       "      <td>2427</td>\n",
       "      <td>LAS</td>\n",
       "      <td>SFO</td>\n",
       "      <td>1115</td>\n",
       "      <td>1107.0</td>\n",
       "      <td>-8.0</td>\n",
       "      <td>11.0</td>\n",
       "      <td>1118.0</td>\n",
       "      <td>1223.0</td>\n",
       "      <td>7.0</td>\n",
       "      <td>1254</td>\n",
       "      <td>1230.0</td>\n",
       "      <td>-24.0</td>\n",
       "      <td>0.0</td>\n",
       "      <td>NaN</td>\n",
       "      <td>0.0</td>\n",
       "      <td>99.0</td>\n",
       "      <td>83.0</td>\n",
       "      <td>65.0</td>\n",
       "      <td>414.0</td>\n",
       "      <td>NaN</td>\n",
       "      <td>NaN</td>\n",
       "      <td>NaN</td>\n",
       "      <td>NaN</td>\n",
       "      <td>NaN</td>\n",
       "      <td>NaN</td>\n",
       "    </tr>\n",
       "    <tr>\n",
       "      <th>7213444</th>\n",
       "      <td>2018-12-31</td>\n",
       "      <td>AA</td>\n",
       "      <td>1818</td>\n",
       "      <td>CLT</td>\n",
       "      <td>RDU</td>\n",
       "      <td>1300</td>\n",
       "      <td>1323.0</td>\n",
       "      <td>23.0</td>\n",
       "      <td>11.0</td>\n",
       "      <td>1334.0</td>\n",
       "      <td>1400.0</td>\n",
       "      <td>4.0</td>\n",
       "      <td>1350</td>\n",
       "      <td>1404.0</td>\n",
       "      <td>14.0</td>\n",
       "      <td>0.0</td>\n",
       "      <td>NaN</td>\n",
       "      <td>0.0</td>\n",
       "      <td>50.0</td>\n",
       "      <td>41.0</td>\n",
       "      <td>26.0</td>\n",
       "      <td>130.0</td>\n",
       "      <td>NaN</td>\n",
       "      <td>NaN</td>\n",
       "      <td>NaN</td>\n",
       "      <td>NaN</td>\n",
       "      <td>NaN</td>\n",
       "      <td>NaN</td>\n",
       "    </tr>\n",
       "    <tr>\n",
       "      <th>7213445</th>\n",
       "      <td>2018-12-31</td>\n",
       "      <td>AA</td>\n",
       "      <td>1818</td>\n",
       "      <td>RDU</td>\n",
       "      <td>CLT</td>\n",
       "      <td>1435</td>\n",
       "      <td>1443.0</td>\n",
       "      <td>8.0</td>\n",
       "      <td>8.0</td>\n",
       "      <td>1451.0</td>\n",
       "      <td>1535.0</td>\n",
       "      <td>7.0</td>\n",
       "      <td>1546</td>\n",
       "      <td>1542.0</td>\n",
       "      <td>-4.0</td>\n",
       "      <td>0.0</td>\n",
       "      <td>NaN</td>\n",
       "      <td>0.0</td>\n",
       "      <td>71.0</td>\n",
       "      <td>59.0</td>\n",
       "      <td>44.0</td>\n",
       "      <td>130.0</td>\n",
       "      <td>NaN</td>\n",
       "      <td>NaN</td>\n",
       "      <td>NaN</td>\n",
       "      <td>NaN</td>\n",
       "      <td>NaN</td>\n",
       "      <td>NaN</td>\n",
       "    </tr>\n",
       "  </tbody>\n",
       "</table>\n",
       "</div>"
      ],
      "text/plain": [
       "            FL_DATE OP_CARRIER  OP_CARRIER_FL_NUM ORIGIN DEST  CRS_DEP_TIME  \\\n",
       "0        2018-01-01         UA               2429    EWR  DEN          1517   \n",
       "1        2018-01-01         UA               2427    LAS  SFO          1115   \n",
       "7213444  2018-12-31         AA               1818    CLT  RDU          1300   \n",
       "7213445  2018-12-31         AA               1818    RDU  CLT          1435   \n",
       "\n",
       "         DEP_TIME  DEP_DELAY  TAXI_OUT  WHEELS_OFF  WHEELS_ON  TAXI_IN  \\\n",
       "0          1512.0       -5.0      15.0      1527.0     1712.0     10.0   \n",
       "1          1107.0       -8.0      11.0      1118.0     1223.0      7.0   \n",
       "7213444    1323.0       23.0      11.0      1334.0     1400.0      4.0   \n",
       "7213445    1443.0        8.0       8.0      1451.0     1535.0      7.0   \n",
       "\n",
       "         CRS_ARR_TIME  ARR_TIME  ARR_DELAY  CANCELLED CANCELLATION_CODE  \\\n",
       "0                1745    1722.0      -23.0        0.0               NaN   \n",
       "1                1254    1230.0      -24.0        0.0               NaN   \n",
       "7213444          1350    1404.0       14.0        0.0               NaN   \n",
       "7213445          1546    1542.0       -4.0        0.0               NaN   \n",
       "\n",
       "         DIVERTED  CRS_ELAPSED_TIME  ACTUAL_ELAPSED_TIME  AIR_TIME  DISTANCE  \\\n",
       "0             0.0             268.0                250.0     225.0    1605.0   \n",
       "1             0.0              99.0                 83.0      65.0     414.0   \n",
       "7213444       0.0              50.0                 41.0      26.0     130.0   \n",
       "7213445       0.0              71.0                 59.0      44.0     130.0   \n",
       "\n",
       "         CARRIER_DELAY  WEATHER_DELAY  NAS_DELAY  SECURITY_DELAY  \\\n",
       "0                  NaN            NaN        NaN             NaN   \n",
       "1                  NaN            NaN        NaN             NaN   \n",
       "7213444            NaN            NaN        NaN             NaN   \n",
       "7213445            NaN            NaN        NaN             NaN   \n",
       "\n",
       "         LATE_AIRCRAFT_DELAY  Unnamed: 27  \n",
       "0                        NaN          NaN  \n",
       "1                        NaN          NaN  \n",
       "7213444                  NaN          NaN  \n",
       "7213445                  NaN          NaN  "
      ]
     },
     "execution_count": 2,
     "metadata": {},
     "output_type": "execute_result"
    }
   ],
   "source": [
    "df1 = pd.read_csv('2018.csv')\n",
    "df1.head(2).append(df1.tail(2))"
   ]
  },
  {
   "cell_type": "code",
   "execution_count": 3,
   "metadata": {
    "ExecuteTime": {
     "end_time": "2020-10-09T11:56:30.487776Z",
     "start_time": "2020-10-09T11:56:30.484212Z"
    }
   },
   "outputs": [
    {
     "data": {
      "text/plain": [
       "(7213446, 28)"
      ]
     },
     "execution_count": 3,
     "metadata": {},
     "output_type": "execute_result"
    }
   ],
   "source": [
    "df1.shape"
   ]
  },
  {
   "cell_type": "markdown",
   "metadata": {},
   "source": [
    "This is certainly a rather large datasets, so I will look into detail on each feature, missing values, and anything that won't be of use for the project and that can be dropped."
   ]
  },
  {
   "cell_type": "code",
   "execution_count": 4,
   "metadata": {
    "ExecuteTime": {
     "end_time": "2020-10-09T11:56:31.022299Z",
     "start_time": "2020-10-09T11:56:31.014318Z"
    }
   },
   "outputs": [
    {
     "name": "stdout",
     "output_type": "stream",
     "text": [
      "<class 'pandas.core.frame.DataFrame'>\n",
      "RangeIndex: 7213446 entries, 0 to 7213445\n",
      "Data columns (total 28 columns):\n",
      " #   Column               Dtype  \n",
      "---  ------               -----  \n",
      " 0   FL_DATE              object \n",
      " 1   OP_CARRIER           object \n",
      " 2   OP_CARRIER_FL_NUM    int64  \n",
      " 3   ORIGIN               object \n",
      " 4   DEST                 object \n",
      " 5   CRS_DEP_TIME         int64  \n",
      " 6   DEP_TIME             float64\n",
      " 7   DEP_DELAY            float64\n",
      " 8   TAXI_OUT             float64\n",
      " 9   WHEELS_OFF           float64\n",
      " 10  WHEELS_ON            float64\n",
      " 11  TAXI_IN              float64\n",
      " 12  CRS_ARR_TIME         int64  \n",
      " 13  ARR_TIME             float64\n",
      " 14  ARR_DELAY            float64\n",
      " 15  CANCELLED            float64\n",
      " 16  CANCELLATION_CODE    object \n",
      " 17  DIVERTED             float64\n",
      " 18  CRS_ELAPSED_TIME     float64\n",
      " 19  ACTUAL_ELAPSED_TIME  float64\n",
      " 20  AIR_TIME             float64\n",
      " 21  DISTANCE             float64\n",
      " 22  CARRIER_DELAY        float64\n",
      " 23  WEATHER_DELAY        float64\n",
      " 24  NAS_DELAY            float64\n",
      " 25  SECURITY_DELAY       float64\n",
      " 26  LATE_AIRCRAFT_DELAY  float64\n",
      " 27  Unnamed: 27          float64\n",
      "dtypes: float64(20), int64(3), object(5)\n",
      "memory usage: 1.5+ GB\n"
     ]
    }
   ],
   "source": [
    "df1.info()"
   ]
  },
  {
   "cell_type": "markdown",
   "metadata": {},
   "source": [
    "# Glossary\n",
    "\n",
    "<b>FL_DATE</b> = Date of the Flight<br>\n",
    "<b>OP_CARRIER</b> = Airline Identifier<br>\n",
    "<b>OP_CARRIER_FL_NUM</b> = Flight Number<br>\n",
    "<b>ORIGIN</b> = Starting Airport Code<br>\n",
    "<b>DEST</b> = Destination Airport Code<br>\n",
    "<b>CRS_DEP_TIME</b> = Planned Departure Time<br>\n",
    "<b>DEP_TIME</b> = Actual Departure Time<br>\n",
    "<b>DEP_DELAY</b> = Total Delay on Departure in minutes<br>\n",
    "<b>TAXI_OUT</b> = The time duration elapsed between departure from the origin airport gate and wheels off<br>\n",
    "<b>WHEELS_OFF</b> = The time point that the aircraft's wheels leave the ground<br>\n",
    "<b>WHEELS_ON</b> = The time point that the aircraft'ss wheels touch on the ground<br>\n",
    "<b>TAXI_IN</b> = The time duration elapsed between wheels-on and gate arrival at the destination airport<br>\n",
    "<b>CRS_ARR_TIME</b> = Planned arrival time<br>\n",
    "<b>ARR_TIME</b> = Actual Arrival Time = ARRIVAL_TIME - SCHEDULED_ARRIVAL<br>\n",
    "<b>ARR_DELAY</b> = Total Delay on Arrival in minutes<br>\n",
    "<b>CANCELLED</b> = Flight Cancelled (1 = cancelled)<br>\n",
    "<b>CANCELLATION_CODE</b> = Reason for Cancellation of flight: A - Airline/Carrier; B - Weather; C - National Air System; D - Security<br>\n",
    "<b>DIVERTED</b> = Aircraft landed on different airport that the one scheduled<br>\n",
    "<b>CRS_ELAPSED_TIME</b> = Planned time amount needed for the flight trip<br>\n",
    "<b>ACTUAL_ELAPSED_TIME</b> = AIR_TIME+TAXI_IN+TAXI_OUT<br>\n",
    "<b>AIR_TIME</b> = The time duration between wheels_off and wheels_on time<br>\n",
    "<b>DISTANCE</b> = Distance between two airports<br>\n",
    "<b>CARRIER_DELAY</b> = Delay caused by the airline in minutes<br>\n",
    "<b>WEATHER_DELAY</b> = Delay caused by weather<br>\n",
    "<b>NAS_DELAY</b> = Delay caused by air system<br>\n",
    "<b>SECURITY_DELAY</b> = caused by security reasons<br>\n",
    "<b>LATE_AIRCRAFT_DELAY</b> = Delay caused by security<br>\n",
    "\n",
    "Source: <a href=\"https://www.kaggle.com/yuanyuwendymu/airline-delay-and-cancellation-data-2009-2018/version/1?select=2009.csv\">Kaggle</a>\n"
   ]
  },
  {
   "cell_type": "markdown",
   "metadata": {},
   "source": [
    "========================================================================================"
   ]
  },
  {
   "cell_type": "markdown",
   "metadata": {},
   "source": [
    "From the previous quick familiarization, I have the following information which will bee a guide to start woth the EDA\n",
    "\n",
    "<b>Priorities:</b>\n",
    "\n",
    "* Define what I will consider a <b>delayed flight</b>\n",
    "\n",
    "* Rename the Airlines abbreviation (OP_CARRIER) to their original name\n",
    "\n",
    "* Rename the airports (ORIGIN and DEST) with the original city names \n",
    "\n",
    "* Drop any irrelevant column\n",
    "\n",
    "<b>Columns to investigate:</b>\n",
    "\n",
    "* OP_CARRIER_FL_NUM (is it needed while we have the OP_CARRIER?)<br>\n",
    "* CANCELLED >>> <br>\n",
    "* CANCELLATION CODE >>><br>\n",
    "* DIVERTED<br>\n",
    "* CRS_ELAPSEP_TIME<br>\n",
    "* DISTANCE<br>\n",
    "* CARRIER_DELAY<br>\n",
    "* WEATHER_DELAY<br>\n",
    "* NAS_DELAY<br>\n",
    "* SECURITY_DELAY<br>\n",
    "* LATE_AIRCRAFT_DELAY<br>\n",
    "* Unnamed: 27 >>><br>\n",
    "\n",
    "<b>Things to look at:</b>\n",
    "\n",
    "* Parts of the US with the most delayed flights<br>\n",
    "* Is the data properly balanced? most probably it won't be, so I will need to address that<br>\n",
    "* will this be a binary classification or multiple classification problem?<br>"
   ]
  },
  {
   "cell_type": "markdown",
   "metadata": {},
   "source": [
    "# Data Pre-Processing/Cleaning"
   ]
  },
  {
   "cell_type": "markdown",
   "metadata": {},
   "source": [
    "## Data Conditioning"
   ]
  },
  {
   "cell_type": "markdown",
   "metadata": {},
   "source": [
    "### OP_CARRIER"
   ]
  },
  {
   "cell_type": "markdown",
   "metadata": {},
   "source": [
    "The first column that I will concentrate on is the OP_CARRIER which refers to the airline identifier. I will change this to the airlines extended names  \n",
    "\n",
    "The source that I used to find out the extended names was <a href=\"https://en.wikipedia.org/wiki/List_of_airlines_of_the_United_States\">wikipedia</a>\n",
    "\n",
    "\n"
   ]
  },
  {
   "cell_type": "code",
   "execution_count": 5,
   "metadata": {
    "ExecuteTime": {
     "end_time": "2020-10-09T11:56:31.729688Z",
     "start_time": "2020-10-09T11:56:31.544922Z"
    }
   },
   "outputs": [
    {
     "data": {
      "text/plain": [
       "array(['UA', 'AS', '9E', 'B6', 'EV', 'F9', 'G4', 'HA', 'MQ', 'NK', 'OH',\n",
       "       'OO', 'VX', 'WN', 'YV', 'YX', 'AA', 'DL'], dtype=object)"
      ]
     },
     "execution_count": 5,
     "metadata": {},
     "output_type": "execute_result"
    }
   ],
   "source": [
    "df1.OP_CARRIER.unique()"
   ]
  },
  {
   "cell_type": "code",
   "execution_count": 6,
   "metadata": {
    "ExecuteTime": {
     "end_time": "2020-10-09T11:56:36.582577Z",
     "start_time": "2020-10-09T11:56:32.239897Z"
    }
   },
   "outputs": [],
   "source": [
    "df1['OP_CARRIER'].replace({\n",
    "    'UA':'United Airlines',\n",
    "    'AS':'Alaska Airlines',\n",
    "    '9E':'Endeavor Air',\n",
    "    'B6':'JetBlue Airways',\n",
    "    'EV':'ExpressJet',\n",
    "    'F9':'Frontier Airlines',\n",
    "    'G4':'Allegiant Air',\n",
    "    'HA':'Hawaiian Airlines',\n",
    "    'MQ':'Envoy Air',\n",
    "    'NK':'Spirit Airlines',\n",
    "    'OH':'PSA Airlines',\n",
    "    'OO':'SkyWest Airlines',\n",
    "    'VX':'Virgin America',\n",
    "    'WN':'Southwest Airlines',\n",
    "    'YV':'Mesa Airline',\n",
    "    'YX':'Republic Airways',\n",
    "    'AA':'American Airlines',\n",
    "    'DL':'Delta Airlines'\n",
    "}, inplace=True)"
   ]
  },
  {
   "cell_type": "code",
   "execution_count": 7,
   "metadata": {
    "ExecuteTime": {
     "end_time": "2020-10-09T11:56:37.412986Z",
     "start_time": "2020-10-09T11:56:37.098070Z"
    }
   },
   "outputs": [
    {
     "data": {
      "text/plain": [
       "18"
      ]
     },
     "execution_count": 7,
     "metadata": {},
     "output_type": "execute_result"
    }
   ],
   "source": [
    "df1.OP_CARRIER.nunique()"
   ]
  },
  {
   "cell_type": "code",
   "execution_count": 8,
   "metadata": {
    "ExecuteTime": {
     "end_time": "2020-10-09T11:56:38.286015Z",
     "start_time": "2020-10-09T11:56:37.924243Z"
    },
    "scrolled": true
   },
   "outputs": [
    {
     "data": {
      "text/plain": [
       "Southwest Airlines    1352552\n",
       "Delta Airlines         949283\n",
       "American Airlines      916818\n",
       "SkyWest Airlines       774137\n",
       "United Airlines        621565\n",
       "Republic Airways       316090\n",
       "JetBlue Airways        305010\n",
       "Envoy Air              296001\n",
       "PSA Airlines           278457\n",
       "Endeavor Air           245917\n",
       "Alaska Airlines        245761\n",
       "Mesa Airline           215138\n",
       "ExpressJet             202890\n",
       "Spirit Airlines        176178\n",
       "Frontier Airlines      120035\n",
       "Allegiant Air           96221\n",
       "Hawaiian Airlines       83723\n",
       "Virgin America          17670\n",
       "Name: OP_CARRIER, dtype: int64"
      ]
     },
     "execution_count": 8,
     "metadata": {},
     "output_type": "execute_result"
    }
   ],
   "source": [
    "df1.OP_CARRIER.value_counts()"
   ]
  },
  {
   "cell_type": "markdown",
   "metadata": {},
   "source": [
    "### Unnamed: 27"
   ]
  },
  {
   "cell_type": "markdown",
   "metadata": {},
   "source": [
    "This is row 27 which as you can see on the image below, is completely empty:"
   ]
  },
  {
   "cell_type": "code",
   "execution_count": 9,
   "metadata": {
    "ExecuteTime": {
     "end_time": "2020-10-09T11:56:38.846124Z",
     "start_time": "2020-10-09T11:56:38.809966Z"
    },
    "scrolled": true
   },
   "outputs": [
    {
     "data": {
      "text/plain": [
       "0"
      ]
     },
     "execution_count": 9,
     "metadata": {},
     "output_type": "execute_result"
    }
   ],
   "source": [
    "df1[\"Unnamed: 27\"].nunique()"
   ]
  },
  {
   "cell_type": "markdown",
   "metadata": {},
   "source": [
    "On the Kaggle dataset explanation I found that this column has actually 100% of its values missing (Figure below), therefore I will drop it"
   ]
  },
  {
   "cell_type": "markdown",
   "metadata": {
    "ExecuteTime": {
     "end_time": "2020-10-01T16:20:11.645662Z",
     "start_time": "2020-10-01T16:20:11.521533Z"
    }
   },
   "source": [
    "![Figure_2](img/Figure_2.png)"
   ]
  },
  {
   "cell_type": "code",
   "execution_count": 10,
   "metadata": {
    "ExecuteTime": {
     "end_time": "2020-10-09T11:56:40.335959Z",
     "start_time": "2020-10-09T11:56:39.387458Z"
    }
   },
   "outputs": [],
   "source": [
    "df1 = df1.drop([\"Unnamed: 27\"], axis=1)"
   ]
  },
  {
   "cell_type": "markdown",
   "metadata": {},
   "source": [
    "### CANCELLED"
   ]
  },
  {
   "cell_type": "markdown",
   "metadata": {},
   "source": [
    "According to the definition that I gave of a <b>Delayed Flight</b>, a canceled flight is not a delayed flight as it never left nor arrived to its destination for whatever reason. "
   ]
  },
  {
   "cell_type": "code",
   "execution_count": 11,
   "metadata": {
    "ExecuteTime": {
     "end_time": "2020-10-09T11:56:40.882440Z",
     "start_time": "2020-10-09T11:56:40.844614Z"
    }
   },
   "outputs": [
    {
     "data": {
      "text/plain": [
       "2"
      ]
     },
     "execution_count": 11,
     "metadata": {},
     "output_type": "execute_result"
    }
   ],
   "source": [
    "df1.CANCELLED.nunique()"
   ]
  },
  {
   "cell_type": "code",
   "execution_count": 12,
   "metadata": {
    "ExecuteTime": {
     "end_time": "2020-10-09T11:56:41.445506Z",
     "start_time": "2020-10-09T11:56:41.389287Z"
    }
   },
   "outputs": [
    {
     "data": {
      "text/plain": [
       "0.0    7096862\n",
       "1.0     116584\n",
       "Name: CANCELLED, dtype: int64"
      ]
     },
     "execution_count": 12,
     "metadata": {},
     "output_type": "execute_result"
    }
   ],
   "source": [
    "df1.CANCELLED.value_counts()"
   ]
  },
  {
   "cell_type": "markdown",
   "metadata": {},
   "source": [
    "This is a binary column where number 1 equals a canceled flight, and a 0 not canceled, therefore we can drop the flights that were canceled, equivalent to 116584. \n",
    "\n",
    "What I will do to double check that what I'm going to drop is correct, is to create a dummy dataframe that will only have the CANCELLED values equal to 1, and therefore referring to canceled flights. If it works then I will drop those flights."
   ]
  },
  {
   "cell_type": "code",
   "execution_count": 13,
   "metadata": {
    "ExecuteTime": {
     "end_time": "2020-10-09T11:56:42.089318Z",
     "start_time": "2020-10-09T11:56:41.952475Z"
    }
   },
   "outputs": [
    {
     "name": "stdout",
     "output_type": "stream",
     "text": [
      "dummy shape: (116584, 27)\n",
      "====================================\n",
      "dummy dataframe:\n"
     ]
    },
    {
     "data": {
      "text/html": [
       "<div>\n",
       "<style scoped>\n",
       "    .dataframe tbody tr th:only-of-type {\n",
       "        vertical-align: middle;\n",
       "    }\n",
       "\n",
       "    .dataframe tbody tr th {\n",
       "        vertical-align: top;\n",
       "    }\n",
       "\n",
       "    .dataframe thead th {\n",
       "        text-align: right;\n",
       "    }\n",
       "</style>\n",
       "<table border=\"1\" class=\"dataframe\">\n",
       "  <thead>\n",
       "    <tr style=\"text-align: right;\">\n",
       "      <th></th>\n",
       "      <th>FL_DATE</th>\n",
       "      <th>OP_CARRIER</th>\n",
       "      <th>OP_CARRIER_FL_NUM</th>\n",
       "      <th>ORIGIN</th>\n",
       "      <th>DEST</th>\n",
       "      <th>CRS_DEP_TIME</th>\n",
       "      <th>DEP_TIME</th>\n",
       "      <th>DEP_DELAY</th>\n",
       "      <th>TAXI_OUT</th>\n",
       "      <th>WHEELS_OFF</th>\n",
       "      <th>WHEELS_ON</th>\n",
       "      <th>TAXI_IN</th>\n",
       "      <th>CRS_ARR_TIME</th>\n",
       "      <th>ARR_TIME</th>\n",
       "      <th>ARR_DELAY</th>\n",
       "      <th>CANCELLED</th>\n",
       "      <th>CANCELLATION_CODE</th>\n",
       "      <th>DIVERTED</th>\n",
       "      <th>CRS_ELAPSED_TIME</th>\n",
       "      <th>ACTUAL_ELAPSED_TIME</th>\n",
       "      <th>AIR_TIME</th>\n",
       "      <th>DISTANCE</th>\n",
       "      <th>CARRIER_DELAY</th>\n",
       "      <th>WEATHER_DELAY</th>\n",
       "      <th>NAS_DELAY</th>\n",
       "      <th>SECURITY_DELAY</th>\n",
       "      <th>LATE_AIRCRAFT_DELAY</th>\n",
       "    </tr>\n",
       "  </thead>\n",
       "  <tbody>\n",
       "    <tr>\n",
       "      <th>178</th>\n",
       "      <td>2018-01-01</td>\n",
       "      <td>United Airlines</td>\n",
       "      <td>2034</td>\n",
       "      <td>IAH</td>\n",
       "      <td>MFE</td>\n",
       "      <td>1440</td>\n",
       "      <td>NaN</td>\n",
       "      <td>NaN</td>\n",
       "      <td>NaN</td>\n",
       "      <td>NaN</td>\n",
       "      <td>NaN</td>\n",
       "      <td>NaN</td>\n",
       "      <td>1601</td>\n",
       "      <td>NaN</td>\n",
       "      <td>NaN</td>\n",
       "      <td>1.0</td>\n",
       "      <td>B</td>\n",
       "      <td>0.0</td>\n",
       "      <td>81.0</td>\n",
       "      <td>NaN</td>\n",
       "      <td>NaN</td>\n",
       "      <td>316.0</td>\n",
       "      <td>NaN</td>\n",
       "      <td>NaN</td>\n",
       "      <td>NaN</td>\n",
       "      <td>NaN</td>\n",
       "      <td>NaN</td>\n",
       "    </tr>\n",
       "    <tr>\n",
       "      <th>875</th>\n",
       "      <td>2018-01-01</td>\n",
       "      <td>United Airlines</td>\n",
       "      <td>864</td>\n",
       "      <td>LAS</td>\n",
       "      <td>SFO</td>\n",
       "      <td>1744</td>\n",
       "      <td>NaN</td>\n",
       "      <td>NaN</td>\n",
       "      <td>NaN</td>\n",
       "      <td>NaN</td>\n",
       "      <td>NaN</td>\n",
       "      <td>NaN</td>\n",
       "      <td>1926</td>\n",
       "      <td>NaN</td>\n",
       "      <td>NaN</td>\n",
       "      <td>1.0</td>\n",
       "      <td>A</td>\n",
       "      <td>0.0</td>\n",
       "      <td>102.0</td>\n",
       "      <td>NaN</td>\n",
       "      <td>NaN</td>\n",
       "      <td>414.0</td>\n",
       "      <td>NaN</td>\n",
       "      <td>NaN</td>\n",
       "      <td>NaN</td>\n",
       "      <td>NaN</td>\n",
       "      <td>NaN</td>\n",
       "    </tr>\n",
       "    <tr>\n",
       "      <th>1244</th>\n",
       "      <td>2018-01-01</td>\n",
       "      <td>United Airlines</td>\n",
       "      <td>488</td>\n",
       "      <td>MFE</td>\n",
       "      <td>IAH</td>\n",
       "      <td>1726</td>\n",
       "      <td>NaN</td>\n",
       "      <td>NaN</td>\n",
       "      <td>NaN</td>\n",
       "      <td>NaN</td>\n",
       "      <td>NaN</td>\n",
       "      <td>NaN</td>\n",
       "      <td>1844</td>\n",
       "      <td>NaN</td>\n",
       "      <td>NaN</td>\n",
       "      <td>1.0</td>\n",
       "      <td>B</td>\n",
       "      <td>0.0</td>\n",
       "      <td>78.0</td>\n",
       "      <td>NaN</td>\n",
       "      <td>NaN</td>\n",
       "      <td>316.0</td>\n",
       "      <td>NaN</td>\n",
       "      <td>NaN</td>\n",
       "      <td>NaN</td>\n",
       "      <td>NaN</td>\n",
       "      <td>NaN</td>\n",
       "    </tr>\n",
       "    <tr>\n",
       "      <th>7212759</th>\n",
       "      <td>2018-12-31</td>\n",
       "      <td>American Airlines</td>\n",
       "      <td>149</td>\n",
       "      <td>EGE</td>\n",
       "      <td>LAX</td>\n",
       "      <td>1444</td>\n",
       "      <td>NaN</td>\n",
       "      <td>NaN</td>\n",
       "      <td>NaN</td>\n",
       "      <td>NaN</td>\n",
       "      <td>NaN</td>\n",
       "      <td>NaN</td>\n",
       "      <td>1606</td>\n",
       "      <td>NaN</td>\n",
       "      <td>NaN</td>\n",
       "      <td>1.0</td>\n",
       "      <td>B</td>\n",
       "      <td>0.0</td>\n",
       "      <td>142.0</td>\n",
       "      <td>NaN</td>\n",
       "      <td>NaN</td>\n",
       "      <td>748.0</td>\n",
       "      <td>NaN</td>\n",
       "      <td>NaN</td>\n",
       "      <td>NaN</td>\n",
       "      <td>NaN</td>\n",
       "      <td>NaN</td>\n",
       "    </tr>\n",
       "    <tr>\n",
       "      <th>7212772</th>\n",
       "      <td>2018-12-31</td>\n",
       "      <td>American Airlines</td>\n",
       "      <td>165</td>\n",
       "      <td>DFW</td>\n",
       "      <td>EGE</td>\n",
       "      <td>845</td>\n",
       "      <td>836.0</td>\n",
       "      <td>-9.0</td>\n",
       "      <td>10.0</td>\n",
       "      <td>846.0</td>\n",
       "      <td>NaN</td>\n",
       "      <td>NaN</td>\n",
       "      <td>1019</td>\n",
       "      <td>NaN</td>\n",
       "      <td>NaN</td>\n",
       "      <td>1.0</td>\n",
       "      <td>B</td>\n",
       "      <td>0.0</td>\n",
       "      <td>154.0</td>\n",
       "      <td>NaN</td>\n",
       "      <td>NaN</td>\n",
       "      <td>721.0</td>\n",
       "      <td>NaN</td>\n",
       "      <td>NaN</td>\n",
       "      <td>NaN</td>\n",
       "      <td>NaN</td>\n",
       "      <td>NaN</td>\n",
       "    </tr>\n",
       "    <tr>\n",
       "      <th>7212773</th>\n",
       "      <td>2018-12-31</td>\n",
       "      <td>American Airlines</td>\n",
       "      <td>165</td>\n",
       "      <td>EGE</td>\n",
       "      <td>DFW</td>\n",
       "      <td>1059</td>\n",
       "      <td>NaN</td>\n",
       "      <td>NaN</td>\n",
       "      <td>NaN</td>\n",
       "      <td>NaN</td>\n",
       "      <td>NaN</td>\n",
       "      <td>NaN</td>\n",
       "      <td>1410</td>\n",
       "      <td>NaN</td>\n",
       "      <td>NaN</td>\n",
       "      <td>1.0</td>\n",
       "      <td>B</td>\n",
       "      <td>0.0</td>\n",
       "      <td>131.0</td>\n",
       "      <td>NaN</td>\n",
       "      <td>NaN</td>\n",
       "      <td>721.0</td>\n",
       "      <td>NaN</td>\n",
       "      <td>NaN</td>\n",
       "      <td>NaN</td>\n",
       "      <td>NaN</td>\n",
       "      <td>NaN</td>\n",
       "    </tr>\n",
       "  </tbody>\n",
       "</table>\n",
       "</div>"
      ],
      "text/plain": [
       "            FL_DATE         OP_CARRIER  OP_CARRIER_FL_NUM ORIGIN DEST  \\\n",
       "178      2018-01-01    United Airlines               2034    IAH  MFE   \n",
       "875      2018-01-01    United Airlines                864    LAS  SFO   \n",
       "1244     2018-01-01    United Airlines                488    MFE  IAH   \n",
       "7212759  2018-12-31  American Airlines                149    EGE  LAX   \n",
       "7212772  2018-12-31  American Airlines                165    DFW  EGE   \n",
       "7212773  2018-12-31  American Airlines                165    EGE  DFW   \n",
       "\n",
       "         CRS_DEP_TIME  DEP_TIME  DEP_DELAY  TAXI_OUT  WHEELS_OFF  WHEELS_ON  \\\n",
       "178              1440       NaN        NaN       NaN         NaN        NaN   \n",
       "875              1744       NaN        NaN       NaN         NaN        NaN   \n",
       "1244             1726       NaN        NaN       NaN         NaN        NaN   \n",
       "7212759          1444       NaN        NaN       NaN         NaN        NaN   \n",
       "7212772           845     836.0       -9.0      10.0       846.0        NaN   \n",
       "7212773          1059       NaN        NaN       NaN         NaN        NaN   \n",
       "\n",
       "         TAXI_IN  CRS_ARR_TIME  ARR_TIME  ARR_DELAY  CANCELLED  \\\n",
       "178          NaN          1601       NaN        NaN        1.0   \n",
       "875          NaN          1926       NaN        NaN        1.0   \n",
       "1244         NaN          1844       NaN        NaN        1.0   \n",
       "7212759      NaN          1606       NaN        NaN        1.0   \n",
       "7212772      NaN          1019       NaN        NaN        1.0   \n",
       "7212773      NaN          1410       NaN        NaN        1.0   \n",
       "\n",
       "        CANCELLATION_CODE  DIVERTED  CRS_ELAPSED_TIME  ACTUAL_ELAPSED_TIME  \\\n",
       "178                     B       0.0              81.0                  NaN   \n",
       "875                     A       0.0             102.0                  NaN   \n",
       "1244                    B       0.0              78.0                  NaN   \n",
       "7212759                 B       0.0             142.0                  NaN   \n",
       "7212772                 B       0.0             154.0                  NaN   \n",
       "7212773                 B       0.0             131.0                  NaN   \n",
       "\n",
       "         AIR_TIME  DISTANCE  CARRIER_DELAY  WEATHER_DELAY  NAS_DELAY  \\\n",
       "178           NaN     316.0            NaN            NaN        NaN   \n",
       "875           NaN     414.0            NaN            NaN        NaN   \n",
       "1244          NaN     316.0            NaN            NaN        NaN   \n",
       "7212759       NaN     748.0            NaN            NaN        NaN   \n",
       "7212772       NaN     721.0            NaN            NaN        NaN   \n",
       "7212773       NaN     721.0            NaN            NaN        NaN   \n",
       "\n",
       "         SECURITY_DELAY  LATE_AIRCRAFT_DELAY  \n",
       "178                 NaN                  NaN  \n",
       "875                 NaN                  NaN  \n",
       "1244                NaN                  NaN  \n",
       "7212759             NaN                  NaN  \n",
       "7212772             NaN                  NaN  \n",
       "7212773             NaN                  NaN  "
      ]
     },
     "execution_count": 13,
     "metadata": {},
     "output_type": "execute_result"
    }
   ],
   "source": [
    "dummy = df1[(df1['CANCELLED'] == 1)]\n",
    "print('dummy shape:', dummy.shape)\n",
    "print('====================================')\n",
    "print('dummy dataframe:')\n",
    "dummy.head(3).append(dummy.tail(3))"
   ]
  },
  {
   "cell_type": "code",
   "execution_count": 14,
   "metadata": {
    "ExecuteTime": {
     "end_time": "2020-10-09T11:56:42.949238Z",
     "start_time": "2020-10-09T11:56:42.942147Z"
    }
   },
   "outputs": [
    {
     "data": {
      "text/plain": [
       "1"
      ]
     },
     "execution_count": 14,
     "metadata": {},
     "output_type": "execute_result"
    }
   ],
   "source": [
    "dummy.CANCELLED.nunique()"
   ]
  },
  {
   "cell_type": "code",
   "execution_count": 15,
   "metadata": {
    "ExecuteTime": {
     "end_time": "2020-10-09T11:56:43.783463Z",
     "start_time": "2020-10-09T11:56:43.778227Z"
    }
   },
   "outputs": [
    {
     "data": {
      "text/plain": [
       "1.0    116584\n",
       "Name: CANCELLED, dtype: int64"
      ]
     },
     "execution_count": 15,
     "metadata": {},
     "output_type": "execute_result"
    }
   ],
   "source": [
    "dummy.CANCELLED.value_counts()"
   ]
  },
  {
   "cell_type": "markdown",
   "metadata": {},
   "source": [
    "It seems as it did work and that dummy dataframe has only canceled flights, so lets proceed to drop those flights "
   ]
  },
  {
   "cell_type": "code",
   "execution_count": 16,
   "metadata": {
    "ExecuteTime": {
     "end_time": "2020-10-09T11:56:45.907919Z",
     "start_time": "2020-10-09T11:56:44.625125Z"
    }
   },
   "outputs": [
    {
     "data": {
      "text/html": [
       "<div>\n",
       "<style scoped>\n",
       "    .dataframe tbody tr th:only-of-type {\n",
       "        vertical-align: middle;\n",
       "    }\n",
       "\n",
       "    .dataframe tbody tr th {\n",
       "        vertical-align: top;\n",
       "    }\n",
       "\n",
       "    .dataframe thead th {\n",
       "        text-align: right;\n",
       "    }\n",
       "</style>\n",
       "<table border=\"1\" class=\"dataframe\">\n",
       "  <thead>\n",
       "    <tr style=\"text-align: right;\">\n",
       "      <th></th>\n",
       "      <th>FL_DATE</th>\n",
       "      <th>OP_CARRIER</th>\n",
       "      <th>OP_CARRIER_FL_NUM</th>\n",
       "      <th>ORIGIN</th>\n",
       "      <th>DEST</th>\n",
       "      <th>CRS_DEP_TIME</th>\n",
       "      <th>DEP_TIME</th>\n",
       "      <th>DEP_DELAY</th>\n",
       "      <th>TAXI_OUT</th>\n",
       "      <th>WHEELS_OFF</th>\n",
       "      <th>WHEELS_ON</th>\n",
       "      <th>TAXI_IN</th>\n",
       "      <th>CRS_ARR_TIME</th>\n",
       "      <th>ARR_TIME</th>\n",
       "      <th>ARR_DELAY</th>\n",
       "      <th>CANCELLED</th>\n",
       "      <th>CANCELLATION_CODE</th>\n",
       "      <th>DIVERTED</th>\n",
       "      <th>CRS_ELAPSED_TIME</th>\n",
       "      <th>ACTUAL_ELAPSED_TIME</th>\n",
       "      <th>AIR_TIME</th>\n",
       "      <th>DISTANCE</th>\n",
       "      <th>CARRIER_DELAY</th>\n",
       "      <th>WEATHER_DELAY</th>\n",
       "      <th>NAS_DELAY</th>\n",
       "      <th>SECURITY_DELAY</th>\n",
       "      <th>LATE_AIRCRAFT_DELAY</th>\n",
       "    </tr>\n",
       "  </thead>\n",
       "  <tbody>\n",
       "    <tr>\n",
       "      <th>0</th>\n",
       "      <td>2018-01-01</td>\n",
       "      <td>United Airlines</td>\n",
       "      <td>2429</td>\n",
       "      <td>EWR</td>\n",
       "      <td>DEN</td>\n",
       "      <td>1517</td>\n",
       "      <td>1512.0</td>\n",
       "      <td>-5.0</td>\n",
       "      <td>15.0</td>\n",
       "      <td>1527.0</td>\n",
       "      <td>1712.0</td>\n",
       "      <td>10.0</td>\n",
       "      <td>1745</td>\n",
       "      <td>1722.0</td>\n",
       "      <td>-23.0</td>\n",
       "      <td>0.0</td>\n",
       "      <td>NaN</td>\n",
       "      <td>0.0</td>\n",
       "      <td>268.0</td>\n",
       "      <td>250.0</td>\n",
       "      <td>225.0</td>\n",
       "      <td>1605.0</td>\n",
       "      <td>NaN</td>\n",
       "      <td>NaN</td>\n",
       "      <td>NaN</td>\n",
       "      <td>NaN</td>\n",
       "      <td>NaN</td>\n",
       "    </tr>\n",
       "    <tr>\n",
       "      <th>1</th>\n",
       "      <td>2018-01-01</td>\n",
       "      <td>United Airlines</td>\n",
       "      <td>2427</td>\n",
       "      <td>LAS</td>\n",
       "      <td>SFO</td>\n",
       "      <td>1115</td>\n",
       "      <td>1107.0</td>\n",
       "      <td>-8.0</td>\n",
       "      <td>11.0</td>\n",
       "      <td>1118.0</td>\n",
       "      <td>1223.0</td>\n",
       "      <td>7.0</td>\n",
       "      <td>1254</td>\n",
       "      <td>1230.0</td>\n",
       "      <td>-24.0</td>\n",
       "      <td>0.0</td>\n",
       "      <td>NaN</td>\n",
       "      <td>0.0</td>\n",
       "      <td>99.0</td>\n",
       "      <td>83.0</td>\n",
       "      <td>65.0</td>\n",
       "      <td>414.0</td>\n",
       "      <td>NaN</td>\n",
       "      <td>NaN</td>\n",
       "      <td>NaN</td>\n",
       "      <td>NaN</td>\n",
       "      <td>NaN</td>\n",
       "    </tr>\n",
       "  </tbody>\n",
       "</table>\n",
       "</div>"
      ],
      "text/plain": [
       "      FL_DATE       OP_CARRIER  OP_CARRIER_FL_NUM ORIGIN DEST  CRS_DEP_TIME  \\\n",
       "0  2018-01-01  United Airlines               2429    EWR  DEN          1517   \n",
       "1  2018-01-01  United Airlines               2427    LAS  SFO          1115   \n",
       "\n",
       "   DEP_TIME  DEP_DELAY  TAXI_OUT  WHEELS_OFF  WHEELS_ON  TAXI_IN  \\\n",
       "0    1512.0       -5.0      15.0      1527.0     1712.0     10.0   \n",
       "1    1107.0       -8.0      11.0      1118.0     1223.0      7.0   \n",
       "\n",
       "   CRS_ARR_TIME  ARR_TIME  ARR_DELAY  CANCELLED CANCELLATION_CODE  DIVERTED  \\\n",
       "0          1745    1722.0      -23.0        0.0               NaN       0.0   \n",
       "1          1254    1230.0      -24.0        0.0               NaN       0.0   \n",
       "\n",
       "   CRS_ELAPSED_TIME  ACTUAL_ELAPSED_TIME  AIR_TIME  DISTANCE  CARRIER_DELAY  \\\n",
       "0             268.0                250.0     225.0    1605.0            NaN   \n",
       "1              99.0                 83.0      65.0     414.0            NaN   \n",
       "\n",
       "   WEATHER_DELAY  NAS_DELAY  SECURITY_DELAY  LATE_AIRCRAFT_DELAY  \n",
       "0            NaN        NaN             NaN                  NaN  \n",
       "1            NaN        NaN             NaN                  NaN  "
      ]
     },
     "execution_count": 16,
     "metadata": {},
     "output_type": "execute_result"
    }
   ],
   "source": [
    "df1 = df1[(df1['CANCELLED'] == 0)]\n",
    "df1.head(2)"
   ]
  },
  {
   "cell_type": "code",
   "execution_count": 17,
   "metadata": {
    "ExecuteTime": {
     "end_time": "2020-10-09T11:56:47.563690Z",
     "start_time": "2020-10-09T11:56:46.705618Z"
    }
   },
   "outputs": [],
   "source": [
    "df1 = df1.drop(['CANCELLED'], axis = 1) "
   ]
  },
  {
   "cell_type": "code",
   "execution_count": 18,
   "metadata": {
    "ExecuteTime": {
     "end_time": "2020-10-09T11:56:48.395758Z",
     "start_time": "2020-10-09T11:56:48.392403Z"
    }
   },
   "outputs": [
    {
     "data": {
      "text/plain": [
       "(7096862, 26)"
      ]
     },
     "execution_count": 18,
     "metadata": {},
     "output_type": "execute_result"
    }
   ],
   "source": [
    "df1.shape"
   ]
  },
  {
   "cell_type": "markdown",
   "metadata": {},
   "source": [
    "### CANCELLATION_CODE"
   ]
  },
  {
   "cell_type": "code",
   "execution_count": 19,
   "metadata": {
    "ExecuteTime": {
     "end_time": "2020-10-09T11:56:49.465844Z",
     "start_time": "2020-10-09T11:56:49.227739Z"
    }
   },
   "outputs": [
    {
     "data": {
      "text/plain": [
       "0"
      ]
     },
     "execution_count": 19,
     "metadata": {},
     "output_type": "execute_result"
    }
   ],
   "source": [
    "df1.CANCELLATION_CODE.nunique()"
   ]
  },
  {
   "cell_type": "code",
   "execution_count": 20,
   "metadata": {
    "ExecuteTime": {
     "end_time": "2020-10-09T11:56:50.612113Z",
     "start_time": "2020-10-09T11:56:50.299705Z"
    }
   },
   "outputs": [
    {
     "data": {
      "text/plain": [
       "Series([], Name: CANCELLATION_CODE, dtype: int64)"
      ]
     },
     "execution_count": 20,
     "metadata": {},
     "output_type": "execute_result"
    }
   ],
   "source": [
    "df1.CANCELLATION_CODE.value_counts()"
   ]
  },
  {
   "cell_type": "code",
   "execution_count": 21,
   "metadata": {
    "ExecuteTime": {
     "end_time": "2020-10-09T11:56:51.793775Z",
     "start_time": "2020-10-09T11:56:51.523780Z"
    }
   },
   "outputs": [
    {
     "data": {
      "text/plain": [
       "array([nan], dtype=object)"
      ]
     },
     "execution_count": 21,
     "metadata": {},
     "output_type": "execute_result"
    }
   ],
   "source": [
    "df1.CANCELLATION_CODE.unique()"
   ]
  },
  {
   "cell_type": "code",
   "execution_count": 22,
   "metadata": {
    "ExecuteTime": {
     "end_time": "2020-10-09T11:56:52.998422Z",
     "start_time": "2020-10-09T11:56:52.621362Z"
    }
   },
   "outputs": [],
   "source": [
    "CC_A = df1['CANCELLATION_CODE'] == 'A'\n",
    "CC_B = df1['CANCELLATION_CODE'] == 'B'\n",
    "CC_C = df1['CANCELLATION_CODE'] == 'C'\n",
    "CC_D = df1['CANCELLATION_CODE'] == 'D'"
   ]
  },
  {
   "cell_type": "code",
   "execution_count": 23,
   "metadata": {
    "ExecuteTime": {
     "end_time": "2020-10-09T11:56:53.958667Z",
     "start_time": "2020-10-09T11:56:53.950229Z"
    }
   },
   "outputs": [
    {
     "name": "stdout",
     "output_type": "stream",
     "text": [
      "df1_CC_A shape: (0, 26)\n",
      "df1_CC_B shape: (0, 26)\n",
      "df1_CC_C shape: (0, 26)\n",
      "df1_CC_D shape: (0, 26)\n"
     ]
    }
   ],
   "source": [
    "df1_CC_A = df1[CC_A]\n",
    "df1_CC_B = df1[CC_B]\n",
    "df1_CC_C = df1[CC_C]\n",
    "df1_CC_D = df1[CC_D]\n",
    "print('df1_CC_A shape:', df1_CC_A.shape)\n",
    "print('df1_CC_B shape:', df1_CC_B.shape)\n",
    "print('df1_CC_C shape:', df1_CC_C.shape)\n",
    "print('df1_CC_D shape:', df1_CC_D.shape)"
   ]
  },
  {
   "cell_type": "markdown",
   "metadata": {},
   "source": [
    "At this point, with the previous test it is save to assume that the CANCELLATION_CODE column provided in this file is empty. I doubled checked in Kaggle and it is indeed empty. Therefore, the way forward is to drop the column."
   ]
  },
  {
   "cell_type": "code",
   "execution_count": 24,
   "metadata": {
    "ExecuteTime": {
     "end_time": "2020-10-09T11:56:55.864603Z",
     "start_time": "2020-10-09T11:56:54.978805Z"
    }
   },
   "outputs": [],
   "source": [
    "df1 = df1.drop([\"CANCELLATION_CODE\"], axis=1)"
   ]
  },
  {
   "cell_type": "markdown",
   "metadata": {},
   "source": [
    "### ORIGIN & DEST\n",
    "\n",
    "These two column have the IATA airports codes for the origin and destination. I will try to change it to a real city name so that I can do flight analysis per city as well as part of the EDA.\n",
    "\n",
    "For this purpose I found a file called airports from 2015, therefore it might be incomplete so I will have to play with it and see what I can do to complete it.\n",
    "\n",
    "Lets start by loading the file and by exploring it:"
   ]
  },
  {
   "cell_type": "code",
   "execution_count": 25,
   "metadata": {
    "ExecuteTime": {
     "end_time": "2020-10-09T11:56:56.871110Z",
     "start_time": "2020-10-09T11:56:56.857114Z"
    }
   },
   "outputs": [
    {
     "data": {
      "text/html": [
       "<div>\n",
       "<style scoped>\n",
       "    .dataframe tbody tr th:only-of-type {\n",
       "        vertical-align: middle;\n",
       "    }\n",
       "\n",
       "    .dataframe tbody tr th {\n",
       "        vertical-align: top;\n",
       "    }\n",
       "\n",
       "    .dataframe thead th {\n",
       "        text-align: right;\n",
       "    }\n",
       "</style>\n",
       "<table border=\"1\" class=\"dataframe\">\n",
       "  <thead>\n",
       "    <tr style=\"text-align: right;\">\n",
       "      <th></th>\n",
       "      <th>IATA_CODE</th>\n",
       "      <th>AIRPORT</th>\n",
       "      <th>CITY</th>\n",
       "      <th>STATE</th>\n",
       "      <th>COUNTRY</th>\n",
       "      <th>LATITUDE</th>\n",
       "      <th>LONGITUDE</th>\n",
       "    </tr>\n",
       "  </thead>\n",
       "  <tbody>\n",
       "    <tr>\n",
       "      <th>0</th>\n",
       "      <td>ABE</td>\n",
       "      <td>Lehigh Valley International Airport</td>\n",
       "      <td>Allentown</td>\n",
       "      <td>PA</td>\n",
       "      <td>USA</td>\n",
       "      <td>40.65236</td>\n",
       "      <td>-75.44040</td>\n",
       "    </tr>\n",
       "    <tr>\n",
       "      <th>1</th>\n",
       "      <td>ABI</td>\n",
       "      <td>Abilene Regional Airport</td>\n",
       "      <td>Abilene</td>\n",
       "      <td>TX</td>\n",
       "      <td>USA</td>\n",
       "      <td>32.41132</td>\n",
       "      <td>-99.68190</td>\n",
       "    </tr>\n",
       "    <tr>\n",
       "      <th>2</th>\n",
       "      <td>ABQ</td>\n",
       "      <td>Albuquerque International Sunport</td>\n",
       "      <td>Albuquerque</td>\n",
       "      <td>NM</td>\n",
       "      <td>USA</td>\n",
       "      <td>35.04022</td>\n",
       "      <td>-106.60919</td>\n",
       "    </tr>\n",
       "    <tr>\n",
       "      <th>3</th>\n",
       "      <td>ABR</td>\n",
       "      <td>Aberdeen Regional Airport</td>\n",
       "      <td>Aberdeen</td>\n",
       "      <td>SD</td>\n",
       "      <td>USA</td>\n",
       "      <td>45.44906</td>\n",
       "      <td>-98.42183</td>\n",
       "    </tr>\n",
       "    <tr>\n",
       "      <th>4</th>\n",
       "      <td>ABY</td>\n",
       "      <td>Southwest Georgia Regional Airport</td>\n",
       "      <td>Albany</td>\n",
       "      <td>GA</td>\n",
       "      <td>USA</td>\n",
       "      <td>31.53552</td>\n",
       "      <td>-84.19447</td>\n",
       "    </tr>\n",
       "    <tr>\n",
       "      <th>5</th>\n",
       "      <td>ACK</td>\n",
       "      <td>Nantucket Memorial Airport</td>\n",
       "      <td>Nantucket</td>\n",
       "      <td>MA</td>\n",
       "      <td>USA</td>\n",
       "      <td>41.25305</td>\n",
       "      <td>-70.06018</td>\n",
       "    </tr>\n",
       "    <tr>\n",
       "      <th>6</th>\n",
       "      <td>ACT</td>\n",
       "      <td>Waco Regional Airport</td>\n",
       "      <td>Waco</td>\n",
       "      <td>TX</td>\n",
       "      <td>USA</td>\n",
       "      <td>31.61129</td>\n",
       "      <td>-97.23052</td>\n",
       "    </tr>\n",
       "    <tr>\n",
       "      <th>7</th>\n",
       "      <td>ACV</td>\n",
       "      <td>Arcata Airport</td>\n",
       "      <td>Arcata/Eureka</td>\n",
       "      <td>CA</td>\n",
       "      <td>USA</td>\n",
       "      <td>40.97812</td>\n",
       "      <td>-124.10862</td>\n",
       "    </tr>\n",
       "    <tr>\n",
       "      <th>8</th>\n",
       "      <td>ACY</td>\n",
       "      <td>Atlantic City International Airport</td>\n",
       "      <td>Atlantic City</td>\n",
       "      <td>NJ</td>\n",
       "      <td>USA</td>\n",
       "      <td>39.45758</td>\n",
       "      <td>-74.57717</td>\n",
       "    </tr>\n",
       "    <tr>\n",
       "      <th>9</th>\n",
       "      <td>ADK</td>\n",
       "      <td>Adak Airport</td>\n",
       "      <td>Adak</td>\n",
       "      <td>AK</td>\n",
       "      <td>USA</td>\n",
       "      <td>51.87796</td>\n",
       "      <td>-176.64603</td>\n",
       "    </tr>\n",
       "  </tbody>\n",
       "</table>\n",
       "</div>"
      ],
      "text/plain": [
       "  IATA_CODE                              AIRPORT           CITY STATE COUNTRY  \\\n",
       "0       ABE  Lehigh Valley International Airport      Allentown    PA     USA   \n",
       "1       ABI             Abilene Regional Airport        Abilene    TX     USA   \n",
       "2       ABQ    Albuquerque International Sunport    Albuquerque    NM     USA   \n",
       "3       ABR            Aberdeen Regional Airport       Aberdeen    SD     USA   \n",
       "4       ABY   Southwest Georgia Regional Airport         Albany    GA     USA   \n",
       "5       ACK           Nantucket Memorial Airport      Nantucket    MA     USA   \n",
       "6       ACT                Waco Regional Airport           Waco    TX     USA   \n",
       "7       ACV                       Arcata Airport  Arcata/Eureka    CA     USA   \n",
       "8       ACY  Atlantic City International Airport  Atlantic City    NJ     USA   \n",
       "9       ADK                         Adak Airport           Adak    AK     USA   \n",
       "\n",
       "   LATITUDE  LONGITUDE  \n",
       "0  40.65236  -75.44040  \n",
       "1  32.41132  -99.68190  \n",
       "2  35.04022 -106.60919  \n",
       "3  45.44906  -98.42183  \n",
       "4  31.53552  -84.19447  \n",
       "5  41.25305  -70.06018  \n",
       "6  31.61129  -97.23052  \n",
       "7  40.97812 -124.10862  \n",
       "8  39.45758  -74.57717  \n",
       "9  51.87796 -176.64603  "
      ]
     },
     "execution_count": 25,
     "metadata": {},
     "output_type": "execute_result"
    }
   ],
   "source": [
    "airports = pd.read_csv('airports.csv')\n",
    "airports.head(10)"
   ]
  },
  {
   "cell_type": "code",
   "execution_count": 26,
   "metadata": {
    "ExecuteTime": {
     "end_time": "2020-10-09T11:56:58.043249Z",
     "start_time": "2020-10-09T11:56:58.040285Z"
    }
   },
   "outputs": [
    {
     "data": {
      "text/plain": [
       "(322, 7)"
      ]
     },
     "execution_count": 26,
     "metadata": {},
     "output_type": "execute_result"
    }
   ],
   "source": [
    "airports.shape"
   ]
  },
  {
   "cell_type": "code",
   "execution_count": 27,
   "metadata": {
    "ExecuteTime": {
     "end_time": "2020-10-09T11:56:59.199001Z",
     "start_time": "2020-10-09T11:56:59.195444Z"
    },
    "scrolled": true
   },
   "outputs": [
    {
     "data": {
      "text/plain": [
       "322"
      ]
     },
     "execution_count": 27,
     "metadata": {},
     "output_type": "execute_result"
    }
   ],
   "source": [
    "len(airports.IATA_CODE.unique())"
   ]
  },
  {
   "cell_type": "markdown",
   "metadata": {},
   "source": [
    "So as I expected, this list is not complete as it has only 322 unique values whereas the original df1 dataframe has 358. I will need to calculate the difference between both to see with what I am dealing with and if it is doable to fill in the missing ones by doing some research online."
   ]
  },
  {
   "cell_type": "code",
   "execution_count": 28,
   "metadata": {
    "ExecuteTime": {
     "end_time": "2020-10-09T11:57:00.337510Z",
     "start_time": "2020-10-09T11:57:00.334975Z"
    }
   },
   "outputs": [],
   "source": [
    "airport_IATA_CODE = list(airports['IATA_CODE'])"
   ]
  },
  {
   "cell_type": "code",
   "execution_count": 29,
   "metadata": {
    "ExecuteTime": {
     "end_time": "2020-10-09T11:57:01.488771Z",
     "start_time": "2020-10-09T11:57:01.485705Z"
    }
   },
   "outputs": [
    {
     "data": {
      "text/plain": [
       "322"
      ]
     },
     "execution_count": 29,
     "metadata": {},
     "output_type": "execute_result"
    }
   ],
   "source": [
    "len(airport_IATA_CODE)"
   ]
  },
  {
   "cell_type": "markdown",
   "metadata": {},
   "source": [
    "In order for me to do the comparison between the IATA codes from my original df1 frames (columns ORIGIN and DEST), I will have to go through the following workflow:\n",
    "    \n",
    " * Familiarize myself with both columns content <br>\n",
    " * Generate separate numpy arrays containing only the information from the ORIGIN and DEST columns. I should end up with a df_ORIGIN and df_DEST <br>\n",
    " * Convert both numpy arrays to lists<br>\n",
    " * Calculate both lists length<br>\n",
    " * Do the same with the airports dataframes for the IATA_CODE column<br>\n",
    " * Do a two way comparison to determine if any values from the IATA_CODE list should be erased <br>\n",
    " * Proceed to delete any values resulting from the previous step<br>\n",
    " * Fill-in the missing airport IATA CODES using the this <a href=\"https://www.world-airport-codes.com/united-states/wash-county-regional-2805.html\">link</a>, this should create a new .csv file that will be loaded as a dataframe into this notebook<br>\n",
    " * Append the new dataframe to the airports one.\n",
    " "
   ]
  },
  {
   "cell_type": "code",
   "execution_count": 30,
   "metadata": {
    "ExecuteTime": {
     "end_time": "2020-10-09T11:57:02.893330Z",
     "start_time": "2020-10-09T11:57:02.687496Z"
    }
   },
   "outputs": [
    {
     "data": {
      "text/plain": [
       "array(['EWR', 'LAS', 'SNA', 'RSW', 'ORD', 'IAH', 'DEN', 'SMF', 'RIC',\n",
       "       'PDX', 'MCO', 'TYS', 'SFO', 'JAC', 'BOS', 'MSY', 'MIA', 'SEA',\n",
       "       'SAT', 'SLC', 'RDU', 'FLL', 'IAD', 'DFW', 'ANC', 'MSP', 'ALB',\n",
       "       'LAX', 'IND', 'SAN', 'BNA', 'BDL', 'ABQ', 'SAV', 'PHX', 'AUS',\n",
       "       'PHL', 'SJC', 'ORF', 'DCA', 'LGA', 'BWI', 'PIT', 'OGG', 'CLE',\n",
       "       'TPA', 'MYR', 'ROC', 'SJU', 'EGE', 'HNL', 'ONT', 'PBI', 'MKE',\n",
       "       'HDN', 'JAX', 'OKC', 'ATL', 'SRQ', 'BZN', 'EUG', 'BOI', 'RNO',\n",
       "       'GEG', 'TUS', 'LIH', 'KOA', 'ITO', 'PSP', 'DTW', 'GUC', 'OMA',\n",
       "       'MTJ', 'CLT', 'CHS', 'MCI', 'BIL', 'CVG', 'CID', 'MEM', 'AVL',\n",
       "       'BUF', 'GUM', 'JFK', 'ADQ', 'BET', 'SCC', 'BRW', 'FAI', 'JNU',\n",
       "       'KTN', 'SIT', 'PSG', 'OME', 'OTZ', 'BUR', 'OAK', 'BLI', 'SBA',\n",
       "       'STL', 'GFK', 'SYR', 'GSP', 'FSD', 'DSM', 'ILM', 'PWM', 'BIS',\n",
       "       'JAN', 'GRB', 'OAJ', 'BTV', 'TLH', 'LAN', 'MSN', 'BMI', 'BGR',\n",
       "       'ABY', 'MOT', 'DHN', 'LEX', 'MDT', 'CMH', 'FSM', 'HSV', 'FAR',\n",
       "       'BQK', 'GSO', 'CHA', 'AGS', 'MOB', 'MGM', 'CWA', 'TRI', 'CSG',\n",
       "       'TVC', 'VLD', 'PIA', 'LFT', 'GNV', 'FAY', 'AEX', 'EWN', 'CAE',\n",
       "       'ELM', 'GRR', 'DAY', 'ATW', 'HRL', 'LGB', 'HOU', 'STX', 'HPN',\n",
       "       'SWF', 'PVD', 'DAB', 'BQN', 'PSE', 'STT', 'ORH', 'BTR', 'ROW',\n",
       "       'BHM', 'MHK', 'SAF', 'MAF', 'LBB', 'COU', 'GRK', 'MLU', 'AVP',\n",
       "       'LIT', 'FNT', 'SHV', 'TUL', 'EVV', 'XNA', 'VPS', 'ICT', 'SDF',\n",
       "       'ELP', 'ECP', 'GPT', 'CRW', 'SBN', 'CAK', 'LCH', 'AMA', 'CRP',\n",
       "       'PNS', 'COS', 'PHF', 'RST', 'HOB', 'CLL', 'SGF', 'MFE', 'MHT',\n",
       "       'FWA', 'LNK', 'EYW', 'ABE', 'MLI', 'ISP', 'TTN', 'SFB', 'PIE',\n",
       "       'IAG', 'BLV', 'TOL', 'HGR', 'ROA', 'RFD', 'PBG', 'OWB', 'HTS',\n",
       "       'PGD', 'USA', 'LCK', 'MFR', 'AZA', 'GRI', 'FCA', 'RAP', 'OGD',\n",
       "       'PVU', 'YNG', 'CPR', 'MRY', 'FAT', 'SCK', 'GJT', 'SMX', 'PPG',\n",
       "       'SJT', 'SUX', 'JLN', 'CMI', 'ABI', 'GCK', 'TYR', 'ALO', 'SPI',\n",
       "       'GGG', 'SPS', 'MQT', 'DBQ', 'SWO', 'TXK', 'AZO', 'CHO', 'ACT',\n",
       "       'LAW', 'BPT', 'LBE', 'ACY', 'HVN', 'MLB', 'ASE', 'LSE', 'FLG',\n",
       "       'RDM', 'STS', 'YUM', 'DRO', 'MEI', 'PIB', 'SGU', 'IFP', 'DAL',\n",
       "       'PSC', 'SBP', 'SCE', 'COD', 'ERI', 'ITH', 'IMT', 'DLH', 'IDA',\n",
       "       'SUN', 'HLN', 'TWF', 'MBS', 'GTF', 'MDW', 'ISN', 'MSO', 'GTR',\n",
       "       'EAU', 'CKB', 'RKS', 'PUB', 'CGI', 'UIN', 'DVL', 'JMS', 'LAR',\n",
       "       'OTH', 'HYS', 'GCC', 'ACV', 'RDD', 'BFL', 'MMH', 'LWS', 'PIH',\n",
       "       'ABR', 'APN', 'ESC', 'PLN', 'BJI', 'BTM', 'CDC', 'CIU', 'EKO',\n",
       "       'HIB', 'BGM', 'RHI', 'BRD', 'INL', 'BRO', 'LRD', 'PSM', 'CMX',\n",
       "       'MKG', 'PAH', 'YAK', 'CDV', 'WRG', 'OGS', 'STC', 'ADK', 'LYH',\n",
       "       'BFF', 'LBF', 'LBL', 'FLO', 'PGV', 'LWB', 'SHD', 'SLN', 'CNY',\n",
       "       'ACK', 'MVY', 'WYS', 'HYA', 'SPN', 'GST', 'AKN', 'DLG', 'BKG',\n",
       "       'VEL', 'HHH', 'PRC', 'EAR', 'DRT', 'CYS', 'ART'], dtype=object)"
      ]
     },
     "execution_count": 30,
     "metadata": {},
     "output_type": "execute_result"
    }
   ],
   "source": [
    "df1.ORIGIN.unique()"
   ]
  },
  {
   "cell_type": "code",
   "execution_count": 31,
   "metadata": {
    "ExecuteTime": {
     "end_time": "2020-10-09T11:57:04.433759Z",
     "start_time": "2020-10-09T11:57:04.032093Z"
    }
   },
   "outputs": [],
   "source": [
    "df1_ORIGIN = df1.ORIGIN.unique()\n",
    "df1_DEST = df1.DEST.unique()"
   ]
  },
  {
   "cell_type": "code",
   "execution_count": 32,
   "metadata": {
    "ExecuteTime": {
     "end_time": "2020-10-09T11:57:05.578253Z",
     "start_time": "2020-10-09T11:57:05.575138Z"
    }
   },
   "outputs": [
    {
     "name": "stdout",
     "output_type": "stream",
     "text": [
      "<class 'numpy.ndarray'>\n",
      "<class 'numpy.ndarray'>\n"
     ]
    }
   ],
   "source": [
    "print(type(df1_ORIGIN))\n",
    "print(type(df1_DEST))"
   ]
  },
  {
   "cell_type": "code",
   "execution_count": 33,
   "metadata": {
    "ExecuteTime": {
     "end_time": "2020-10-09T11:57:06.758858Z",
     "start_time": "2020-10-09T11:57:06.756611Z"
    }
   },
   "outputs": [],
   "source": [
    "df1_ORIGIN = df1_ORIGIN.tolist()\n",
    "df1_DEST = df1_DEST.tolist()"
   ]
  },
  {
   "cell_type": "code",
   "execution_count": 34,
   "metadata": {
    "ExecuteTime": {
     "end_time": "2020-10-09T11:57:07.913429Z",
     "start_time": "2020-10-09T11:57:07.910493Z"
    }
   },
   "outputs": [
    {
     "name": "stdout",
     "output_type": "stream",
     "text": [
      "<class 'list'>\n",
      "<class 'list'>\n"
     ]
    }
   ],
   "source": [
    "print(type(df1_ORIGIN))\n",
    "print(type(df1_DEST))"
   ]
  },
  {
   "cell_type": "code",
   "execution_count": 35,
   "metadata": {
    "ExecuteTime": {
     "end_time": "2020-10-09T11:57:09.067530Z",
     "start_time": "2020-10-09T11:57:09.064691Z"
    }
   },
   "outputs": [
    {
     "name": "stdout",
     "output_type": "stream",
     "text": [
      "358\n",
      "358\n"
     ]
    }
   ],
   "source": [
    "print(len(df1_ORIGIN))\n",
    "print(len(df1_DEST))"
   ]
  },
  {
   "cell_type": "markdown",
   "metadata": {},
   "source": [
    "So now I have three lists that I will use to compare and find the difference between them. This differences are going to be the airports that I will have to add to the \"airport\" dataframe to then join it with the original df1 dataframe.\n",
    "\n",
    "So let's proceed to compared them and see if I can find the differences between: \n",
    "1. df1_ORIGIN\n",
    "2. df1_DEST\n",
    "3. airport_IATA_CODE"
   ]
  },
  {
   "cell_type": "code",
   "execution_count": 36,
   "metadata": {
    "ExecuteTime": {
     "end_time": "2020-10-09T11:57:10.235755Z",
     "start_time": "2020-10-09T11:57:10.231627Z"
    }
   },
   "outputs": [
    {
     "data": {
      "text/plain": [
       "['CEC', 'CLD', 'DIK', 'ILG', 'UST']"
      ]
     },
     "execution_count": 36,
     "metadata": {},
     "output_type": "execute_result"
    }
   ],
   "source": [
    "# differences between df1_ORIGIN and airport_IATA_CODE\n",
    "difference_1 = [item for item in airport_IATA_CODE if item not in df1_ORIGIN]\n",
    "difference_1"
   ]
  },
  {
   "cell_type": "code",
   "execution_count": 37,
   "metadata": {
    "ExecuteTime": {
     "end_time": "2020-10-09T11:57:11.397381Z",
     "start_time": "2020-10-09T11:57:11.392629Z"
    }
   },
   "outputs": [
    {
     "data": {
      "text/plain": [
       "['SFB',\n",
       " 'PIE',\n",
       " 'BLV',\n",
       " 'HGR',\n",
       " 'RFD',\n",
       " 'OWB',\n",
       " 'HTS',\n",
       " 'PGD',\n",
       " 'USA',\n",
       " 'LCK',\n",
       " 'AZA',\n",
       " 'OGD',\n",
       " 'PVU',\n",
       " 'YNG',\n",
       " 'SCK',\n",
       " 'SWO',\n",
       " 'HVN',\n",
       " 'STS',\n",
       " 'IFP',\n",
       " 'CKB',\n",
       " 'CGI',\n",
       " 'UIN',\n",
       " 'PSM',\n",
       " 'OGS',\n",
       " 'LYH',\n",
       " 'BFF',\n",
       " 'LBF',\n",
       " 'LBL',\n",
       " 'FLO',\n",
       " 'PGV',\n",
       " 'LWB',\n",
       " 'SHD',\n",
       " 'SLN',\n",
       " 'SPN',\n",
       " 'BKG',\n",
       " 'HHH',\n",
       " 'PRC',\n",
       " 'EAR',\n",
       " 'DRT',\n",
       " 'CYS',\n",
       " 'ART']"
      ]
     },
     "execution_count": 37,
     "metadata": {},
     "output_type": "execute_result"
    }
   ],
   "source": [
    "difference_2 = [item for item in df1_ORIGIN if item not in airport_IATA_CODE]\n",
    "difference_2"
   ]
  },
  {
   "cell_type": "code",
   "execution_count": 38,
   "metadata": {
    "ExecuteTime": {
     "end_time": "2020-10-09T11:57:12.545746Z",
     "start_time": "2020-10-09T11:57:12.542504Z"
    }
   },
   "outputs": [
    {
     "data": {
      "text/plain": [
       "41"
      ]
     },
     "execution_count": 38,
     "metadata": {},
     "output_type": "execute_result"
    }
   ],
   "source": [
    "len(difference_2)"
   ]
  },
  {
   "cell_type": "markdown",
   "metadata": {},
   "source": [
    "That 41 corresponds to the number of IATA_CODEs that I will need to find, create a .csv file and load into this notebook"
   ]
  },
  {
   "cell_type": "code",
   "execution_count": 39,
   "metadata": {
    "ExecuteTime": {
     "end_time": "2020-10-09T11:57:13.698868Z",
     "start_time": "2020-10-09T11:57:13.694274Z"
    }
   },
   "outputs": [
    {
     "name": "stdout",
     "output_type": "stream",
     "text": [
      "<class 'list'>\n",
      "<class 'list'>\n"
     ]
    }
   ],
   "source": [
    "difference_3 = [item for item in df1_DEST if item not in airport_IATA_CODE]\n",
    "difference_4 = [item for item in airport_IATA_CODE if item not in df1_DEST]\n",
    "print(type(difference_3))\n",
    "print(type(difference_4))"
   ]
  },
  {
   "cell_type": "code",
   "execution_count": 40,
   "metadata": {
    "ExecuteTime": {
     "end_time": "2020-10-09T11:57:14.867867Z",
     "start_time": "2020-10-09T11:57:14.865109Z"
    }
   },
   "outputs": [
    {
     "name": "stdout",
     "output_type": "stream",
     "text": [
      "['CEC', 'CLD', 'DIK', 'ILG', 'UST']\n",
      "['CEC', 'CLD', 'DIK', 'ILG', 'UST']\n"
     ]
    }
   ],
   "source": [
    "# These are the 5 rows that will need to be eliminated from the original airport_IATA_CODE list/dataframe\n",
    "print(difference_1)\n",
    "print(difference_4)"
   ]
  },
  {
   "cell_type": "markdown",
   "metadata": {},
   "source": [
    "4 lists now to complete the original one called airport_IATA_CODE"
   ]
  },
  {
   "cell_type": "code",
   "execution_count": 41,
   "metadata": {
    "ExecuteTime": {
     "end_time": "2020-10-09T11:57:16.052164Z",
     "start_time": "2020-10-09T11:57:16.048452Z"
    }
   },
   "outputs": [
    {
     "data": {
      "text/plain": [
       "[]"
      ]
     },
     "execution_count": 41,
     "metadata": {},
     "output_type": "execute_result"
    }
   ],
   "source": [
    "# Now let's try to see if the differences between \n",
    "\n",
    "difference_2_3 = [item for item in difference_2 if item not in difference_3]\n",
    "difference_2_3"
   ]
  },
  {
   "cell_type": "markdown",
   "metadata": {},
   "source": [
    "This is good news, as it means that I will only have to remove the 5 rows from difference_1 or difference_4, and then only add the 41 missing airport codes illustrated in either difference_2 or difference_3"
   ]
  },
  {
   "cell_type": "code",
   "execution_count": 42,
   "metadata": {
    "ExecuteTime": {
     "end_time": "2020-10-09T11:57:17.199819Z",
     "start_time": "2020-10-09T11:57:17.189748Z"
    }
   },
   "outputs": [
    {
     "name": "stdout",
     "output_type": "stream",
     "text": [
      "missing_airports type is: <class 'pandas.core.frame.DataFrame'>\n",
      "===============================================================\n",
      "Dataframe difference_2 shape: (41, 1)\n",
      "===============================================================\n"
     ]
    },
    {
     "data": {
      "text/html": [
       "<div>\n",
       "<style scoped>\n",
       "    .dataframe tbody tr th:only-of-type {\n",
       "        vertical-align: middle;\n",
       "    }\n",
       "\n",
       "    .dataframe tbody tr th {\n",
       "        vertical-align: top;\n",
       "    }\n",
       "\n",
       "    .dataframe thead th {\n",
       "        text-align: right;\n",
       "    }\n",
       "</style>\n",
       "<table border=\"1\" class=\"dataframe\">\n",
       "  <thead>\n",
       "    <tr style=\"text-align: right;\">\n",
       "      <th></th>\n",
       "      <th>IATA_CODE</th>\n",
       "    </tr>\n",
       "  </thead>\n",
       "  <tbody>\n",
       "    <tr>\n",
       "      <th>0</th>\n",
       "      <td>SFB</td>\n",
       "    </tr>\n",
       "    <tr>\n",
       "      <th>1</th>\n",
       "      <td>PIE</td>\n",
       "    </tr>\n",
       "    <tr>\n",
       "      <th>2</th>\n",
       "      <td>BLV</td>\n",
       "    </tr>\n",
       "    <tr>\n",
       "      <th>38</th>\n",
       "      <td>DRT</td>\n",
       "    </tr>\n",
       "    <tr>\n",
       "      <th>39</th>\n",
       "      <td>CYS</td>\n",
       "    </tr>\n",
       "    <tr>\n",
       "      <th>40</th>\n",
       "      <td>ART</td>\n",
       "    </tr>\n",
       "  </tbody>\n",
       "</table>\n",
       "</div>"
      ],
      "text/plain": [
       "   IATA_CODE\n",
       "0        SFB\n",
       "1        PIE\n",
       "2        BLV\n",
       "38       DRT\n",
       "39       CYS\n",
       "40       ART"
      ]
     },
     "execution_count": 42,
     "metadata": {},
     "output_type": "execute_result"
    }
   ],
   "source": [
    "missing_airports = pd.DataFrame(difference_2, columns=['IATA_CODE'])\n",
    "print('missing_airports type is:', type(missing_airports))\n",
    "print('===============================================================')\n",
    "print('Dataframe difference_2 shape:', missing_airports.shape)\n",
    "print('===============================================================')\n",
    "missing_airports.head(3).append(missing_airports.tail(3))"
   ]
  },
  {
   "cell_type": "markdown",
   "metadata": {},
   "source": [
    "The next step if to save this dataframe ass a .csv file and to open it in Excel where I will add the necessary columns to make it match with the airports dataframe. These columns are:\n",
    "\n",
    "* Airport Name<br>\n",
    "* City Name<br>\n",
    "* State Name<br>\n",
    "* Country<br>\n",
    "* Latitute<br>\n",
    "* Longitude<br>"
   ]
  },
  {
   "cell_type": "code",
   "execution_count": 43,
   "metadata": {
    "ExecuteTime": {
     "end_time": "2020-10-09T11:57:18.366625Z",
     "start_time": "2020-10-09T11:57:18.361359Z"
    }
   },
   "outputs": [],
   "source": [
    "missing_airports.to_csv('missing_airports.csv')"
   ]
  },
  {
   "cell_type": "markdown",
   "metadata": {},
   "source": [
    "At this point I made a pause to finish the previously described document. Now I will proceed to load it as a .csv, visualize a few of its rows, and finally append it to the original airports dataframe:"
   ]
  },
  {
   "cell_type": "code",
   "execution_count": 44,
   "metadata": {
    "ExecuteTime": {
     "end_time": "2020-10-09T11:57:19.608787Z",
     "start_time": "2020-10-09T11:57:19.565627Z"
    }
   },
   "outputs": [
    {
     "name": "stdout",
     "output_type": "stream",
     "text": [
      "(41, 7)\n"
     ]
    },
    {
     "data": {
      "text/html": [
       "<div>\n",
       "<style scoped>\n",
       "    .dataframe tbody tr th:only-of-type {\n",
       "        vertical-align: middle;\n",
       "    }\n",
       "\n",
       "    .dataframe tbody tr th {\n",
       "        vertical-align: top;\n",
       "    }\n",
       "\n",
       "    .dataframe thead th {\n",
       "        text-align: right;\n",
       "    }\n",
       "</style>\n",
       "<table border=\"1\" class=\"dataframe\">\n",
       "  <thead>\n",
       "    <tr style=\"text-align: right;\">\n",
       "      <th></th>\n",
       "      <th>IATA_CODE</th>\n",
       "      <th>AIRPORT</th>\n",
       "      <th>CITY</th>\n",
       "      <th>STATE</th>\n",
       "      <th>COUNTRY</th>\n",
       "      <th>LATITUDE</th>\n",
       "      <th>LONGITUDE</th>\n",
       "    </tr>\n",
       "  </thead>\n",
       "  <tbody>\n",
       "    <tr>\n",
       "      <th>0</th>\n",
       "      <td>SFB</td>\n",
       "      <td>Orlando Sanford International Airport</td>\n",
       "      <td>Orlando</td>\n",
       "      <td>Florida</td>\n",
       "      <td>USA</td>\n",
       "      <td>28.777599</td>\n",
       "      <td>-81.237503</td>\n",
       "    </tr>\n",
       "    <tr>\n",
       "      <th>1</th>\n",
       "      <td>PIE</td>\n",
       "      <td>St Petersburg Clearwater International Airport</td>\n",
       "      <td>St Petersburg-Clearwater</td>\n",
       "      <td>Florida</td>\n",
       "      <td>USA</td>\n",
       "      <td>27.910200</td>\n",
       "      <td>-82.687401</td>\n",
       "    </tr>\n",
       "    <tr>\n",
       "      <th>2</th>\n",
       "      <td>BLV</td>\n",
       "      <td>Scott AFB/Midamerica Airport</td>\n",
       "      <td>Belleville</td>\n",
       "      <td>Illinois</td>\n",
       "      <td>USA</td>\n",
       "      <td>38.545200</td>\n",
       "      <td>-89.835198</td>\n",
       "    </tr>\n",
       "    <tr>\n",
       "      <th>39</th>\n",
       "      <td>CYS</td>\n",
       "      <td>Cheyenne Regional Jerry Olson Field Airport</td>\n",
       "      <td>Cheyenne</td>\n",
       "      <td>Wyoming</td>\n",
       "      <td>USA</td>\n",
       "      <td>41.155701</td>\n",
       "      <td>-104.811997</td>\n",
       "    </tr>\n",
       "    <tr>\n",
       "      <th>40</th>\n",
       "      <td>ART</td>\n",
       "      <td>Watertown International Airport</td>\n",
       "      <td>Watertown</td>\n",
       "      <td>New York</td>\n",
       "      <td>USA</td>\n",
       "      <td>43.991901</td>\n",
       "      <td>-76.021698</td>\n",
       "    </tr>\n",
       "  </tbody>\n",
       "</table>\n",
       "</div>"
      ],
      "text/plain": [
       "   IATA_CODE                                         AIRPORT  \\\n",
       "0        SFB           Orlando Sanford International Airport   \n",
       "1        PIE  St Petersburg Clearwater International Airport   \n",
       "2        BLV                    Scott AFB/Midamerica Airport   \n",
       "39       CYS     Cheyenne Regional Jerry Olson Field Airport   \n",
       "40       ART                 Watertown International Airport   \n",
       "\n",
       "                        CITY     STATE COUNTRY   LATITUDE   LONGITUDE  \n",
       "0                    Orlando   Florida     USA  28.777599  -81.237503  \n",
       "1   St Petersburg-Clearwater   Florida     USA  27.910200  -82.687401  \n",
       "2                 Belleville  Illinois     USA  38.545200  -89.835198  \n",
       "39                  Cheyenne   Wyoming     USA  41.155701 -104.811997  \n",
       "40                 Watertown  New York     USA  43.991901  -76.021698  "
      ]
     },
     "execution_count": 44,
     "metadata": {},
     "output_type": "execute_result"
    }
   ],
   "source": [
    "missing_airports = pd.read_excel('missing_airports_filled.xlsx', index_col=0)\n",
    "print(missing_airports.shape)\n",
    "missing_airports.head(3).append(missing_airports.tail(2))"
   ]
  },
  {
   "cell_type": "code",
   "execution_count": 45,
   "metadata": {
    "ExecuteTime": {
     "end_time": "2020-10-09T11:57:20.832198Z",
     "start_time": "2020-10-09T11:57:20.822619Z"
    }
   },
   "outputs": [
    {
     "name": "stdout",
     "output_type": "stream",
     "text": [
      "(322, 7)\n"
     ]
    },
    {
     "data": {
      "text/html": [
       "<div>\n",
       "<style scoped>\n",
       "    .dataframe tbody tr th:only-of-type {\n",
       "        vertical-align: middle;\n",
       "    }\n",
       "\n",
       "    .dataframe tbody tr th {\n",
       "        vertical-align: top;\n",
       "    }\n",
       "\n",
       "    .dataframe thead th {\n",
       "        text-align: right;\n",
       "    }\n",
       "</style>\n",
       "<table border=\"1\" class=\"dataframe\">\n",
       "  <thead>\n",
       "    <tr style=\"text-align: right;\">\n",
       "      <th></th>\n",
       "      <th>IATA_CODE</th>\n",
       "      <th>AIRPORT</th>\n",
       "      <th>CITY</th>\n",
       "      <th>STATE</th>\n",
       "      <th>COUNTRY</th>\n",
       "      <th>LATITUDE</th>\n",
       "      <th>LONGITUDE</th>\n",
       "    </tr>\n",
       "  </thead>\n",
       "  <tbody>\n",
       "    <tr>\n",
       "      <th>0</th>\n",
       "      <td>ABE</td>\n",
       "      <td>Lehigh Valley International Airport</td>\n",
       "      <td>Allentown</td>\n",
       "      <td>PA</td>\n",
       "      <td>USA</td>\n",
       "      <td>40.65236</td>\n",
       "      <td>-75.44040</td>\n",
       "    </tr>\n",
       "    <tr>\n",
       "      <th>1</th>\n",
       "      <td>ABI</td>\n",
       "      <td>Abilene Regional Airport</td>\n",
       "      <td>Abilene</td>\n",
       "      <td>TX</td>\n",
       "      <td>USA</td>\n",
       "      <td>32.41132</td>\n",
       "      <td>-99.68190</td>\n",
       "    </tr>\n",
       "    <tr>\n",
       "      <th>2</th>\n",
       "      <td>ABQ</td>\n",
       "      <td>Albuquerque International Sunport</td>\n",
       "      <td>Albuquerque</td>\n",
       "      <td>NM</td>\n",
       "      <td>USA</td>\n",
       "      <td>35.04022</td>\n",
       "      <td>-106.60919</td>\n",
       "    </tr>\n",
       "  </tbody>\n",
       "</table>\n",
       "</div>"
      ],
      "text/plain": [
       "  IATA_CODE                              AIRPORT         CITY STATE COUNTRY  \\\n",
       "0       ABE  Lehigh Valley International Airport    Allentown    PA     USA   \n",
       "1       ABI             Abilene Regional Airport      Abilene    TX     USA   \n",
       "2       ABQ    Albuquerque International Sunport  Albuquerque    NM     USA   \n",
       "\n",
       "   LATITUDE  LONGITUDE  \n",
       "0  40.65236  -75.44040  \n",
       "1  32.41132  -99.68190  \n",
       "2  35.04022 -106.60919  "
      ]
     },
     "execution_count": 45,
     "metadata": {},
     "output_type": "execute_result"
    }
   ],
   "source": [
    "print(airports.shape)\n",
    "airports.head(3)"
   ]
  },
  {
   "cell_type": "markdown",
   "metadata": {},
   "source": [
    "I will proceed to delete the 5 IATA codes from those airports not in the df1 dataframe"
   ]
  },
  {
   "cell_type": "code",
   "execution_count": 46,
   "metadata": {
    "ExecuteTime": {
     "end_time": "2020-10-09T11:57:22.057381Z",
     "start_time": "2020-10-09T11:57:22.051467Z"
    }
   },
   "outputs": [],
   "source": [
    "airports = airports[airports.IATA_CODE != 'CEC']\n",
    "airports = airports[airports.IATA_CODE != 'CLD']\n",
    "airports = airports[airports.IATA_CODE != 'DIK']\n",
    "airports = airports[airports.IATA_CODE != 'ILG']\n",
    "airports = airports[airports.IATA_CODE != 'UST']"
   ]
  },
  {
   "cell_type": "code",
   "execution_count": 47,
   "metadata": {
    "ExecuteTime": {
     "end_time": "2020-10-09T11:57:23.325721Z",
     "start_time": "2020-10-09T11:57:23.322499Z"
    }
   },
   "outputs": [
    {
     "data": {
      "text/plain": [
       "(317, 7)"
      ]
     },
     "execution_count": 47,
     "metadata": {},
     "output_type": "execute_result"
    }
   ],
   "source": [
    "airports.shape"
   ]
  },
  {
   "cell_type": "code",
   "execution_count": 48,
   "metadata": {
    "ExecuteTime": {
     "end_time": "2020-10-09T11:57:24.633396Z",
     "start_time": "2020-10-09T11:57:24.628988Z"
    }
   },
   "outputs": [
    {
     "data": {
      "text/plain": [
       "(358, 7)"
      ]
     },
     "execution_count": 48,
     "metadata": {},
     "output_type": "execute_result"
    }
   ],
   "source": [
    "# Appending the missing_airports dataframe to the larger airports dataframe\n",
    "AIRPORTS = airports.append(missing_airports, ignore_index=True)\n",
    "AIRPORTS.shape"
   ]
  },
  {
   "cell_type": "markdown",
   "metadata": {},
   "source": [
    "This seems great as we have a match between the number of IATA_CODEs (358) on the ORIGIN and DEST columns from the df1 dataframe"
   ]
  },
  {
   "cell_type": "code",
   "execution_count": 49,
   "metadata": {
    "ExecuteTime": {
     "end_time": "2020-10-09T11:57:25.989783Z",
     "start_time": "2020-10-09T11:57:25.979796Z"
    }
   },
   "outputs": [
    {
     "data": {
      "text/html": [
       "<div>\n",
       "<style scoped>\n",
       "    .dataframe tbody tr th:only-of-type {\n",
       "        vertical-align: middle;\n",
       "    }\n",
       "\n",
       "    .dataframe tbody tr th {\n",
       "        vertical-align: top;\n",
       "    }\n",
       "\n",
       "    .dataframe thead th {\n",
       "        text-align: right;\n",
       "    }\n",
       "</style>\n",
       "<table border=\"1\" class=\"dataframe\">\n",
       "  <thead>\n",
       "    <tr style=\"text-align: right;\">\n",
       "      <th></th>\n",
       "      <th>IATA_CODE</th>\n",
       "      <th>AIRPORT</th>\n",
       "      <th>CITY</th>\n",
       "      <th>STATE</th>\n",
       "      <th>COUNTRY</th>\n",
       "      <th>LATITUDE</th>\n",
       "      <th>LONGITUDE</th>\n",
       "    </tr>\n",
       "  </thead>\n",
       "  <tbody>\n",
       "    <tr>\n",
       "      <th>0</th>\n",
       "      <td>ABE</td>\n",
       "      <td>Lehigh Valley International Airport</td>\n",
       "      <td>Allentown</td>\n",
       "      <td>PA</td>\n",
       "      <td>USA</td>\n",
       "      <td>40.652360</td>\n",
       "      <td>-75.440400</td>\n",
       "    </tr>\n",
       "    <tr>\n",
       "      <th>1</th>\n",
       "      <td>ABI</td>\n",
       "      <td>Abilene Regional Airport</td>\n",
       "      <td>Abilene</td>\n",
       "      <td>TX</td>\n",
       "      <td>USA</td>\n",
       "      <td>32.411320</td>\n",
       "      <td>-99.681900</td>\n",
       "    </tr>\n",
       "    <tr>\n",
       "      <th>356</th>\n",
       "      <td>CYS</td>\n",
       "      <td>Cheyenne Regional Jerry Olson Field Airport</td>\n",
       "      <td>Cheyenne</td>\n",
       "      <td>Wyoming</td>\n",
       "      <td>USA</td>\n",
       "      <td>41.155701</td>\n",
       "      <td>-104.811997</td>\n",
       "    </tr>\n",
       "    <tr>\n",
       "      <th>357</th>\n",
       "      <td>ART</td>\n",
       "      <td>Watertown International Airport</td>\n",
       "      <td>Watertown</td>\n",
       "      <td>New York</td>\n",
       "      <td>USA</td>\n",
       "      <td>43.991901</td>\n",
       "      <td>-76.021698</td>\n",
       "    </tr>\n",
       "  </tbody>\n",
       "</table>\n",
       "</div>"
      ],
      "text/plain": [
       "    IATA_CODE                                      AIRPORT       CITY  \\\n",
       "0         ABE          Lehigh Valley International Airport  Allentown   \n",
       "1         ABI                     Abilene Regional Airport    Abilene   \n",
       "356       CYS  Cheyenne Regional Jerry Olson Field Airport   Cheyenne   \n",
       "357       ART              Watertown International Airport  Watertown   \n",
       "\n",
       "        STATE COUNTRY   LATITUDE   LONGITUDE  \n",
       "0          PA     USA  40.652360  -75.440400  \n",
       "1          TX     USA  32.411320  -99.681900  \n",
       "356   Wyoming     USA  41.155701 -104.811997  \n",
       "357  New York     USA  43.991901  -76.021698  "
      ]
     },
     "execution_count": 49,
     "metadata": {},
     "output_type": "execute_result"
    }
   ],
   "source": [
    "# Now a quick visualization of the first and last 2 rows\n",
    "AIRPORTS.head(2).append(AIRPORTS.tail(2))"
   ]
  },
  {
   "cell_type": "markdown",
   "metadata": {},
   "source": [
    "While I was creating externally the new dataframe with the missing 41 airports/IATA codes, I realized that some cities were repeated. Repeated, means that there are more than 1 airport in 1 city, therefore the number of unique values for CITY should be less than 358, how many? I am not sure but we can quickly check:"
   ]
  },
  {
   "cell_type": "code",
   "execution_count": 50,
   "metadata": {
    "ExecuteTime": {
     "end_time": "2020-10-09T11:57:27.316923Z",
     "start_time": "2020-10-09T11:57:27.312636Z"
    }
   },
   "outputs": [
    {
     "name": "stdout",
     "output_type": "stream",
     "text": [
      "Number of cities with at least one airport: 342\n",
      "================================================\n",
      "Total number of airports: 358\n",
      "================================================\n"
     ]
    }
   ],
   "source": [
    "print('Number of cities with at least one airport:', AIRPORTS.CITY.nunique())\n",
    "print('================================================')\n",
    "print('Total number of airports:', AIRPORTS.IATA_CODE.nunique())\n",
    "print('================================================')"
   ]
  },
  {
   "cell_type": "markdown",
   "metadata": {},
   "source": [
    "Perfect! all seems to be working so far and there are a total of 342 different cities, but a total of 358 IATA codes!"
   ]
  },
  {
   "cell_type": "markdown",
   "metadata": {},
   "source": [
    "Now, the next step is to create a dictionary so that I can used it to replace the IATA_CODEs for ORIGIN and DEST on the df1 dataframe:"
   ]
  },
  {
   "cell_type": "code",
   "execution_count": 51,
   "metadata": {
    "ExecuteTime": {
     "end_time": "2020-10-09T11:57:28.693076Z",
     "start_time": "2020-10-09T11:57:28.689815Z"
    },
    "scrolled": true
   },
   "outputs": [
    {
     "name": "stdout",
     "output_type": "stream",
     "text": [
      "<class 'dict'>\n"
     ]
    }
   ],
   "source": [
    "# Creating a dictionary and looking at its type for QC purposes\n",
    "airport_dict = pd.Series(AIRPORTS.CITY.values, index=AIRPORTS.IATA_CODE).to_dict()\n",
    "print(type(airport_dict))"
   ]
  },
  {
   "cell_type": "markdown",
   "metadata": {},
   "source": [
    "With our dictionary created, we will use it to replace all of the ORIGIN and DEST IATA_CODEs and then I will display the first and last 3 rows"
   ]
  },
  {
   "cell_type": "code",
   "execution_count": 52,
   "metadata": {
    "ExecuteTime": {
     "end_time": "2020-10-09T12:00:14.409288Z",
     "start_time": "2020-10-09T11:57:30.021054Z"
    }
   },
   "outputs": [
    {
     "data": {
      "text/html": [
       "<div>\n",
       "<style scoped>\n",
       "    .dataframe tbody tr th:only-of-type {\n",
       "        vertical-align: middle;\n",
       "    }\n",
       "\n",
       "    .dataframe tbody tr th {\n",
       "        vertical-align: top;\n",
       "    }\n",
       "\n",
       "    .dataframe thead th {\n",
       "        text-align: right;\n",
       "    }\n",
       "</style>\n",
       "<table border=\"1\" class=\"dataframe\">\n",
       "  <thead>\n",
       "    <tr style=\"text-align: right;\">\n",
       "      <th></th>\n",
       "      <th>FL_DATE</th>\n",
       "      <th>OP_CARRIER</th>\n",
       "      <th>OP_CARRIER_FL_NUM</th>\n",
       "      <th>ORIGIN</th>\n",
       "      <th>DEST</th>\n",
       "      <th>CRS_DEP_TIME</th>\n",
       "      <th>DEP_TIME</th>\n",
       "      <th>DEP_DELAY</th>\n",
       "      <th>TAXI_OUT</th>\n",
       "      <th>WHEELS_OFF</th>\n",
       "      <th>WHEELS_ON</th>\n",
       "      <th>TAXI_IN</th>\n",
       "      <th>CRS_ARR_TIME</th>\n",
       "      <th>ARR_TIME</th>\n",
       "      <th>ARR_DELAY</th>\n",
       "      <th>DIVERTED</th>\n",
       "      <th>CRS_ELAPSED_TIME</th>\n",
       "      <th>ACTUAL_ELAPSED_TIME</th>\n",
       "      <th>AIR_TIME</th>\n",
       "      <th>DISTANCE</th>\n",
       "      <th>CARRIER_DELAY</th>\n",
       "      <th>WEATHER_DELAY</th>\n",
       "      <th>NAS_DELAY</th>\n",
       "      <th>SECURITY_DELAY</th>\n",
       "      <th>LATE_AIRCRAFT_DELAY</th>\n",
       "    </tr>\n",
       "  </thead>\n",
       "  <tbody>\n",
       "    <tr>\n",
       "      <th>0</th>\n",
       "      <td>2018-01-01</td>\n",
       "      <td>United Airlines</td>\n",
       "      <td>2429</td>\n",
       "      <td>Newark</td>\n",
       "      <td>Denver</td>\n",
       "      <td>1517</td>\n",
       "      <td>1512.0</td>\n",
       "      <td>-5.0</td>\n",
       "      <td>15.0</td>\n",
       "      <td>1527.0</td>\n",
       "      <td>1712.0</td>\n",
       "      <td>10.0</td>\n",
       "      <td>1745</td>\n",
       "      <td>1722.0</td>\n",
       "      <td>-23.0</td>\n",
       "      <td>0.0</td>\n",
       "      <td>268.0</td>\n",
       "      <td>250.0</td>\n",
       "      <td>225.0</td>\n",
       "      <td>1605.0</td>\n",
       "      <td>NaN</td>\n",
       "      <td>NaN</td>\n",
       "      <td>NaN</td>\n",
       "      <td>NaN</td>\n",
       "      <td>NaN</td>\n",
       "    </tr>\n",
       "    <tr>\n",
       "      <th>1</th>\n",
       "      <td>2018-01-01</td>\n",
       "      <td>United Airlines</td>\n",
       "      <td>2427</td>\n",
       "      <td>Las Vegas</td>\n",
       "      <td>San Francisco</td>\n",
       "      <td>1115</td>\n",
       "      <td>1107.0</td>\n",
       "      <td>-8.0</td>\n",
       "      <td>11.0</td>\n",
       "      <td>1118.0</td>\n",
       "      <td>1223.0</td>\n",
       "      <td>7.0</td>\n",
       "      <td>1254</td>\n",
       "      <td>1230.0</td>\n",
       "      <td>-24.0</td>\n",
       "      <td>0.0</td>\n",
       "      <td>99.0</td>\n",
       "      <td>83.0</td>\n",
       "      <td>65.0</td>\n",
       "      <td>414.0</td>\n",
       "      <td>NaN</td>\n",
       "      <td>NaN</td>\n",
       "      <td>NaN</td>\n",
       "      <td>NaN</td>\n",
       "      <td>NaN</td>\n",
       "    </tr>\n",
       "    <tr>\n",
       "      <th>2</th>\n",
       "      <td>2018-01-01</td>\n",
       "      <td>United Airlines</td>\n",
       "      <td>2426</td>\n",
       "      <td>Santa Ana</td>\n",
       "      <td>Denver</td>\n",
       "      <td>1335</td>\n",
       "      <td>1330.0</td>\n",
       "      <td>-5.0</td>\n",
       "      <td>15.0</td>\n",
       "      <td>1345.0</td>\n",
       "      <td>1631.0</td>\n",
       "      <td>5.0</td>\n",
       "      <td>1649</td>\n",
       "      <td>1636.0</td>\n",
       "      <td>-13.0</td>\n",
       "      <td>0.0</td>\n",
       "      <td>134.0</td>\n",
       "      <td>126.0</td>\n",
       "      <td>106.0</td>\n",
       "      <td>846.0</td>\n",
       "      <td>NaN</td>\n",
       "      <td>NaN</td>\n",
       "      <td>NaN</td>\n",
       "      <td>NaN</td>\n",
       "      <td>NaN</td>\n",
       "    </tr>\n",
       "    <tr>\n",
       "      <th>7213443</th>\n",
       "      <td>2018-12-31</td>\n",
       "      <td>American Airlines</td>\n",
       "      <td>1817</td>\n",
       "      <td>Charlotte</td>\n",
       "      <td>Memphis</td>\n",
       "      <td>2015</td>\n",
       "      <td>2010.0</td>\n",
       "      <td>-5.0</td>\n",
       "      <td>36.0</td>\n",
       "      <td>2046.0</td>\n",
       "      <td>2114.0</td>\n",
       "      <td>4.0</td>\n",
       "      <td>2107</td>\n",
       "      <td>2118.0</td>\n",
       "      <td>11.0</td>\n",
       "      <td>0.0</td>\n",
       "      <td>112.0</td>\n",
       "      <td>128.0</td>\n",
       "      <td>88.0</td>\n",
       "      <td>511.0</td>\n",
       "      <td>NaN</td>\n",
       "      <td>NaN</td>\n",
       "      <td>NaN</td>\n",
       "      <td>NaN</td>\n",
       "      <td>NaN</td>\n",
       "    </tr>\n",
       "    <tr>\n",
       "      <th>7213444</th>\n",
       "      <td>2018-12-31</td>\n",
       "      <td>American Airlines</td>\n",
       "      <td>1818</td>\n",
       "      <td>Charlotte</td>\n",
       "      <td>Raleigh</td>\n",
       "      <td>1300</td>\n",
       "      <td>1323.0</td>\n",
       "      <td>23.0</td>\n",
       "      <td>11.0</td>\n",
       "      <td>1334.0</td>\n",
       "      <td>1400.0</td>\n",
       "      <td>4.0</td>\n",
       "      <td>1350</td>\n",
       "      <td>1404.0</td>\n",
       "      <td>14.0</td>\n",
       "      <td>0.0</td>\n",
       "      <td>50.0</td>\n",
       "      <td>41.0</td>\n",
       "      <td>26.0</td>\n",
       "      <td>130.0</td>\n",
       "      <td>NaN</td>\n",
       "      <td>NaN</td>\n",
       "      <td>NaN</td>\n",
       "      <td>NaN</td>\n",
       "      <td>NaN</td>\n",
       "    </tr>\n",
       "    <tr>\n",
       "      <th>7213445</th>\n",
       "      <td>2018-12-31</td>\n",
       "      <td>American Airlines</td>\n",
       "      <td>1818</td>\n",
       "      <td>Raleigh</td>\n",
       "      <td>Charlotte</td>\n",
       "      <td>1435</td>\n",
       "      <td>1443.0</td>\n",
       "      <td>8.0</td>\n",
       "      <td>8.0</td>\n",
       "      <td>1451.0</td>\n",
       "      <td>1535.0</td>\n",
       "      <td>7.0</td>\n",
       "      <td>1546</td>\n",
       "      <td>1542.0</td>\n",
       "      <td>-4.0</td>\n",
       "      <td>0.0</td>\n",
       "      <td>71.0</td>\n",
       "      <td>59.0</td>\n",
       "      <td>44.0</td>\n",
       "      <td>130.0</td>\n",
       "      <td>NaN</td>\n",
       "      <td>NaN</td>\n",
       "      <td>NaN</td>\n",
       "      <td>NaN</td>\n",
       "      <td>NaN</td>\n",
       "    </tr>\n",
       "  </tbody>\n",
       "</table>\n",
       "</div>"
      ],
      "text/plain": [
       "            FL_DATE         OP_CARRIER  OP_CARRIER_FL_NUM     ORIGIN  \\\n",
       "0        2018-01-01    United Airlines               2429     Newark   \n",
       "1        2018-01-01    United Airlines               2427  Las Vegas   \n",
       "2        2018-01-01    United Airlines               2426  Santa Ana   \n",
       "7213443  2018-12-31  American Airlines               1817  Charlotte   \n",
       "7213444  2018-12-31  American Airlines               1818  Charlotte   \n",
       "7213445  2018-12-31  American Airlines               1818    Raleigh   \n",
       "\n",
       "                  DEST  CRS_DEP_TIME  DEP_TIME  DEP_DELAY  TAXI_OUT  \\\n",
       "0               Denver          1517    1512.0       -5.0      15.0   \n",
       "1        San Francisco          1115    1107.0       -8.0      11.0   \n",
       "2               Denver          1335    1330.0       -5.0      15.0   \n",
       "7213443        Memphis          2015    2010.0       -5.0      36.0   \n",
       "7213444        Raleigh          1300    1323.0       23.0      11.0   \n",
       "7213445      Charlotte          1435    1443.0        8.0       8.0   \n",
       "\n",
       "         WHEELS_OFF  WHEELS_ON  TAXI_IN  CRS_ARR_TIME  ARR_TIME  ARR_DELAY  \\\n",
       "0            1527.0     1712.0     10.0          1745    1722.0      -23.0   \n",
       "1            1118.0     1223.0      7.0          1254    1230.0      -24.0   \n",
       "2            1345.0     1631.0      5.0          1649    1636.0      -13.0   \n",
       "7213443      2046.0     2114.0      4.0          2107    2118.0       11.0   \n",
       "7213444      1334.0     1400.0      4.0          1350    1404.0       14.0   \n",
       "7213445      1451.0     1535.0      7.0          1546    1542.0       -4.0   \n",
       "\n",
       "         DIVERTED  CRS_ELAPSED_TIME  ACTUAL_ELAPSED_TIME  AIR_TIME  DISTANCE  \\\n",
       "0             0.0             268.0                250.0     225.0    1605.0   \n",
       "1             0.0              99.0                 83.0      65.0     414.0   \n",
       "2             0.0             134.0                126.0     106.0     846.0   \n",
       "7213443       0.0             112.0                128.0      88.0     511.0   \n",
       "7213444       0.0              50.0                 41.0      26.0     130.0   \n",
       "7213445       0.0              71.0                 59.0      44.0     130.0   \n",
       "\n",
       "         CARRIER_DELAY  WEATHER_DELAY  NAS_DELAY  SECURITY_DELAY  \\\n",
       "0                  NaN            NaN        NaN             NaN   \n",
       "1                  NaN            NaN        NaN             NaN   \n",
       "2                  NaN            NaN        NaN             NaN   \n",
       "7213443            NaN            NaN        NaN             NaN   \n",
       "7213444            NaN            NaN        NaN             NaN   \n",
       "7213445            NaN            NaN        NaN             NaN   \n",
       "\n",
       "         LATE_AIRCRAFT_DELAY  \n",
       "0                        NaN  \n",
       "1                        NaN  \n",
       "2                        NaN  \n",
       "7213443                  NaN  \n",
       "7213444                  NaN  \n",
       "7213445                  NaN  "
      ]
     },
     "execution_count": 52,
     "metadata": {},
     "output_type": "execute_result"
    }
   ],
   "source": [
    "df1['ORIGIN'].replace(airport_dict, inplace=True)\n",
    "df1['DEST'].replace(airport_dict, inplace=True)\n",
    "df1.head(3).append(df1.tail(3))"
   ]
  },
  {
   "cell_type": "markdown",
   "metadata": {},
   "source": [
    "As we can see from the previous cell, I have successfully changed the IATA codes for the ORIGIN AND DESTINATION columns. Let's quickly double check the number of unique values for each one, but remember that there should not be 358 unique values, but 342 as that is the total number of different cities and not airports:"
   ]
  },
  {
   "cell_type": "code",
   "execution_count": 53,
   "metadata": {
    "ExecuteTime": {
     "end_time": "2020-10-09T12:00:16.229254Z",
     "start_time": "2020-10-09T12:00:15.721712Z"
    }
   },
   "outputs": [
    {
     "name": "stdout",
     "output_type": "stream",
     "text": [
      "Total number of departure/origin cities: 342\n",
      "==================================================\n",
      "Total number of arrivals/destinations cities: 342\n",
      "==================================================\n"
     ]
    }
   ],
   "source": [
    "print('Total number of departure/origin cities:', df1.ORIGIN.nunique())\n",
    "print('==================================================')\n",
    "print('Total number of arrivals/destinations cities:', df1.DEST.nunique())\n",
    "print('==================================================')"
   ]
  },
  {
   "cell_type": "markdown",
   "metadata": {},
   "source": [
    "### DIVERTED"
   ]
  },
  {
   "cell_type": "markdown",
   "metadata": {},
   "source": [
    "As a reminder, a DIVERTED flight is one that the plane has landed in a different airport than the one scheduled. This is normally temporary and the airline has the responsibility of taking passengers to their final destination without any extra cost. Therefore this is considered a delayed flight. \n",
    "\n",
    "By doing a value counts we will see what type of values this feature contains:"
   ]
  },
  {
   "cell_type": "code",
   "execution_count": 54,
   "metadata": {
    "ExecuteTime": {
     "end_time": "2020-10-09T12:00:17.629443Z",
     "start_time": "2020-10-09T12:00:17.582501Z"
    }
   },
   "outputs": [
    {
     "data": {
      "text/plain": [
       "0.0    7079005\n",
       "1.0      17857\n",
       "Name: DIVERTED, dtype: int64"
      ]
     },
     "execution_count": 54,
     "metadata": {},
     "output_type": "execute_result"
    }
   ],
   "source": [
    "df1.DIVERTED.value_counts()"
   ]
  },
  {
   "cell_type": "markdown",
   "metadata": {},
   "source": [
    "It is clear that this is a binary feature, with 0 and 1, but I'm not sure what neither value means yet so I will need to analyze the entire column. The number of 1(es) is a lot smaller than the 0(es) so probably that is the way to go. \n",
    "\n",
    "I will create a separate dataframe with only the columns where DIVERTED == 1 and then try to understand it based on the flight delays. \n"
   ]
  },
  {
   "cell_type": "code",
   "execution_count": 55,
   "metadata": {
    "ExecuteTime": {
     "end_time": "2020-10-09T12:00:19.003135Z",
     "start_time": "2020-10-09T12:00:18.995661Z"
    }
   },
   "outputs": [],
   "source": [
    "DIVERTED_1 = df1['DIVERTED']==1"
   ]
  },
  {
   "cell_type": "code",
   "execution_count": 56,
   "metadata": {
    "ExecuteTime": {
     "end_time": "2020-10-09T12:00:20.477745Z",
     "start_time": "2020-10-09T12:00:20.431604Z"
    },
    "scrolled": true
   },
   "outputs": [
    {
     "name": "stdout",
     "output_type": "stream",
     "text": [
      "(17857, 25)\n"
     ]
    }
   ],
   "source": [
    "df1_DIV = df1[DIVERTED_1]\n",
    "print(df1_DIV.shape)"
   ]
  },
  {
   "cell_type": "code",
   "execution_count": 57,
   "metadata": {
    "ExecuteTime": {
     "end_time": "2020-10-09T12:00:22.108480Z",
     "start_time": "2020-10-09T12:00:22.089667Z"
    }
   },
   "outputs": [
    {
     "data": {
      "text/html": [
       "<div>\n",
       "<style scoped>\n",
       "    .dataframe tbody tr th:only-of-type {\n",
       "        vertical-align: middle;\n",
       "    }\n",
       "\n",
       "    .dataframe tbody tr th {\n",
       "        vertical-align: top;\n",
       "    }\n",
       "\n",
       "    .dataframe thead th {\n",
       "        text-align: right;\n",
       "    }\n",
       "</style>\n",
       "<table border=\"1\" class=\"dataframe\">\n",
       "  <thead>\n",
       "    <tr style=\"text-align: right;\">\n",
       "      <th></th>\n",
       "      <th>FL_DATE</th>\n",
       "      <th>OP_CARRIER</th>\n",
       "      <th>OP_CARRIER_FL_NUM</th>\n",
       "      <th>ORIGIN</th>\n",
       "      <th>DEST</th>\n",
       "      <th>CRS_DEP_TIME</th>\n",
       "      <th>DEP_TIME</th>\n",
       "      <th>DEP_DELAY</th>\n",
       "      <th>TAXI_OUT</th>\n",
       "      <th>WHEELS_OFF</th>\n",
       "      <th>WHEELS_ON</th>\n",
       "      <th>TAXI_IN</th>\n",
       "      <th>CRS_ARR_TIME</th>\n",
       "      <th>ARR_TIME</th>\n",
       "      <th>ARR_DELAY</th>\n",
       "      <th>DIVERTED</th>\n",
       "      <th>CRS_ELAPSED_TIME</th>\n",
       "      <th>ACTUAL_ELAPSED_TIME</th>\n",
       "      <th>AIR_TIME</th>\n",
       "      <th>DISTANCE</th>\n",
       "      <th>CARRIER_DELAY</th>\n",
       "      <th>WEATHER_DELAY</th>\n",
       "      <th>NAS_DELAY</th>\n",
       "      <th>SECURITY_DELAY</th>\n",
       "      <th>LATE_AIRCRAFT_DELAY</th>\n",
       "    </tr>\n",
       "  </thead>\n",
       "  <tbody>\n",
       "    <tr>\n",
       "      <th>1168</th>\n",
       "      <td>2018-01-01</td>\n",
       "      <td>United Airlines</td>\n",
       "      <td>555</td>\n",
       "      <td>San Francisco</td>\n",
       "      <td>San Diego</td>\n",
       "      <td>729</td>\n",
       "      <td>718.0</td>\n",
       "      <td>-11.0</td>\n",
       "      <td>17.0</td>\n",
       "      <td>735.0</td>\n",
       "      <td>1124.0</td>\n",
       "      <td>3.0</td>\n",
       "      <td>903</td>\n",
       "      <td>1127.0</td>\n",
       "      <td>NaN</td>\n",
       "      <td>1.0</td>\n",
       "      <td>94.0</td>\n",
       "      <td>NaN</td>\n",
       "      <td>NaN</td>\n",
       "      <td>447.0</td>\n",
       "      <td>NaN</td>\n",
       "      <td>NaN</td>\n",
       "      <td>NaN</td>\n",
       "      <td>NaN</td>\n",
       "      <td>NaN</td>\n",
       "    </tr>\n",
       "    <tr>\n",
       "      <th>1638</th>\n",
       "      <td>2018-01-01</td>\n",
       "      <td>Alaska Airlines</td>\n",
       "      <td>64</td>\n",
       "      <td>Petersburg</td>\n",
       "      <td>Wrangell</td>\n",
       "      <td>1514</td>\n",
       "      <td>1626.0</td>\n",
       "      <td>72.0</td>\n",
       "      <td>20.0</td>\n",
       "      <td>1646.0</td>\n",
       "      <td>NaN</td>\n",
       "      <td>NaN</td>\n",
       "      <td>1538</td>\n",
       "      <td>NaN</td>\n",
       "      <td>NaN</td>\n",
       "      <td>1.0</td>\n",
       "      <td>24.0</td>\n",
       "      <td>NaN</td>\n",
       "      <td>NaN</td>\n",
       "      <td>31.0</td>\n",
       "      <td>NaN</td>\n",
       "      <td>NaN</td>\n",
       "      <td>NaN</td>\n",
       "      <td>NaN</td>\n",
       "      <td>NaN</td>\n",
       "    </tr>\n",
       "    <tr>\n",
       "      <th>1643</th>\n",
       "      <td>2018-01-01</td>\n",
       "      <td>Alaska Airlines</td>\n",
       "      <td>65</td>\n",
       "      <td>Ketchikan</td>\n",
       "      <td>Wrangell</td>\n",
       "      <td>925</td>\n",
       "      <td>918.0</td>\n",
       "      <td>-7.0</td>\n",
       "      <td>26.0</td>\n",
       "      <td>944.0</td>\n",
       "      <td>NaN</td>\n",
       "      <td>NaN</td>\n",
       "      <td>1011</td>\n",
       "      <td>NaN</td>\n",
       "      <td>NaN</td>\n",
       "      <td>1.0</td>\n",
       "      <td>46.0</td>\n",
       "      <td>NaN</td>\n",
       "      <td>NaN</td>\n",
       "      <td>82.0</td>\n",
       "      <td>NaN</td>\n",
       "      <td>NaN</td>\n",
       "      <td>NaN</td>\n",
       "      <td>NaN</td>\n",
       "      <td>NaN</td>\n",
       "    </tr>\n",
       "    <tr>\n",
       "      <th>1683</th>\n",
       "      <td>2018-01-01</td>\n",
       "      <td>Alaska Airlines</td>\n",
       "      <td>120</td>\n",
       "      <td>Seattle</td>\n",
       "      <td>San Diego</td>\n",
       "      <td>550</td>\n",
       "      <td>544.0</td>\n",
       "      <td>-6.0</td>\n",
       "      <td>18.0</td>\n",
       "      <td>602.0</td>\n",
       "      <td>1046.0</td>\n",
       "      <td>3.0</td>\n",
       "      <td>840</td>\n",
       "      <td>1049.0</td>\n",
       "      <td>NaN</td>\n",
       "      <td>1.0</td>\n",
       "      <td>170.0</td>\n",
       "      <td>NaN</td>\n",
       "      <td>NaN</td>\n",
       "      <td>1050.0</td>\n",
       "      <td>NaN</td>\n",
       "      <td>NaN</td>\n",
       "      <td>NaN</td>\n",
       "      <td>NaN</td>\n",
       "      <td>NaN</td>\n",
       "    </tr>\n",
       "    <tr>\n",
       "      <th>1850</th>\n",
       "      <td>2018-01-01</td>\n",
       "      <td>Alaska Airlines</td>\n",
       "      <td>512</td>\n",
       "      <td>Seattle</td>\n",
       "      <td>San Diego</td>\n",
       "      <td>725</td>\n",
       "      <td>722.0</td>\n",
       "      <td>-3.0</td>\n",
       "      <td>16.0</td>\n",
       "      <td>738.0</td>\n",
       "      <td>1216.0</td>\n",
       "      <td>3.0</td>\n",
       "      <td>1017</td>\n",
       "      <td>1219.0</td>\n",
       "      <td>NaN</td>\n",
       "      <td>1.0</td>\n",
       "      <td>172.0</td>\n",
       "      <td>NaN</td>\n",
       "      <td>NaN</td>\n",
       "      <td>1050.0</td>\n",
       "      <td>NaN</td>\n",
       "      <td>NaN</td>\n",
       "      <td>NaN</td>\n",
       "      <td>NaN</td>\n",
       "      <td>NaN</td>\n",
       "    </tr>\n",
       "  </tbody>\n",
       "</table>\n",
       "</div>"
      ],
      "text/plain": [
       "         FL_DATE       OP_CARRIER  OP_CARRIER_FL_NUM         ORIGIN  \\\n",
       "1168  2018-01-01  United Airlines                555  San Francisco   \n",
       "1638  2018-01-01  Alaska Airlines                 64     Petersburg   \n",
       "1643  2018-01-01  Alaska Airlines                 65      Ketchikan   \n",
       "1683  2018-01-01  Alaska Airlines                120        Seattle   \n",
       "1850  2018-01-01  Alaska Airlines                512        Seattle   \n",
       "\n",
       "           DEST  CRS_DEP_TIME  DEP_TIME  DEP_DELAY  TAXI_OUT  WHEELS_OFF  \\\n",
       "1168  San Diego           729     718.0      -11.0      17.0       735.0   \n",
       "1638   Wrangell          1514    1626.0       72.0      20.0      1646.0   \n",
       "1643   Wrangell           925     918.0       -7.0      26.0       944.0   \n",
       "1683  San Diego           550     544.0       -6.0      18.0       602.0   \n",
       "1850  San Diego           725     722.0       -3.0      16.0       738.0   \n",
       "\n",
       "      WHEELS_ON  TAXI_IN  CRS_ARR_TIME  ARR_TIME  ARR_DELAY  DIVERTED  \\\n",
       "1168     1124.0      3.0           903    1127.0        NaN       1.0   \n",
       "1638        NaN      NaN          1538       NaN        NaN       1.0   \n",
       "1643        NaN      NaN          1011       NaN        NaN       1.0   \n",
       "1683     1046.0      3.0           840    1049.0        NaN       1.0   \n",
       "1850     1216.0      3.0          1017    1219.0        NaN       1.0   \n",
       "\n",
       "      CRS_ELAPSED_TIME  ACTUAL_ELAPSED_TIME  AIR_TIME  DISTANCE  \\\n",
       "1168              94.0                  NaN       NaN     447.0   \n",
       "1638              24.0                  NaN       NaN      31.0   \n",
       "1643              46.0                  NaN       NaN      82.0   \n",
       "1683             170.0                  NaN       NaN    1050.0   \n",
       "1850             172.0                  NaN       NaN    1050.0   \n",
       "\n",
       "      CARRIER_DELAY  WEATHER_DELAY  NAS_DELAY  SECURITY_DELAY  \\\n",
       "1168            NaN            NaN        NaN             NaN   \n",
       "1638            NaN            NaN        NaN             NaN   \n",
       "1643            NaN            NaN        NaN             NaN   \n",
       "1683            NaN            NaN        NaN             NaN   \n",
       "1850            NaN            NaN        NaN             NaN   \n",
       "\n",
       "      LATE_AIRCRAFT_DELAY  \n",
       "1168                  NaN  \n",
       "1638                  NaN  \n",
       "1643                  NaN  \n",
       "1683                  NaN  \n",
       "1850                  NaN  "
      ]
     },
     "execution_count": 57,
     "metadata": {},
     "output_type": "execute_result"
    }
   ],
   "source": [
    "df1_DIV.head()"
   ]
  },
  {
   "cell_type": "code",
   "execution_count": 58,
   "metadata": {
    "ExecuteTime": {
     "end_time": "2020-10-09T12:00:23.715233Z",
     "start_time": "2020-10-09T12:00:23.711760Z"
    }
   },
   "outputs": [
    {
     "data": {
      "text/plain": [
       "0"
      ]
     },
     "execution_count": 58,
     "metadata": {},
     "output_type": "execute_result"
    }
   ],
   "source": [
    "df1_DIV.ARR_DELAY.nunique()"
   ]
  },
  {
   "cell_type": "code",
   "execution_count": 59,
   "metadata": {
    "ExecuteTime": {
     "end_time": "2020-10-09T12:00:25.388914Z",
     "start_time": "2020-10-09T12:00:25.385519Z"
    }
   },
   "outputs": [
    {
     "data": {
      "text/plain": [
       "array([nan])"
      ]
     },
     "execution_count": 59,
     "metadata": {},
     "output_type": "execute_result"
    }
   ],
   "source": [
    "df1_DIV.ARR_DELAY.unique()"
   ]
  },
  {
   "cell_type": "markdown",
   "metadata": {},
   "source": [
    "The last two command lines tell us that the ARR_DELAY, which refers to the total delay on arrival in minutes, are all equal to NaN when DIVERTED == 1. So basically there is no information to consider it as if it was delay or not. So I can either distribute these values into delayed and not delay with the same proportion currently present, or I can just drop them. "
   ]
  },
  {
   "cell_type": "code",
   "execution_count": 60,
   "metadata": {
    "ExecuteTime": {
     "end_time": "2020-10-09T12:00:27.058368Z",
     "start_time": "2020-10-09T12:00:27.054583Z"
    }
   },
   "outputs": [
    {
     "data": {
      "text/plain": [
       "0"
      ]
     },
     "execution_count": 60,
     "metadata": {},
     "output_type": "execute_result"
    }
   ],
   "source": [
    "df1_DIV.AIR_TIME.nunique()"
   ]
  },
  {
   "cell_type": "code",
   "execution_count": 61,
   "metadata": {
    "ExecuteTime": {
     "end_time": "2020-10-09T12:00:29.473967Z",
     "start_time": "2020-10-09T12:00:28.664570Z"
    }
   },
   "outputs": [
    {
     "data": {
      "text/html": [
       "<div>\n",
       "<style scoped>\n",
       "    .dataframe tbody tr th:only-of-type {\n",
       "        vertical-align: middle;\n",
       "    }\n",
       "\n",
       "    .dataframe tbody tr th {\n",
       "        vertical-align: top;\n",
       "    }\n",
       "\n",
       "    .dataframe thead th {\n",
       "        text-align: right;\n",
       "    }\n",
       "</style>\n",
       "<table border=\"1\" class=\"dataframe\">\n",
       "  <thead>\n",
       "    <tr style=\"text-align: right;\">\n",
       "      <th></th>\n",
       "      <th>FL_DATE</th>\n",
       "      <th>OP_CARRIER</th>\n",
       "      <th>OP_CARRIER_FL_NUM</th>\n",
       "      <th>ORIGIN</th>\n",
       "      <th>DEST</th>\n",
       "      <th>CRS_DEP_TIME</th>\n",
       "      <th>DEP_TIME</th>\n",
       "      <th>DEP_DELAY</th>\n",
       "      <th>TAXI_OUT</th>\n",
       "      <th>WHEELS_OFF</th>\n",
       "      <th>WHEELS_ON</th>\n",
       "      <th>TAXI_IN</th>\n",
       "      <th>CRS_ARR_TIME</th>\n",
       "      <th>ARR_TIME</th>\n",
       "      <th>ARR_DELAY</th>\n",
       "      <th>CRS_ELAPSED_TIME</th>\n",
       "      <th>ACTUAL_ELAPSED_TIME</th>\n",
       "      <th>AIR_TIME</th>\n",
       "      <th>DISTANCE</th>\n",
       "      <th>CARRIER_DELAY</th>\n",
       "      <th>WEATHER_DELAY</th>\n",
       "      <th>NAS_DELAY</th>\n",
       "      <th>SECURITY_DELAY</th>\n",
       "      <th>LATE_AIRCRAFT_DELAY</th>\n",
       "    </tr>\n",
       "  </thead>\n",
       "  <tbody>\n",
       "    <tr>\n",
       "      <th>0</th>\n",
       "      <td>2018-01-01</td>\n",
       "      <td>United Airlines</td>\n",
       "      <td>2429</td>\n",
       "      <td>Newark</td>\n",
       "      <td>Denver</td>\n",
       "      <td>1517</td>\n",
       "      <td>1512.0</td>\n",
       "      <td>-5.0</td>\n",
       "      <td>15.0</td>\n",
       "      <td>1527.0</td>\n",
       "      <td>1712.0</td>\n",
       "      <td>10.0</td>\n",
       "      <td>1745</td>\n",
       "      <td>1722.0</td>\n",
       "      <td>-23.0</td>\n",
       "      <td>268.0</td>\n",
       "      <td>250.0</td>\n",
       "      <td>225.0</td>\n",
       "      <td>1605.0</td>\n",
       "      <td>NaN</td>\n",
       "      <td>NaN</td>\n",
       "      <td>NaN</td>\n",
       "      <td>NaN</td>\n",
       "      <td>NaN</td>\n",
       "    </tr>\n",
       "    <tr>\n",
       "      <th>1</th>\n",
       "      <td>2018-01-01</td>\n",
       "      <td>United Airlines</td>\n",
       "      <td>2427</td>\n",
       "      <td>Las Vegas</td>\n",
       "      <td>San Francisco</td>\n",
       "      <td>1115</td>\n",
       "      <td>1107.0</td>\n",
       "      <td>-8.0</td>\n",
       "      <td>11.0</td>\n",
       "      <td>1118.0</td>\n",
       "      <td>1223.0</td>\n",
       "      <td>7.0</td>\n",
       "      <td>1254</td>\n",
       "      <td>1230.0</td>\n",
       "      <td>-24.0</td>\n",
       "      <td>99.0</td>\n",
       "      <td>83.0</td>\n",
       "      <td>65.0</td>\n",
       "      <td>414.0</td>\n",
       "      <td>NaN</td>\n",
       "      <td>NaN</td>\n",
       "      <td>NaN</td>\n",
       "      <td>NaN</td>\n",
       "      <td>NaN</td>\n",
       "    </tr>\n",
       "    <tr>\n",
       "      <th>2</th>\n",
       "      <td>2018-01-01</td>\n",
       "      <td>United Airlines</td>\n",
       "      <td>2426</td>\n",
       "      <td>Santa Ana</td>\n",
       "      <td>Denver</td>\n",
       "      <td>1335</td>\n",
       "      <td>1330.0</td>\n",
       "      <td>-5.0</td>\n",
       "      <td>15.0</td>\n",
       "      <td>1345.0</td>\n",
       "      <td>1631.0</td>\n",
       "      <td>5.0</td>\n",
       "      <td>1649</td>\n",
       "      <td>1636.0</td>\n",
       "      <td>-13.0</td>\n",
       "      <td>134.0</td>\n",
       "      <td>126.0</td>\n",
       "      <td>106.0</td>\n",
       "      <td>846.0</td>\n",
       "      <td>NaN</td>\n",
       "      <td>NaN</td>\n",
       "      <td>NaN</td>\n",
       "      <td>NaN</td>\n",
       "      <td>NaN</td>\n",
       "    </tr>\n",
       "  </tbody>\n",
       "</table>\n",
       "</div>"
      ],
      "text/plain": [
       "      FL_DATE       OP_CARRIER  OP_CARRIER_FL_NUM     ORIGIN           DEST  \\\n",
       "0  2018-01-01  United Airlines               2429     Newark         Denver   \n",
       "1  2018-01-01  United Airlines               2427  Las Vegas  San Francisco   \n",
       "2  2018-01-01  United Airlines               2426  Santa Ana         Denver   \n",
       "\n",
       "   CRS_DEP_TIME  DEP_TIME  DEP_DELAY  TAXI_OUT  WHEELS_OFF  WHEELS_ON  \\\n",
       "0          1517    1512.0       -5.0      15.0      1527.0     1712.0   \n",
       "1          1115    1107.0       -8.0      11.0      1118.0     1223.0   \n",
       "2          1335    1330.0       -5.0      15.0      1345.0     1631.0   \n",
       "\n",
       "   TAXI_IN  CRS_ARR_TIME  ARR_TIME  ARR_DELAY  CRS_ELAPSED_TIME  \\\n",
       "0     10.0          1745    1722.0      -23.0             268.0   \n",
       "1      7.0          1254    1230.0      -24.0              99.0   \n",
       "2      5.0          1649    1636.0      -13.0             134.0   \n",
       "\n",
       "   ACTUAL_ELAPSED_TIME  AIR_TIME  DISTANCE  CARRIER_DELAY  WEATHER_DELAY  \\\n",
       "0                250.0     225.0    1605.0            NaN            NaN   \n",
       "1                 83.0      65.0     414.0            NaN            NaN   \n",
       "2                126.0     106.0     846.0            NaN            NaN   \n",
       "\n",
       "   NAS_DELAY  SECURITY_DELAY  LATE_AIRCRAFT_DELAY  \n",
       "0        NaN             NaN                  NaN  \n",
       "1        NaN             NaN                  NaN  \n",
       "2        NaN             NaN                  NaN  "
      ]
     },
     "execution_count": 61,
     "metadata": {},
     "output_type": "execute_result"
    }
   ],
   "source": [
    "df1 = df1.drop(['DIVERTED'], axis=1)\n",
    "df1.head(3)"
   ]
  },
  {
   "cell_type": "code",
   "execution_count": 62,
   "metadata": {
    "ExecuteTime": {
     "end_time": "2020-10-09T12:00:31.028977Z",
     "start_time": "2020-10-09T12:00:31.025817Z"
    }
   },
   "outputs": [
    {
     "data": {
      "text/plain": [
       "(7096862, 24)"
      ]
     },
     "execution_count": 62,
     "metadata": {},
     "output_type": "execute_result"
    }
   ],
   "source": [
    "df1.shape"
   ]
  },
  {
   "cell_type": "markdown",
   "metadata": {},
   "source": [
    "### DELAY REASONS\n",
    "\n",
    "On this section I will deal with 5 columns at the same time that are related:\n",
    "* CARRIER_DELAY<br>\n",
    "* WEATHER_DELAY<br>\n",
    "* NAS_DELAY<br>\n",
    "* SECURITY_DELAY<br>\n",
    "* LATE_AIRCRAFT_DELAY\n",
    "\n",
    "These 5 are all reasons for the flights to be delayed. Before I make any decision related to them, let's see how much information is in them first:"
   ]
  },
  {
   "cell_type": "code",
   "execution_count": 63,
   "metadata": {
    "ExecuteTime": {
     "end_time": "2020-10-09T12:00:32.692616Z",
     "start_time": "2020-10-09T12:00:32.614587Z"
    }
   },
   "outputs": [
    {
     "name": "stdout",
     "output_type": "stream",
     "text": [
      "5744152\n",
      "5744152\n",
      "5744152\n",
      "5744152\n",
      "5744152\n"
     ]
    }
   ],
   "source": [
    "print(df1.CARRIER_DELAY.isna().sum())\n",
    "print(df1.WEATHER_DELAY.isna().sum())\n",
    "print(df1.NAS_DELAY.isna().sum())\n",
    "print(df1.SECURITY_DELAY.isna().sum())\n",
    "print(df1.LATE_AIRCRAFT_DELAY.isna().sum())"
   ]
  },
  {
   "cell_type": "markdown",
   "metadata": {},
   "source": [
    "It seems as there are a lot of values missing and for some reason the number of each is the same. I'm not sure how trustworthy this is. Let's look at the percentage:"
   ]
  },
  {
   "cell_type": "code",
   "execution_count": 64,
   "metadata": {
    "ExecuteTime": {
     "end_time": "2020-10-09T12:00:34.328204Z",
     "start_time": "2020-10-09T12:00:34.302144Z"
    }
   },
   "outputs": [
    {
     "name": "stdout",
     "output_type": "stream",
     "text": [
      "Percentage of valid data: 19.060677803795542\n",
      "Percentage of missing values: 80.93932219620446\n"
     ]
    }
   ],
   "source": [
    "print(\"Percentage of valid data:\", 100 - (df1.CARRIER_DELAY.isna().sum()*100/len(df1)))\n",
    "print(\"Percentage of missing values:\", (df1.CARRIER_DELAY.isna().sum()*100/len(df1)))"
   ]
  },
  {
   "cell_type": "markdown",
   "metadata": {},
   "source": [
    "Not very promising these number. almost 81% of the data corresponds to missing values and it is even across those 5 columns, and only 19% of data available. Unfortunately this it not enough for me to take it into account. This is really unfortunate as I already know from readings that \"SECURITY_DELAY\" is one of the top 10 reasons for flights being delayed today.\n",
    "\n",
    "The decision is to drop these 5 columns:"
   ]
  },
  {
   "cell_type": "code",
   "execution_count": 65,
   "metadata": {
    "ExecuteTime": {
     "end_time": "2020-10-09T12:00:36.497060Z",
     "start_time": "2020-10-09T12:00:35.885533Z"
    }
   },
   "outputs": [
    {
     "name": "stdout",
     "output_type": "stream",
     "text": [
      "The current shape of df1 is: (7096862, 19)\n"
     ]
    },
    {
     "data": {
      "text/html": [
       "<div>\n",
       "<style scoped>\n",
       "    .dataframe tbody tr th:only-of-type {\n",
       "        vertical-align: middle;\n",
       "    }\n",
       "\n",
       "    .dataframe tbody tr th {\n",
       "        vertical-align: top;\n",
       "    }\n",
       "\n",
       "    .dataframe thead th {\n",
       "        text-align: right;\n",
       "    }\n",
       "</style>\n",
       "<table border=\"1\" class=\"dataframe\">\n",
       "  <thead>\n",
       "    <tr style=\"text-align: right;\">\n",
       "      <th></th>\n",
       "      <th>FL_DATE</th>\n",
       "      <th>OP_CARRIER</th>\n",
       "      <th>OP_CARRIER_FL_NUM</th>\n",
       "      <th>ORIGIN</th>\n",
       "      <th>DEST</th>\n",
       "      <th>CRS_DEP_TIME</th>\n",
       "      <th>DEP_TIME</th>\n",
       "      <th>DEP_DELAY</th>\n",
       "      <th>TAXI_OUT</th>\n",
       "      <th>WHEELS_OFF</th>\n",
       "      <th>WHEELS_ON</th>\n",
       "      <th>TAXI_IN</th>\n",
       "      <th>CRS_ARR_TIME</th>\n",
       "      <th>ARR_TIME</th>\n",
       "      <th>ARR_DELAY</th>\n",
       "      <th>CRS_ELAPSED_TIME</th>\n",
       "      <th>ACTUAL_ELAPSED_TIME</th>\n",
       "      <th>AIR_TIME</th>\n",
       "      <th>DISTANCE</th>\n",
       "    </tr>\n",
       "  </thead>\n",
       "  <tbody>\n",
       "    <tr>\n",
       "      <th>0</th>\n",
       "      <td>2018-01-01</td>\n",
       "      <td>United Airlines</td>\n",
       "      <td>2429</td>\n",
       "      <td>Newark</td>\n",
       "      <td>Denver</td>\n",
       "      <td>1517</td>\n",
       "      <td>1512.0</td>\n",
       "      <td>-5.0</td>\n",
       "      <td>15.0</td>\n",
       "      <td>1527.0</td>\n",
       "      <td>1712.0</td>\n",
       "      <td>10.0</td>\n",
       "      <td>1745</td>\n",
       "      <td>1722.0</td>\n",
       "      <td>-23.0</td>\n",
       "      <td>268.0</td>\n",
       "      <td>250.0</td>\n",
       "      <td>225.0</td>\n",
       "      <td>1605.0</td>\n",
       "    </tr>\n",
       "    <tr>\n",
       "      <th>1</th>\n",
       "      <td>2018-01-01</td>\n",
       "      <td>United Airlines</td>\n",
       "      <td>2427</td>\n",
       "      <td>Las Vegas</td>\n",
       "      <td>San Francisco</td>\n",
       "      <td>1115</td>\n",
       "      <td>1107.0</td>\n",
       "      <td>-8.0</td>\n",
       "      <td>11.0</td>\n",
       "      <td>1118.0</td>\n",
       "      <td>1223.0</td>\n",
       "      <td>7.0</td>\n",
       "      <td>1254</td>\n",
       "      <td>1230.0</td>\n",
       "      <td>-24.0</td>\n",
       "      <td>99.0</td>\n",
       "      <td>83.0</td>\n",
       "      <td>65.0</td>\n",
       "      <td>414.0</td>\n",
       "    </tr>\n",
       "    <tr>\n",
       "      <th>2</th>\n",
       "      <td>2018-01-01</td>\n",
       "      <td>United Airlines</td>\n",
       "      <td>2426</td>\n",
       "      <td>Santa Ana</td>\n",
       "      <td>Denver</td>\n",
       "      <td>1335</td>\n",
       "      <td>1330.0</td>\n",
       "      <td>-5.0</td>\n",
       "      <td>15.0</td>\n",
       "      <td>1345.0</td>\n",
       "      <td>1631.0</td>\n",
       "      <td>5.0</td>\n",
       "      <td>1649</td>\n",
       "      <td>1636.0</td>\n",
       "      <td>-13.0</td>\n",
       "      <td>134.0</td>\n",
       "      <td>126.0</td>\n",
       "      <td>106.0</td>\n",
       "      <td>846.0</td>\n",
       "    </tr>\n",
       "    <tr>\n",
       "      <th>7213443</th>\n",
       "      <td>2018-12-31</td>\n",
       "      <td>American Airlines</td>\n",
       "      <td>1817</td>\n",
       "      <td>Charlotte</td>\n",
       "      <td>Memphis</td>\n",
       "      <td>2015</td>\n",
       "      <td>2010.0</td>\n",
       "      <td>-5.0</td>\n",
       "      <td>36.0</td>\n",
       "      <td>2046.0</td>\n",
       "      <td>2114.0</td>\n",
       "      <td>4.0</td>\n",
       "      <td>2107</td>\n",
       "      <td>2118.0</td>\n",
       "      <td>11.0</td>\n",
       "      <td>112.0</td>\n",
       "      <td>128.0</td>\n",
       "      <td>88.0</td>\n",
       "      <td>511.0</td>\n",
       "    </tr>\n",
       "    <tr>\n",
       "      <th>7213444</th>\n",
       "      <td>2018-12-31</td>\n",
       "      <td>American Airlines</td>\n",
       "      <td>1818</td>\n",
       "      <td>Charlotte</td>\n",
       "      <td>Raleigh</td>\n",
       "      <td>1300</td>\n",
       "      <td>1323.0</td>\n",
       "      <td>23.0</td>\n",
       "      <td>11.0</td>\n",
       "      <td>1334.0</td>\n",
       "      <td>1400.0</td>\n",
       "      <td>4.0</td>\n",
       "      <td>1350</td>\n",
       "      <td>1404.0</td>\n",
       "      <td>14.0</td>\n",
       "      <td>50.0</td>\n",
       "      <td>41.0</td>\n",
       "      <td>26.0</td>\n",
       "      <td>130.0</td>\n",
       "    </tr>\n",
       "    <tr>\n",
       "      <th>7213445</th>\n",
       "      <td>2018-12-31</td>\n",
       "      <td>American Airlines</td>\n",
       "      <td>1818</td>\n",
       "      <td>Raleigh</td>\n",
       "      <td>Charlotte</td>\n",
       "      <td>1435</td>\n",
       "      <td>1443.0</td>\n",
       "      <td>8.0</td>\n",
       "      <td>8.0</td>\n",
       "      <td>1451.0</td>\n",
       "      <td>1535.0</td>\n",
       "      <td>7.0</td>\n",
       "      <td>1546</td>\n",
       "      <td>1542.0</td>\n",
       "      <td>-4.0</td>\n",
       "      <td>71.0</td>\n",
       "      <td>59.0</td>\n",
       "      <td>44.0</td>\n",
       "      <td>130.0</td>\n",
       "    </tr>\n",
       "  </tbody>\n",
       "</table>\n",
       "</div>"
      ],
      "text/plain": [
       "            FL_DATE         OP_CARRIER  OP_CARRIER_FL_NUM     ORIGIN  \\\n",
       "0        2018-01-01    United Airlines               2429     Newark   \n",
       "1        2018-01-01    United Airlines               2427  Las Vegas   \n",
       "2        2018-01-01    United Airlines               2426  Santa Ana   \n",
       "7213443  2018-12-31  American Airlines               1817  Charlotte   \n",
       "7213444  2018-12-31  American Airlines               1818  Charlotte   \n",
       "7213445  2018-12-31  American Airlines               1818    Raleigh   \n",
       "\n",
       "                  DEST  CRS_DEP_TIME  DEP_TIME  DEP_DELAY  TAXI_OUT  \\\n",
       "0               Denver          1517    1512.0       -5.0      15.0   \n",
       "1        San Francisco          1115    1107.0       -8.0      11.0   \n",
       "2               Denver          1335    1330.0       -5.0      15.0   \n",
       "7213443        Memphis          2015    2010.0       -5.0      36.0   \n",
       "7213444        Raleigh          1300    1323.0       23.0      11.0   \n",
       "7213445      Charlotte          1435    1443.0        8.0       8.0   \n",
       "\n",
       "         WHEELS_OFF  WHEELS_ON  TAXI_IN  CRS_ARR_TIME  ARR_TIME  ARR_DELAY  \\\n",
       "0            1527.0     1712.0     10.0          1745    1722.0      -23.0   \n",
       "1            1118.0     1223.0      7.0          1254    1230.0      -24.0   \n",
       "2            1345.0     1631.0      5.0          1649    1636.0      -13.0   \n",
       "7213443      2046.0     2114.0      4.0          2107    2118.0       11.0   \n",
       "7213444      1334.0     1400.0      4.0          1350    1404.0       14.0   \n",
       "7213445      1451.0     1535.0      7.0          1546    1542.0       -4.0   \n",
       "\n",
       "         CRS_ELAPSED_TIME  ACTUAL_ELAPSED_TIME  AIR_TIME  DISTANCE  \n",
       "0                   268.0                250.0     225.0    1605.0  \n",
       "1                    99.0                 83.0      65.0     414.0  \n",
       "2                   134.0                126.0     106.0     846.0  \n",
       "7213443             112.0                128.0      88.0     511.0  \n",
       "7213444              50.0                 41.0      26.0     130.0  \n",
       "7213445              71.0                 59.0      44.0     130.0  "
      ]
     },
     "execution_count": 65,
     "metadata": {},
     "output_type": "execute_result"
    }
   ],
   "source": [
    "df1 = df1.drop(['CARRIER_DELAY', 'WEATHER_DELAY', 'NAS_DELAY', 'SECURITY_DELAY', 'LATE_AIRCRAFT_DELAY'], axis=1)\n",
    "print('The current shape of df1 is:', df1.shape)\n",
    "df1.head(3).append(df1.tail(3))"
   ]
  },
  {
   "cell_type": "markdown",
   "metadata": {},
   "source": [
    "### OP_CARRIER_FL_NUM"
   ]
  },
  {
   "cell_type": "markdown",
   "metadata": {},
   "source": [
    "This is an easy one as I won't be using the flight number for my predictions, so it is a quick drop once again"
   ]
  },
  {
   "cell_type": "code",
   "execution_count": 66,
   "metadata": {
    "ExecuteTime": {
     "end_time": "2020-10-09T12:00:38.687311Z",
     "start_time": "2020-10-09T12:00:38.002631Z"
    }
   },
   "outputs": [
    {
     "data": {
      "text/html": [
       "<div>\n",
       "<style scoped>\n",
       "    .dataframe tbody tr th:only-of-type {\n",
       "        vertical-align: middle;\n",
       "    }\n",
       "\n",
       "    .dataframe tbody tr th {\n",
       "        vertical-align: top;\n",
       "    }\n",
       "\n",
       "    .dataframe thead th {\n",
       "        text-align: right;\n",
       "    }\n",
       "</style>\n",
       "<table border=\"1\" class=\"dataframe\">\n",
       "  <thead>\n",
       "    <tr style=\"text-align: right;\">\n",
       "      <th></th>\n",
       "      <th>FL_DATE</th>\n",
       "      <th>OP_CARRIER</th>\n",
       "      <th>ORIGIN</th>\n",
       "      <th>DEST</th>\n",
       "      <th>CRS_DEP_TIME</th>\n",
       "      <th>DEP_TIME</th>\n",
       "      <th>DEP_DELAY</th>\n",
       "      <th>TAXI_OUT</th>\n",
       "      <th>WHEELS_OFF</th>\n",
       "      <th>WHEELS_ON</th>\n",
       "      <th>TAXI_IN</th>\n",
       "      <th>CRS_ARR_TIME</th>\n",
       "      <th>ARR_TIME</th>\n",
       "      <th>ARR_DELAY</th>\n",
       "      <th>CRS_ELAPSED_TIME</th>\n",
       "      <th>ACTUAL_ELAPSED_TIME</th>\n",
       "      <th>AIR_TIME</th>\n",
       "      <th>DISTANCE</th>\n",
       "    </tr>\n",
       "  </thead>\n",
       "  <tbody>\n",
       "    <tr>\n",
       "      <th>0</th>\n",
       "      <td>2018-01-01</td>\n",
       "      <td>United Airlines</td>\n",
       "      <td>Newark</td>\n",
       "      <td>Denver</td>\n",
       "      <td>1517</td>\n",
       "      <td>1512.0</td>\n",
       "      <td>-5.0</td>\n",
       "      <td>15.0</td>\n",
       "      <td>1527.0</td>\n",
       "      <td>1712.0</td>\n",
       "      <td>10.0</td>\n",
       "      <td>1745</td>\n",
       "      <td>1722.0</td>\n",
       "      <td>-23.0</td>\n",
       "      <td>268.0</td>\n",
       "      <td>250.0</td>\n",
       "      <td>225.0</td>\n",
       "      <td>1605.0</td>\n",
       "    </tr>\n",
       "    <tr>\n",
       "      <th>1</th>\n",
       "      <td>2018-01-01</td>\n",
       "      <td>United Airlines</td>\n",
       "      <td>Las Vegas</td>\n",
       "      <td>San Francisco</td>\n",
       "      <td>1115</td>\n",
       "      <td>1107.0</td>\n",
       "      <td>-8.0</td>\n",
       "      <td>11.0</td>\n",
       "      <td>1118.0</td>\n",
       "      <td>1223.0</td>\n",
       "      <td>7.0</td>\n",
       "      <td>1254</td>\n",
       "      <td>1230.0</td>\n",
       "      <td>-24.0</td>\n",
       "      <td>99.0</td>\n",
       "      <td>83.0</td>\n",
       "      <td>65.0</td>\n",
       "      <td>414.0</td>\n",
       "    </tr>\n",
       "    <tr>\n",
       "      <th>2</th>\n",
       "      <td>2018-01-01</td>\n",
       "      <td>United Airlines</td>\n",
       "      <td>Santa Ana</td>\n",
       "      <td>Denver</td>\n",
       "      <td>1335</td>\n",
       "      <td>1330.0</td>\n",
       "      <td>-5.0</td>\n",
       "      <td>15.0</td>\n",
       "      <td>1345.0</td>\n",
       "      <td>1631.0</td>\n",
       "      <td>5.0</td>\n",
       "      <td>1649</td>\n",
       "      <td>1636.0</td>\n",
       "      <td>-13.0</td>\n",
       "      <td>134.0</td>\n",
       "      <td>126.0</td>\n",
       "      <td>106.0</td>\n",
       "      <td>846.0</td>\n",
       "    </tr>\n",
       "  </tbody>\n",
       "</table>\n",
       "</div>"
      ],
      "text/plain": [
       "      FL_DATE       OP_CARRIER     ORIGIN           DEST  CRS_DEP_TIME  \\\n",
       "0  2018-01-01  United Airlines     Newark         Denver          1517   \n",
       "1  2018-01-01  United Airlines  Las Vegas  San Francisco          1115   \n",
       "2  2018-01-01  United Airlines  Santa Ana         Denver          1335   \n",
       "\n",
       "   DEP_TIME  DEP_DELAY  TAXI_OUT  WHEELS_OFF  WHEELS_ON  TAXI_IN  \\\n",
       "0    1512.0       -5.0      15.0      1527.0     1712.0     10.0   \n",
       "1    1107.0       -8.0      11.0      1118.0     1223.0      7.0   \n",
       "2    1330.0       -5.0      15.0      1345.0     1631.0      5.0   \n",
       "\n",
       "   CRS_ARR_TIME  ARR_TIME  ARR_DELAY  CRS_ELAPSED_TIME  ACTUAL_ELAPSED_TIME  \\\n",
       "0          1745    1722.0      -23.0             268.0                250.0   \n",
       "1          1254    1230.0      -24.0              99.0                 83.0   \n",
       "2          1649    1636.0      -13.0             134.0                126.0   \n",
       "\n",
       "   AIR_TIME  DISTANCE  \n",
       "0     225.0    1605.0  \n",
       "1      65.0     414.0  \n",
       "2     106.0     846.0  "
      ]
     },
     "execution_count": 66,
     "metadata": {},
     "output_type": "execute_result"
    }
   ],
   "source": [
    "df1 = df1.drop(['OP_CARRIER_FL_NUM'], axis=1)\n",
    "df1.head(3)"
   ]
  },
  {
   "cell_type": "markdown",
   "metadata": {},
   "source": [
    "### DEP_TIME & ARR_TIME"
   ]
  },
  {
   "cell_type": "markdown",
   "metadata": {},
   "source": [
    "After analysing the data for quite some time I realized that the content of the DEP_TIME (departure time) and ARR_TIME (arrival time) variables can be a bit misleading since they don't contain the dates. To explain my point let's assume a schedule departure at 0h05 on the 1st of the month, but then the departure time says 23h50. What really happened here? is there a 23 hour and 45 minute delay? or did the flight leave 15 minutes earlier? Now look at the DEP_DELAY and ARR_DELAY. Both of these are more informative because they give us directly the delay in minutes. So in my example the Departure Delay would be -15 min telling us that the flight left early. With this said I will not be keeping the Departure and Arrival Time.  "
   ]
  },
  {
   "cell_type": "code",
   "execution_count": 67,
   "metadata": {
    "ExecuteTime": {
     "end_time": "2020-10-09T12:00:40.731328Z",
     "start_time": "2020-10-09T12:00:40.212312Z"
    }
   },
   "outputs": [
    {
     "data": {
      "text/html": [
       "<div>\n",
       "<style scoped>\n",
       "    .dataframe tbody tr th:only-of-type {\n",
       "        vertical-align: middle;\n",
       "    }\n",
       "\n",
       "    .dataframe tbody tr th {\n",
       "        vertical-align: top;\n",
       "    }\n",
       "\n",
       "    .dataframe thead th {\n",
       "        text-align: right;\n",
       "    }\n",
       "</style>\n",
       "<table border=\"1\" class=\"dataframe\">\n",
       "  <thead>\n",
       "    <tr style=\"text-align: right;\">\n",
       "      <th></th>\n",
       "      <th>FL_DATE</th>\n",
       "      <th>OP_CARRIER</th>\n",
       "      <th>ORIGIN</th>\n",
       "      <th>DEST</th>\n",
       "      <th>CRS_DEP_TIME</th>\n",
       "      <th>DEP_DELAY</th>\n",
       "      <th>TAXI_OUT</th>\n",
       "      <th>WHEELS_OFF</th>\n",
       "      <th>WHEELS_ON</th>\n",
       "      <th>TAXI_IN</th>\n",
       "      <th>CRS_ARR_TIME</th>\n",
       "      <th>ARR_DELAY</th>\n",
       "      <th>CRS_ELAPSED_TIME</th>\n",
       "      <th>ACTUAL_ELAPSED_TIME</th>\n",
       "      <th>AIR_TIME</th>\n",
       "      <th>DISTANCE</th>\n",
       "    </tr>\n",
       "  </thead>\n",
       "  <tbody>\n",
       "    <tr>\n",
       "      <th>0</th>\n",
       "      <td>2018-01-01</td>\n",
       "      <td>United Airlines</td>\n",
       "      <td>Newark</td>\n",
       "      <td>Denver</td>\n",
       "      <td>1517</td>\n",
       "      <td>-5.0</td>\n",
       "      <td>15.0</td>\n",
       "      <td>1527.0</td>\n",
       "      <td>1712.0</td>\n",
       "      <td>10.0</td>\n",
       "      <td>1745</td>\n",
       "      <td>-23.0</td>\n",
       "      <td>268.0</td>\n",
       "      <td>250.0</td>\n",
       "      <td>225.0</td>\n",
       "      <td>1605.0</td>\n",
       "    </tr>\n",
       "    <tr>\n",
       "      <th>1</th>\n",
       "      <td>2018-01-01</td>\n",
       "      <td>United Airlines</td>\n",
       "      <td>Las Vegas</td>\n",
       "      <td>San Francisco</td>\n",
       "      <td>1115</td>\n",
       "      <td>-8.0</td>\n",
       "      <td>11.0</td>\n",
       "      <td>1118.0</td>\n",
       "      <td>1223.0</td>\n",
       "      <td>7.0</td>\n",
       "      <td>1254</td>\n",
       "      <td>-24.0</td>\n",
       "      <td>99.0</td>\n",
       "      <td>83.0</td>\n",
       "      <td>65.0</td>\n",
       "      <td>414.0</td>\n",
       "    </tr>\n",
       "  </tbody>\n",
       "</table>\n",
       "</div>"
      ],
      "text/plain": [
       "      FL_DATE       OP_CARRIER     ORIGIN           DEST  CRS_DEP_TIME  \\\n",
       "0  2018-01-01  United Airlines     Newark         Denver          1517   \n",
       "1  2018-01-01  United Airlines  Las Vegas  San Francisco          1115   \n",
       "\n",
       "   DEP_DELAY  TAXI_OUT  WHEELS_OFF  WHEELS_ON  TAXI_IN  CRS_ARR_TIME  \\\n",
       "0       -5.0      15.0      1527.0     1712.0     10.0          1745   \n",
       "1       -8.0      11.0      1118.0     1223.0      7.0          1254   \n",
       "\n",
       "   ARR_DELAY  CRS_ELAPSED_TIME  ACTUAL_ELAPSED_TIME  AIR_TIME  DISTANCE  \n",
       "0      -23.0             268.0                250.0     225.0    1605.0  \n",
       "1      -24.0              99.0                 83.0      65.0     414.0  "
      ]
     },
     "execution_count": 67,
     "metadata": {},
     "output_type": "execute_result"
    }
   ],
   "source": [
    "df1.drop(columns=['DEP_TIME', 'ARR_TIME'], inplace=True)\n",
    "df1.head(2)"
   ]
  },
  {
   "cell_type": "markdown",
   "metadata": {},
   "source": [
    "<b>At this point it is a good idea to save at least a first version of the dataframe due all the pre-processing/cleaning done to it. This way we can always come back to this point instead of re-running everything which will be time consuming due to the size of the data set."
   ]
  },
  {
   "cell_type": "code",
   "execution_count": 68,
   "metadata": {
    "ExecuteTime": {
     "end_time": "2020-10-09T12:01:40.347491Z",
     "start_time": "2020-10-09T12:00:42.198629Z"
    }
   },
   "outputs": [],
   "source": [
    "df1.to_csv('df1.csv')"
   ]
  },
  {
   "cell_type": "markdown",
   "metadata": {},
   "source": [
    "## More Cleaning"
   ]
  },
  {
   "cell_type": "markdown",
   "metadata": {},
   "source": [
    "### Dealing with Missing Values - NaN"
   ]
  },
  {
   "cell_type": "code",
   "execution_count": 69,
   "metadata": {
    "ExecuteTime": {
     "end_time": "2020-10-09T12:01:41.844784Z",
     "start_time": "2020-10-09T12:01:41.838434Z"
    }
   },
   "outputs": [
    {
     "name": "stdout",
     "output_type": "stream",
     "text": [
      "<class 'pandas.core.frame.DataFrame'>\n",
      "Int64Index: 7096862 entries, 0 to 7213445\n",
      "Data columns (total 16 columns):\n",
      " #   Column               Dtype  \n",
      "---  ------               -----  \n",
      " 0   FL_DATE              object \n",
      " 1   OP_CARRIER           object \n",
      " 2   ORIGIN               object \n",
      " 3   DEST                 object \n",
      " 4   CRS_DEP_TIME         int64  \n",
      " 5   DEP_DELAY            float64\n",
      " 6   TAXI_OUT             float64\n",
      " 7   WHEELS_OFF           float64\n",
      " 8   WHEELS_ON            float64\n",
      " 9   TAXI_IN              float64\n",
      " 10  CRS_ARR_TIME         int64  \n",
      " 11  ARR_DELAY            float64\n",
      " 12  CRS_ELAPSED_TIME     float64\n",
      " 13  ACTUAL_ELAPSED_TIME  float64\n",
      " 14  AIR_TIME             float64\n",
      " 15  DISTANCE             float64\n",
      "dtypes: float64(10), int64(2), object(4)\n",
      "memory usage: 920.5+ MB\n"
     ]
    }
   ],
   "source": [
    "df1.info()"
   ]
  },
  {
   "cell_type": "code",
   "execution_count": 70,
   "metadata": {
    "ExecuteTime": {
     "end_time": "2020-10-09T12:01:44.252093Z",
     "start_time": "2020-10-09T12:01:43.373796Z"
    },
    "scrolled": true
   },
   "outputs": [
    {
     "data": {
      "text/plain": [
       "FL_DATE                    0\n",
       "OP_CARRIER                 0\n",
       "ORIGIN                     0\n",
       "DEST                       0\n",
       "CRS_DEP_TIME               0\n",
       "DEP_DELAY               4743\n",
       "TAXI_OUT                   0\n",
       "WHEELS_OFF                 0\n",
       "WHEELS_ON               2662\n",
       "TAXI_IN                 2662\n",
       "CRS_ARR_TIME               0\n",
       "ARR_DELAY              20456\n",
       "CRS_ELAPSED_TIME           7\n",
       "ACTUAL_ELAPSED_TIME    17858\n",
       "AIR_TIME               17858\n",
       "DISTANCE                   0\n",
       "dtype: int64"
      ]
     },
     "execution_count": 70,
     "metadata": {},
     "output_type": "execute_result"
    }
   ],
   "source": [
    "df1.isna().sum()"
   ]
  },
  {
   "cell_type": "code",
   "execution_count": 71,
   "metadata": {
    "ExecuteTime": {
     "end_time": "2020-10-09T12:01:46.507350Z",
     "start_time": "2020-10-09T12:01:45.734888Z"
    }
   },
   "outputs": [
    {
     "name": "stdout",
     "output_type": "stream",
     "text": [
      "Number of total missing values: 66246\n",
      "df1 shape: (7096862, 16)\n"
     ]
    }
   ],
   "source": [
    "print('Number of total missing values:', df1.isna().sum().sum())\n",
    "print('df1 shape:', df1.shape)"
   ]
  },
  {
   "cell_type": "markdown",
   "metadata": {
    "ExecuteTime": {
     "end_time": "2020-10-04T16:40:07.937276Z",
     "start_time": "2020-10-04T16:40:07.931962Z"
    }
   },
   "source": [
    "There are quite some missing values in a few rows, although compared to the size of the entire dataframe, it is just a minimal percentage considerable below 1%, so in principle I could drop those rows, but before going that route I will try to save some of them<br>\n",
    "\n",
    "To understand these missing values let's create a new dataframe with only those rows that have at least one missing values and lets look at the first 20 rows"
   ]
  },
  {
   "cell_type": "code",
   "execution_count": 72,
   "metadata": {
    "ExecuteTime": {
     "end_time": "2020-10-09T12:01:48.693346Z",
     "start_time": "2020-10-09T12:01:47.963820Z"
    }
   },
   "outputs": [
    {
     "data": {
      "text/html": [
       "<div>\n",
       "<style scoped>\n",
       "    .dataframe tbody tr th:only-of-type {\n",
       "        vertical-align: middle;\n",
       "    }\n",
       "\n",
       "    .dataframe tbody tr th {\n",
       "        vertical-align: top;\n",
       "    }\n",
       "\n",
       "    .dataframe thead th {\n",
       "        text-align: right;\n",
       "    }\n",
       "</style>\n",
       "<table border=\"1\" class=\"dataframe\">\n",
       "  <thead>\n",
       "    <tr style=\"text-align: right;\">\n",
       "      <th></th>\n",
       "      <th>FL_DATE</th>\n",
       "      <th>OP_CARRIER</th>\n",
       "      <th>ORIGIN</th>\n",
       "      <th>DEST</th>\n",
       "      <th>CRS_DEP_TIME</th>\n",
       "      <th>DEP_DELAY</th>\n",
       "      <th>TAXI_OUT</th>\n",
       "      <th>WHEELS_OFF</th>\n",
       "      <th>WHEELS_ON</th>\n",
       "      <th>TAXI_IN</th>\n",
       "      <th>CRS_ARR_TIME</th>\n",
       "      <th>ARR_DELAY</th>\n",
       "      <th>CRS_ELAPSED_TIME</th>\n",
       "      <th>ACTUAL_ELAPSED_TIME</th>\n",
       "      <th>AIR_TIME</th>\n",
       "      <th>DISTANCE</th>\n",
       "    </tr>\n",
       "  </thead>\n",
       "  <tbody>\n",
       "    <tr>\n",
       "      <th>1168</th>\n",
       "      <td>2018-01-01</td>\n",
       "      <td>United Airlines</td>\n",
       "      <td>San Francisco</td>\n",
       "      <td>San Diego</td>\n",
       "      <td>729</td>\n",
       "      <td>-11.0</td>\n",
       "      <td>17.0</td>\n",
       "      <td>735.0</td>\n",
       "      <td>1124.0</td>\n",
       "      <td>3.0</td>\n",
       "      <td>903</td>\n",
       "      <td>NaN</td>\n",
       "      <td>94.0</td>\n",
       "      <td>NaN</td>\n",
       "      <td>NaN</td>\n",
       "      <td>447.0</td>\n",
       "    </tr>\n",
       "    <tr>\n",
       "      <th>1638</th>\n",
       "      <td>2018-01-01</td>\n",
       "      <td>Alaska Airlines</td>\n",
       "      <td>Petersburg</td>\n",
       "      <td>Wrangell</td>\n",
       "      <td>1514</td>\n",
       "      <td>72.0</td>\n",
       "      <td>20.0</td>\n",
       "      <td>1646.0</td>\n",
       "      <td>NaN</td>\n",
       "      <td>NaN</td>\n",
       "      <td>1538</td>\n",
       "      <td>NaN</td>\n",
       "      <td>24.0</td>\n",
       "      <td>NaN</td>\n",
       "      <td>NaN</td>\n",
       "      <td>31.0</td>\n",
       "    </tr>\n",
       "    <tr>\n",
       "      <th>1643</th>\n",
       "      <td>2018-01-01</td>\n",
       "      <td>Alaska Airlines</td>\n",
       "      <td>Ketchikan</td>\n",
       "      <td>Wrangell</td>\n",
       "      <td>925</td>\n",
       "      <td>-7.0</td>\n",
       "      <td>26.0</td>\n",
       "      <td>944.0</td>\n",
       "      <td>NaN</td>\n",
       "      <td>NaN</td>\n",
       "      <td>1011</td>\n",
       "      <td>NaN</td>\n",
       "      <td>46.0</td>\n",
       "      <td>NaN</td>\n",
       "      <td>NaN</td>\n",
       "      <td>82.0</td>\n",
       "    </tr>\n",
       "    <tr>\n",
       "      <th>1683</th>\n",
       "      <td>2018-01-01</td>\n",
       "      <td>Alaska Airlines</td>\n",
       "      <td>Seattle</td>\n",
       "      <td>San Diego</td>\n",
       "      <td>550</td>\n",
       "      <td>-6.0</td>\n",
       "      <td>18.0</td>\n",
       "      <td>602.0</td>\n",
       "      <td>1046.0</td>\n",
       "      <td>3.0</td>\n",
       "      <td>840</td>\n",
       "      <td>NaN</td>\n",
       "      <td>170.0</td>\n",
       "      <td>NaN</td>\n",
       "      <td>NaN</td>\n",
       "      <td>1050.0</td>\n",
       "    </tr>\n",
       "    <tr>\n",
       "      <th>1850</th>\n",
       "      <td>2018-01-01</td>\n",
       "      <td>Alaska Airlines</td>\n",
       "      <td>Seattle</td>\n",
       "      <td>San Diego</td>\n",
       "      <td>725</td>\n",
       "      <td>-3.0</td>\n",
       "      <td>16.0</td>\n",
       "      <td>738.0</td>\n",
       "      <td>1216.0</td>\n",
       "      <td>3.0</td>\n",
       "      <td>1017</td>\n",
       "      <td>NaN</td>\n",
       "      <td>172.0</td>\n",
       "      <td>NaN</td>\n",
       "      <td>NaN</td>\n",
       "      <td>1050.0</td>\n",
       "    </tr>\n",
       "    <tr>\n",
       "      <th>1886</th>\n",
       "      <td>2018-01-01</td>\n",
       "      <td>Alaska Airlines</td>\n",
       "      <td>Portland</td>\n",
       "      <td>San Diego</td>\n",
       "      <td>625</td>\n",
       "      <td>6.0</td>\n",
       "      <td>17.0</td>\n",
       "      <td>648.0</td>\n",
       "      <td>1147.0</td>\n",
       "      <td>4.0</td>\n",
       "      <td>852</td>\n",
       "      <td>NaN</td>\n",
       "      <td>147.0</td>\n",
       "      <td>NaN</td>\n",
       "      <td>NaN</td>\n",
       "      <td>933.0</td>\n",
       "    </tr>\n",
       "    <tr>\n",
       "      <th>1958</th>\n",
       "      <td>2018-01-01</td>\n",
       "      <td>Alaska Airlines</td>\n",
       "      <td>Salt Lake City</td>\n",
       "      <td>San Diego</td>\n",
       "      <td>600</td>\n",
       "      <td>-6.0</td>\n",
       "      <td>31.0</td>\n",
       "      <td>625.0</td>\n",
       "      <td>1031.0</td>\n",
       "      <td>3.0</td>\n",
       "      <td>708</td>\n",
       "      <td>NaN</td>\n",
       "      <td>128.0</td>\n",
       "      <td>NaN</td>\n",
       "      <td>NaN</td>\n",
       "      <td>626.0</td>\n",
       "    </tr>\n",
       "    <tr>\n",
       "      <th>2000</th>\n",
       "      <td>2018-01-01</td>\n",
       "      <td>Alaska Airlines</td>\n",
       "      <td>Baltimore</td>\n",
       "      <td>San Diego</td>\n",
       "      <td>625</td>\n",
       "      <td>1.0</td>\n",
       "      <td>9.0</td>\n",
       "      <td>635.0</td>\n",
       "      <td>1111.0</td>\n",
       "      <td>4.0</td>\n",
       "      <td>905</td>\n",
       "      <td>NaN</td>\n",
       "      <td>340.0</td>\n",
       "      <td>NaN</td>\n",
       "      <td>NaN</td>\n",
       "      <td>2295.0</td>\n",
       "    </tr>\n",
       "    <tr>\n",
       "      <th>2102</th>\n",
       "      <td>2018-01-01</td>\n",
       "      <td>Endeavor Air</td>\n",
       "      <td>Cleveland</td>\n",
       "      <td>Detroit</td>\n",
       "      <td>630</td>\n",
       "      <td>-5.0</td>\n",
       "      <td>39.0</td>\n",
       "      <td>704.0</td>\n",
       "      <td>731.0</td>\n",
       "      <td>8.0</td>\n",
       "      <td>739</td>\n",
       "      <td>NaN</td>\n",
       "      <td>69.0</td>\n",
       "      <td>74.0</td>\n",
       "      <td>27.0</td>\n",
       "      <td>95.0</td>\n",
       "    </tr>\n",
       "    <tr>\n",
       "      <th>2124</th>\n",
       "      <td>2018-01-01</td>\n",
       "      <td>Endeavor Air</td>\n",
       "      <td>Dallas-Fort Worth</td>\n",
       "      <td>New York</td>\n",
       "      <td>900</td>\n",
       "      <td>NaN</td>\n",
       "      <td>16.0</td>\n",
       "      <td>916.0</td>\n",
       "      <td>1303.0</td>\n",
       "      <td>6.0</td>\n",
       "      <td>1334</td>\n",
       "      <td>-25.0</td>\n",
       "      <td>214.0</td>\n",
       "      <td>189.0</td>\n",
       "      <td>167.0</td>\n",
       "      <td>1391.0</td>\n",
       "    </tr>\n",
       "    <tr>\n",
       "      <th>2127</th>\n",
       "      <td>2018-01-01</td>\n",
       "      <td>Endeavor Air</td>\n",
       "      <td>Baltimore</td>\n",
       "      <td>Detroit</td>\n",
       "      <td>1314</td>\n",
       "      <td>6.0</td>\n",
       "      <td>11.0</td>\n",
       "      <td>1331.0</td>\n",
       "      <td>1446.0</td>\n",
       "      <td>5.0</td>\n",
       "      <td>1451</td>\n",
       "      <td>NaN</td>\n",
       "      <td>97.0</td>\n",
       "      <td>91.0</td>\n",
       "      <td>75.0</td>\n",
       "      <td>409.0</td>\n",
       "    </tr>\n",
       "    <tr>\n",
       "      <th>2132</th>\n",
       "      <td>2018-01-01</td>\n",
       "      <td>Endeavor Air</td>\n",
       "      <td>Detroit</td>\n",
       "      <td>Mosinee</td>\n",
       "      <td>1955</td>\n",
       "      <td>NaN</td>\n",
       "      <td>21.0</td>\n",
       "      <td>2016.0</td>\n",
       "      <td>2018.0</td>\n",
       "      <td>3.0</td>\n",
       "      <td>2042</td>\n",
       "      <td>-21.0</td>\n",
       "      <td>107.0</td>\n",
       "      <td>86.0</td>\n",
       "      <td>62.0</td>\n",
       "      <td>363.0</td>\n",
       "    </tr>\n",
       "    <tr>\n",
       "      <th>2179</th>\n",
       "      <td>2018-01-01</td>\n",
       "      <td>Endeavor Air</td>\n",
       "      <td>Detroit</td>\n",
       "      <td>Houston</td>\n",
       "      <td>2007</td>\n",
       "      <td>NaN</td>\n",
       "      <td>21.0</td>\n",
       "      <td>2028.0</td>\n",
       "      <td>2157.0</td>\n",
       "      <td>4.0</td>\n",
       "      <td>2242</td>\n",
       "      <td>-41.0</td>\n",
       "      <td>215.0</td>\n",
       "      <td>174.0</td>\n",
       "      <td>149.0</td>\n",
       "      <td>1075.0</td>\n",
       "    </tr>\n",
       "    <tr>\n",
       "      <th>2188</th>\n",
       "      <td>2018-01-01</td>\n",
       "      <td>Endeavor Air</td>\n",
       "      <td>Newark</td>\n",
       "      <td>Minneapolis</td>\n",
       "      <td>1630</td>\n",
       "      <td>NaN</td>\n",
       "      <td>26.0</td>\n",
       "      <td>1656.0</td>\n",
       "      <td>1818.0</td>\n",
       "      <td>7.0</td>\n",
       "      <td>1853</td>\n",
       "      <td>-28.0</td>\n",
       "      <td>203.0</td>\n",
       "      <td>175.0</td>\n",
       "      <td>142.0</td>\n",
       "      <td>1008.0</td>\n",
       "    </tr>\n",
       "    <tr>\n",
       "      <th>2194</th>\n",
       "      <td>2018-01-01</td>\n",
       "      <td>Endeavor Air</td>\n",
       "      <td>Lexington</td>\n",
       "      <td>Detroit</td>\n",
       "      <td>945</td>\n",
       "      <td>-9.0</td>\n",
       "      <td>34.0</td>\n",
       "      <td>1010.0</td>\n",
       "      <td>1107.0</td>\n",
       "      <td>6.0</td>\n",
       "      <td>1113</td>\n",
       "      <td>NaN</td>\n",
       "      <td>88.0</td>\n",
       "      <td>97.0</td>\n",
       "      <td>57.0</td>\n",
       "      <td>296.0</td>\n",
       "    </tr>\n",
       "    <tr>\n",
       "      <th>2209</th>\n",
       "      <td>2018-01-01</td>\n",
       "      <td>Endeavor Air</td>\n",
       "      <td>Detroit</td>\n",
       "      <td>Cleveland</td>\n",
       "      <td>1525</td>\n",
       "      <td>6.0</td>\n",
       "      <td>22.0</td>\n",
       "      <td>1553.0</td>\n",
       "      <td>1618.0</td>\n",
       "      <td>11.0</td>\n",
       "      <td>1629</td>\n",
       "      <td>NaN</td>\n",
       "      <td>64.0</td>\n",
       "      <td>58.0</td>\n",
       "      <td>25.0</td>\n",
       "      <td>95.0</td>\n",
       "    </tr>\n",
       "    <tr>\n",
       "      <th>2248</th>\n",
       "      <td>2018-01-01</td>\n",
       "      <td>Endeavor Air</td>\n",
       "      <td>Atlanta</td>\n",
       "      <td>Fargo</td>\n",
       "      <td>2120</td>\n",
       "      <td>NaN</td>\n",
       "      <td>16.0</td>\n",
       "      <td>2136.0</td>\n",
       "      <td>2318.0</td>\n",
       "      <td>6.0</td>\n",
       "      <td>2330</td>\n",
       "      <td>-6.0</td>\n",
       "      <td>190.0</td>\n",
       "      <td>184.0</td>\n",
       "      <td>162.0</td>\n",
       "      <td>1123.0</td>\n",
       "    </tr>\n",
       "    <tr>\n",
       "      <th>2254</th>\n",
       "      <td>2018-01-01</td>\n",
       "      <td>Endeavor Air</td>\n",
       "      <td>Minneapolis</td>\n",
       "      <td>Knoxville</td>\n",
       "      <td>1927</td>\n",
       "      <td>22.0</td>\n",
       "      <td>30.0</td>\n",
       "      <td>2019.0</td>\n",
       "      <td>2258.0</td>\n",
       "      <td>3.0</td>\n",
       "      <td>2301</td>\n",
       "      <td>NaN</td>\n",
       "      <td>154.0</td>\n",
       "      <td>132.0</td>\n",
       "      <td>99.0</td>\n",
       "      <td>792.0</td>\n",
       "    </tr>\n",
       "    <tr>\n",
       "      <th>2271</th>\n",
       "      <td>2018-01-01</td>\n",
       "      <td>Endeavor Air</td>\n",
       "      <td>Minneapolis</td>\n",
       "      <td>Grand Forks</td>\n",
       "      <td>1930</td>\n",
       "      <td>NaN</td>\n",
       "      <td>13.0</td>\n",
       "      <td>1943.0</td>\n",
       "      <td>2030.0</td>\n",
       "      <td>3.0</td>\n",
       "      <td>2103</td>\n",
       "      <td>-30.0</td>\n",
       "      <td>93.0</td>\n",
       "      <td>63.0</td>\n",
       "      <td>47.0</td>\n",
       "      <td>284.0</td>\n",
       "    </tr>\n",
       "    <tr>\n",
       "      <th>2314</th>\n",
       "      <td>2018-01-01</td>\n",
       "      <td>Endeavor Air</td>\n",
       "      <td>Covington</td>\n",
       "      <td>Minneapolis</td>\n",
       "      <td>1700</td>\n",
       "      <td>NaN</td>\n",
       "      <td>18.0</td>\n",
       "      <td>1718.0</td>\n",
       "      <td>1751.0</td>\n",
       "      <td>4.0</td>\n",
       "      <td>1815</td>\n",
       "      <td>-20.0</td>\n",
       "      <td>135.0</td>\n",
       "      <td>115.0</td>\n",
       "      <td>93.0</td>\n",
       "      <td>596.0</td>\n",
       "    </tr>\n",
       "  </tbody>\n",
       "</table>\n",
       "</div>"
      ],
      "text/plain": [
       "         FL_DATE       OP_CARRIER             ORIGIN         DEST  \\\n",
       "1168  2018-01-01  United Airlines      San Francisco    San Diego   \n",
       "1638  2018-01-01  Alaska Airlines         Petersburg     Wrangell   \n",
       "1643  2018-01-01  Alaska Airlines          Ketchikan     Wrangell   \n",
       "1683  2018-01-01  Alaska Airlines            Seattle    San Diego   \n",
       "1850  2018-01-01  Alaska Airlines            Seattle    San Diego   \n",
       "1886  2018-01-01  Alaska Airlines           Portland    San Diego   \n",
       "1958  2018-01-01  Alaska Airlines     Salt Lake City    San Diego   \n",
       "2000  2018-01-01  Alaska Airlines          Baltimore    San Diego   \n",
       "2102  2018-01-01     Endeavor Air          Cleveland      Detroit   \n",
       "2124  2018-01-01     Endeavor Air  Dallas-Fort Worth     New York   \n",
       "2127  2018-01-01     Endeavor Air          Baltimore      Detroit   \n",
       "2132  2018-01-01     Endeavor Air            Detroit      Mosinee   \n",
       "2179  2018-01-01     Endeavor Air            Detroit      Houston   \n",
       "2188  2018-01-01     Endeavor Air             Newark  Minneapolis   \n",
       "2194  2018-01-01     Endeavor Air          Lexington      Detroit   \n",
       "2209  2018-01-01     Endeavor Air            Detroit    Cleveland   \n",
       "2248  2018-01-01     Endeavor Air            Atlanta        Fargo   \n",
       "2254  2018-01-01     Endeavor Air        Minneapolis    Knoxville   \n",
       "2271  2018-01-01     Endeavor Air        Minneapolis  Grand Forks   \n",
       "2314  2018-01-01     Endeavor Air          Covington  Minneapolis   \n",
       "\n",
       "      CRS_DEP_TIME  DEP_DELAY  TAXI_OUT  WHEELS_OFF  WHEELS_ON  TAXI_IN  \\\n",
       "1168           729      -11.0      17.0       735.0     1124.0      3.0   \n",
       "1638          1514       72.0      20.0      1646.0        NaN      NaN   \n",
       "1643           925       -7.0      26.0       944.0        NaN      NaN   \n",
       "1683           550       -6.0      18.0       602.0     1046.0      3.0   \n",
       "1850           725       -3.0      16.0       738.0     1216.0      3.0   \n",
       "1886           625        6.0      17.0       648.0     1147.0      4.0   \n",
       "1958           600       -6.0      31.0       625.0     1031.0      3.0   \n",
       "2000           625        1.0       9.0       635.0     1111.0      4.0   \n",
       "2102           630       -5.0      39.0       704.0      731.0      8.0   \n",
       "2124           900        NaN      16.0       916.0     1303.0      6.0   \n",
       "2127          1314        6.0      11.0      1331.0     1446.0      5.0   \n",
       "2132          1955        NaN      21.0      2016.0     2018.0      3.0   \n",
       "2179          2007        NaN      21.0      2028.0     2157.0      4.0   \n",
       "2188          1630        NaN      26.0      1656.0     1818.0      7.0   \n",
       "2194           945       -9.0      34.0      1010.0     1107.0      6.0   \n",
       "2209          1525        6.0      22.0      1553.0     1618.0     11.0   \n",
       "2248          2120        NaN      16.0      2136.0     2318.0      6.0   \n",
       "2254          1927       22.0      30.0      2019.0     2258.0      3.0   \n",
       "2271          1930        NaN      13.0      1943.0     2030.0      3.0   \n",
       "2314          1700        NaN      18.0      1718.0     1751.0      4.0   \n",
       "\n",
       "      CRS_ARR_TIME  ARR_DELAY  CRS_ELAPSED_TIME  ACTUAL_ELAPSED_TIME  \\\n",
       "1168           903        NaN              94.0                  NaN   \n",
       "1638          1538        NaN              24.0                  NaN   \n",
       "1643          1011        NaN              46.0                  NaN   \n",
       "1683           840        NaN             170.0                  NaN   \n",
       "1850          1017        NaN             172.0                  NaN   \n",
       "1886           852        NaN             147.0                  NaN   \n",
       "1958           708        NaN             128.0                  NaN   \n",
       "2000           905        NaN             340.0                  NaN   \n",
       "2102           739        NaN              69.0                 74.0   \n",
       "2124          1334      -25.0             214.0                189.0   \n",
       "2127          1451        NaN              97.0                 91.0   \n",
       "2132          2042      -21.0             107.0                 86.0   \n",
       "2179          2242      -41.0             215.0                174.0   \n",
       "2188          1853      -28.0             203.0                175.0   \n",
       "2194          1113        NaN              88.0                 97.0   \n",
       "2209          1629        NaN              64.0                 58.0   \n",
       "2248          2330       -6.0             190.0                184.0   \n",
       "2254          2301        NaN             154.0                132.0   \n",
       "2271          2103      -30.0              93.0                 63.0   \n",
       "2314          1815      -20.0             135.0                115.0   \n",
       "\n",
       "      AIR_TIME  DISTANCE  \n",
       "1168       NaN     447.0  \n",
       "1638       NaN      31.0  \n",
       "1643       NaN      82.0  \n",
       "1683       NaN    1050.0  \n",
       "1850       NaN    1050.0  \n",
       "1886       NaN     933.0  \n",
       "1958       NaN     626.0  \n",
       "2000       NaN    2295.0  \n",
       "2102      27.0      95.0  \n",
       "2124     167.0    1391.0  \n",
       "2127      75.0     409.0  \n",
       "2132      62.0     363.0  \n",
       "2179     149.0    1075.0  \n",
       "2188     142.0    1008.0  \n",
       "2194      57.0     296.0  \n",
       "2209      25.0      95.0  \n",
       "2248     162.0    1123.0  \n",
       "2254      99.0     792.0  \n",
       "2271      47.0     284.0  \n",
       "2314      93.0     596.0  "
      ]
     },
     "execution_count": 72,
     "metadata": {},
     "output_type": "execute_result"
    }
   ],
   "source": [
    "df_NaN = df1.loc[df1.isnull().any(axis=1)]\n",
    "df_NaN.head(20)"
   ]
  },
  {
   "cell_type": "code",
   "execution_count": 73,
   "metadata": {
    "ExecuteTime": {
     "end_time": "2020-10-09T12:01:50.374981Z",
     "start_time": "2020-10-09T12:01:50.371798Z"
    }
   },
   "outputs": [
    {
     "data": {
      "text/plain": [
       "(25045, 16)"
      ]
     },
     "execution_count": 73,
     "metadata": {},
     "output_type": "execute_result"
    }
   ],
   "source": [
    "df_NaN.shape"
   ]
  },
  {
   "cell_type": "markdown",
   "metadata": {},
   "source": [
    "There are a total of 25,045 rows with missing values out of 7,096,862 rows of data. This represents:"
   ]
  },
  {
   "cell_type": "code",
   "execution_count": 74,
   "metadata": {
    "ExecuteTime": {
     "end_time": "2020-10-09T12:01:52.124914Z",
     "start_time": "2020-10-09T12:01:52.122128Z"
    }
   },
   "outputs": [
    {
     "name": "stdout",
     "output_type": "stream",
     "text": [
      "Percentage of rows with at least 1 NaN value: 0.352902451816028\n"
     ]
    }
   ],
   "source": [
    "percentage_NaN = (len(df_NaN)*100)/len(df1)\n",
    "print('Percentage of rows with at least 1 NaN value:', percentage_NaN)"
   ]
  },
  {
   "cell_type": "markdown",
   "metadata": {},
   "source": [
    "This is considerably less than 1%. Let's still see if we can save a few:"
   ]
  },
  {
   "cell_type": "markdown",
   "metadata": {},
   "source": [
    "#### DEP_DELAY"
   ]
  },
  {
   "cell_type": "markdown",
   "metadata": {
    "ExecuteTime": {
     "end_time": "2020-10-04T18:33:03.530886Z",
     "start_time": "2020-10-04T18:33:03.526702Z"
    }
   },
   "source": [
    "The DEP_DELAY refers to the \"Departure Delay\", which is the difference between DEP_TIME (Actual Departure Time) and the SCH_DEP_TIME (Scheduled Departute time), therefore, if there are no delays for the departure, then the DEP_DELAY equals 0 (zero), and this is when it ends up being a NaN. This is following the definition of DEP_DELAY and by double checking the 20 rows display just above. So I will replace the NaN on this column by a 0.0 meaning no departure delay and this will help us lower this number from 4743 to 0. "
   ]
  },
  {
   "cell_type": "code",
   "execution_count": 75,
   "metadata": {
    "ExecuteTime": {
     "end_time": "2020-10-09T12:01:54.580892Z",
     "start_time": "2020-10-09T12:01:53.769767Z"
    }
   },
   "outputs": [
    {
     "data": {
      "text/plain": [
       "FL_DATE                    0\n",
       "OP_CARRIER                 0\n",
       "ORIGIN                     0\n",
       "DEST                       0\n",
       "CRS_DEP_TIME               0\n",
       "DEP_DELAY                  0\n",
       "TAXI_OUT                   0\n",
       "WHEELS_OFF                 0\n",
       "WHEELS_ON               2662\n",
       "TAXI_IN                 2662\n",
       "CRS_ARR_TIME               0\n",
       "ARR_DELAY              20456\n",
       "CRS_ELAPSED_TIME           7\n",
       "ACTUAL_ELAPSED_TIME    17858\n",
       "AIR_TIME               17858\n",
       "DISTANCE                   0\n",
       "dtype: int64"
      ]
     },
     "execution_count": 75,
     "metadata": {},
     "output_type": "execute_result"
    }
   ],
   "source": [
    "df1[\"DEP_DELAY\"] = df1[\"DEP_DELAY\"].fillna(0)\n",
    "df1.isna().sum()"
   ]
  },
  {
   "cell_type": "markdown",
   "metadata": {},
   "source": [
    "#### TAXI_IN\n",
    "\n",
    "There is no way that I can find out the values of the missing TAXI_IN. What I can do is replace the NaN by the mean or median."
   ]
  },
  {
   "cell_type": "code",
   "execution_count": 76,
   "metadata": {
    "ExecuteTime": {
     "end_time": "2020-10-09T12:01:56.289003Z",
     "start_time": "2020-10-09T12:01:56.246819Z"
    }
   },
   "outputs": [],
   "source": [
    "df1['TAXI_IN'].fillna((df1['TAXI_IN'].mean()), inplace=True)\n",
    "df_NaN['TAXI_IN'].fillna((df_NaN['TAXI_IN'].mean()), inplace=True)"
   ]
  },
  {
   "cell_type": "code",
   "execution_count": 77,
   "metadata": {
    "ExecuteTime": {
     "end_time": "2020-10-09T12:01:57.940604Z",
     "start_time": "2020-10-09T12:01:57.927042Z"
    }
   },
   "outputs": [
    {
     "data": {
      "text/html": [
       "<div>\n",
       "<style scoped>\n",
       "    .dataframe tbody tr th:only-of-type {\n",
       "        vertical-align: middle;\n",
       "    }\n",
       "\n",
       "    .dataframe tbody tr th {\n",
       "        vertical-align: top;\n",
       "    }\n",
       "\n",
       "    .dataframe thead th {\n",
       "        text-align: right;\n",
       "    }\n",
       "</style>\n",
       "<table border=\"1\" class=\"dataframe\">\n",
       "  <thead>\n",
       "    <tr style=\"text-align: right;\">\n",
       "      <th></th>\n",
       "      <th>FL_DATE</th>\n",
       "      <th>OP_CARRIER</th>\n",
       "      <th>ORIGIN</th>\n",
       "      <th>DEST</th>\n",
       "      <th>CRS_DEP_TIME</th>\n",
       "      <th>DEP_DELAY</th>\n",
       "      <th>TAXI_OUT</th>\n",
       "      <th>WHEELS_OFF</th>\n",
       "      <th>WHEELS_ON</th>\n",
       "      <th>TAXI_IN</th>\n",
       "      <th>CRS_ARR_TIME</th>\n",
       "      <th>ARR_DELAY</th>\n",
       "      <th>CRS_ELAPSED_TIME</th>\n",
       "      <th>ACTUAL_ELAPSED_TIME</th>\n",
       "      <th>AIR_TIME</th>\n",
       "      <th>DISTANCE</th>\n",
       "    </tr>\n",
       "  </thead>\n",
       "  <tbody>\n",
       "    <tr>\n",
       "      <th>1168</th>\n",
       "      <td>2018-01-01</td>\n",
       "      <td>United Airlines</td>\n",
       "      <td>San Francisco</td>\n",
       "      <td>San Diego</td>\n",
       "      <td>729</td>\n",
       "      <td>-11.0</td>\n",
       "      <td>17.0</td>\n",
       "      <td>735.0</td>\n",
       "      <td>1124.0</td>\n",
       "      <td>3.000000</td>\n",
       "      <td>903</td>\n",
       "      <td>NaN</td>\n",
       "      <td>94.0</td>\n",
       "      <td>NaN</td>\n",
       "      <td>NaN</td>\n",
       "      <td>447.0</td>\n",
       "    </tr>\n",
       "    <tr>\n",
       "      <th>1638</th>\n",
       "      <td>2018-01-01</td>\n",
       "      <td>Alaska Airlines</td>\n",
       "      <td>Petersburg</td>\n",
       "      <td>Wrangell</td>\n",
       "      <td>1514</td>\n",
       "      <td>72.0</td>\n",
       "      <td>20.0</td>\n",
       "      <td>1646.0</td>\n",
       "      <td>NaN</td>\n",
       "      <td>9.556851</td>\n",
       "      <td>1538</td>\n",
       "      <td>NaN</td>\n",
       "      <td>24.0</td>\n",
       "      <td>NaN</td>\n",
       "      <td>NaN</td>\n",
       "      <td>31.0</td>\n",
       "    </tr>\n",
       "    <tr>\n",
       "      <th>1643</th>\n",
       "      <td>2018-01-01</td>\n",
       "      <td>Alaska Airlines</td>\n",
       "      <td>Ketchikan</td>\n",
       "      <td>Wrangell</td>\n",
       "      <td>925</td>\n",
       "      <td>-7.0</td>\n",
       "      <td>26.0</td>\n",
       "      <td>944.0</td>\n",
       "      <td>NaN</td>\n",
       "      <td>9.556851</td>\n",
       "      <td>1011</td>\n",
       "      <td>NaN</td>\n",
       "      <td>46.0</td>\n",
       "      <td>NaN</td>\n",
       "      <td>NaN</td>\n",
       "      <td>82.0</td>\n",
       "    </tr>\n",
       "    <tr>\n",
       "      <th>1683</th>\n",
       "      <td>2018-01-01</td>\n",
       "      <td>Alaska Airlines</td>\n",
       "      <td>Seattle</td>\n",
       "      <td>San Diego</td>\n",
       "      <td>550</td>\n",
       "      <td>-6.0</td>\n",
       "      <td>18.0</td>\n",
       "      <td>602.0</td>\n",
       "      <td>1046.0</td>\n",
       "      <td>3.000000</td>\n",
       "      <td>840</td>\n",
       "      <td>NaN</td>\n",
       "      <td>170.0</td>\n",
       "      <td>NaN</td>\n",
       "      <td>NaN</td>\n",
       "      <td>1050.0</td>\n",
       "    </tr>\n",
       "    <tr>\n",
       "      <th>1850</th>\n",
       "      <td>2018-01-01</td>\n",
       "      <td>Alaska Airlines</td>\n",
       "      <td>Seattle</td>\n",
       "      <td>San Diego</td>\n",
       "      <td>725</td>\n",
       "      <td>-3.0</td>\n",
       "      <td>16.0</td>\n",
       "      <td>738.0</td>\n",
       "      <td>1216.0</td>\n",
       "      <td>3.000000</td>\n",
       "      <td>1017</td>\n",
       "      <td>NaN</td>\n",
       "      <td>172.0</td>\n",
       "      <td>NaN</td>\n",
       "      <td>NaN</td>\n",
       "      <td>1050.0</td>\n",
       "    </tr>\n",
       "  </tbody>\n",
       "</table>\n",
       "</div>"
      ],
      "text/plain": [
       "         FL_DATE       OP_CARRIER         ORIGIN       DEST  CRS_DEP_TIME  \\\n",
       "1168  2018-01-01  United Airlines  San Francisco  San Diego           729   \n",
       "1638  2018-01-01  Alaska Airlines     Petersburg   Wrangell          1514   \n",
       "1643  2018-01-01  Alaska Airlines      Ketchikan   Wrangell           925   \n",
       "1683  2018-01-01  Alaska Airlines        Seattle  San Diego           550   \n",
       "1850  2018-01-01  Alaska Airlines        Seattle  San Diego           725   \n",
       "\n",
       "      DEP_DELAY  TAXI_OUT  WHEELS_OFF  WHEELS_ON   TAXI_IN  CRS_ARR_TIME  \\\n",
       "1168      -11.0      17.0       735.0     1124.0  3.000000           903   \n",
       "1638       72.0      20.0      1646.0        NaN  9.556851          1538   \n",
       "1643       -7.0      26.0       944.0        NaN  9.556851          1011   \n",
       "1683       -6.0      18.0       602.0     1046.0  3.000000           840   \n",
       "1850       -3.0      16.0       738.0     1216.0  3.000000          1017   \n",
       "\n",
       "      ARR_DELAY  CRS_ELAPSED_TIME  ACTUAL_ELAPSED_TIME  AIR_TIME  DISTANCE  \n",
       "1168        NaN              94.0                  NaN       NaN     447.0  \n",
       "1638        NaN              24.0                  NaN       NaN      31.0  \n",
       "1643        NaN              46.0                  NaN       NaN      82.0  \n",
       "1683        NaN             170.0                  NaN       NaN    1050.0  \n",
       "1850        NaN             172.0                  NaN       NaN    1050.0  "
      ]
     },
     "execution_count": 77,
     "metadata": {},
     "output_type": "execute_result"
    }
   ],
   "source": [
    "df_NaN.head()"
   ]
  },
  {
   "cell_type": "code",
   "execution_count": 78,
   "metadata": {
    "ExecuteTime": {
     "end_time": "2020-10-09T12:01:59.612426Z",
     "start_time": "2020-10-09T12:01:59.598979Z"
    }
   },
   "outputs": [
    {
     "data": {
      "text/plain": [
       "0"
      ]
     },
     "execution_count": 78,
     "metadata": {},
     "output_type": "execute_result"
    }
   ],
   "source": [
    "df1.TAXI_IN.isna().sum()"
   ]
  },
  {
   "cell_type": "markdown",
   "metadata": {},
   "source": [
    "#### Others\n",
    "\n",
    "That slightly helps reduce the number of missing values but not a great deal yet. \n",
    "\n",
    "Probably not worth the effort to try to avoid losing some of this data as the percentage as I showed above is considerably under 1%, therefore I will just drop those rows and keep on going with my analysis."
   ]
  },
  {
   "cell_type": "code",
   "execution_count": 79,
   "metadata": {
    "ExecuteTime": {
     "end_time": "2020-10-09T12:02:02.075814Z",
     "start_time": "2020-10-09T12:02:01.307759Z"
    }
   },
   "outputs": [
    {
     "data": {
      "text/plain": [
       "FL_DATE                    0\n",
       "OP_CARRIER                 0\n",
       "ORIGIN                     0\n",
       "DEST                       0\n",
       "CRS_DEP_TIME               0\n",
       "DEP_DELAY                  0\n",
       "TAXI_OUT                   0\n",
       "WHEELS_OFF                 0\n",
       "WHEELS_ON               2662\n",
       "TAXI_IN                    0\n",
       "CRS_ARR_TIME               0\n",
       "ARR_DELAY              20456\n",
       "CRS_ELAPSED_TIME           7\n",
       "ACTUAL_ELAPSED_TIME    17858\n",
       "AIR_TIME               17858\n",
       "DISTANCE                   0\n",
       "dtype: int64"
      ]
     },
     "execution_count": 79,
     "metadata": {},
     "output_type": "execute_result"
    }
   ],
   "source": [
    "df1.isna().sum()"
   ]
  },
  {
   "cell_type": "markdown",
   "metadata": {},
   "source": [
    "<b>Ghosst flights???</b>\n",
    "\n",
    "As you might have noticed, there are 2662 flights already identified from the initial .isna().sum() call that according to our dataframe never landed. They have no WHEELS_ON nor ARR_TIME. I will do more research on this but once I am more advance in the project, so for the time being I'll keep on going and will come back to this. "
   ]
  },
  {
   "cell_type": "code",
   "execution_count": 80,
   "metadata": {
    "ExecuteTime": {
     "end_time": "2020-10-09T12:02:05.194834Z",
     "start_time": "2020-10-09T12:02:03.724253Z"
    }
   },
   "outputs": [],
   "source": [
    "df1 = df1.dropna()"
   ]
  },
  {
   "cell_type": "code",
   "execution_count": 81,
   "metadata": {
    "ExecuteTime": {
     "end_time": "2020-10-09T12:02:06.880891Z",
     "start_time": "2020-10-09T12:02:06.877618Z"
    }
   },
   "outputs": [
    {
     "data": {
      "text/plain": [
       "(7076405, 16)"
      ]
     },
     "execution_count": 81,
     "metadata": {},
     "output_type": "execute_result"
    }
   ],
   "source": [
    "df1.shape"
   ]
  },
  {
   "cell_type": "code",
   "execution_count": 82,
   "metadata": {
    "ExecuteTime": {
     "end_time": "2020-10-09T12:02:09.328341Z",
     "start_time": "2020-10-09T12:02:08.527424Z"
    }
   },
   "outputs": [
    {
     "data": {
      "text/plain": [
       "FL_DATE                0\n",
       "OP_CARRIER             0\n",
       "ORIGIN                 0\n",
       "DEST                   0\n",
       "CRS_DEP_TIME           0\n",
       "DEP_DELAY              0\n",
       "TAXI_OUT               0\n",
       "WHEELS_OFF             0\n",
       "WHEELS_ON              0\n",
       "TAXI_IN                0\n",
       "CRS_ARR_TIME           0\n",
       "ARR_DELAY              0\n",
       "CRS_ELAPSED_TIME       0\n",
       "ACTUAL_ELAPSED_TIME    0\n",
       "AIR_TIME               0\n",
       "DISTANCE               0\n",
       "dtype: int64"
      ]
     },
     "execution_count": 82,
     "metadata": {},
     "output_type": "execute_result"
    }
   ],
   "source": [
    "df1.isna().sum()"
   ]
  },
  {
   "cell_type": "code",
   "execution_count": 83,
   "metadata": {
    "ExecuteTime": {
     "end_time": "2020-10-09T12:02:11.119394Z",
     "start_time": "2020-10-09T12:02:11.102976Z"
    }
   },
   "outputs": [
    {
     "data": {
      "text/html": [
       "<div>\n",
       "<style scoped>\n",
       "    .dataframe tbody tr th:only-of-type {\n",
       "        vertical-align: middle;\n",
       "    }\n",
       "\n",
       "    .dataframe tbody tr th {\n",
       "        vertical-align: top;\n",
       "    }\n",
       "\n",
       "    .dataframe thead th {\n",
       "        text-align: right;\n",
       "    }\n",
       "</style>\n",
       "<table border=\"1\" class=\"dataframe\">\n",
       "  <thead>\n",
       "    <tr style=\"text-align: right;\">\n",
       "      <th></th>\n",
       "      <th>FL_DATE</th>\n",
       "      <th>OP_CARRIER</th>\n",
       "      <th>ORIGIN</th>\n",
       "      <th>DEST</th>\n",
       "      <th>CRS_DEP_TIME</th>\n",
       "      <th>DEP_DELAY</th>\n",
       "      <th>TAXI_OUT</th>\n",
       "      <th>WHEELS_OFF</th>\n",
       "      <th>WHEELS_ON</th>\n",
       "      <th>TAXI_IN</th>\n",
       "      <th>CRS_ARR_TIME</th>\n",
       "      <th>ARR_DELAY</th>\n",
       "      <th>CRS_ELAPSED_TIME</th>\n",
       "      <th>ACTUAL_ELAPSED_TIME</th>\n",
       "      <th>AIR_TIME</th>\n",
       "      <th>DISTANCE</th>\n",
       "    </tr>\n",
       "  </thead>\n",
       "  <tbody>\n",
       "    <tr>\n",
       "      <th>0</th>\n",
       "      <td>2018-01-01</td>\n",
       "      <td>United Airlines</td>\n",
       "      <td>Newark</td>\n",
       "      <td>Denver</td>\n",
       "      <td>1517</td>\n",
       "      <td>-5.0</td>\n",
       "      <td>15.0</td>\n",
       "      <td>1527.0</td>\n",
       "      <td>1712.0</td>\n",
       "      <td>10.0</td>\n",
       "      <td>1745</td>\n",
       "      <td>-23.0</td>\n",
       "      <td>268.0</td>\n",
       "      <td>250.0</td>\n",
       "      <td>225.0</td>\n",
       "      <td>1605.0</td>\n",
       "    </tr>\n",
       "    <tr>\n",
       "      <th>1</th>\n",
       "      <td>2018-01-01</td>\n",
       "      <td>United Airlines</td>\n",
       "      <td>Las Vegas</td>\n",
       "      <td>San Francisco</td>\n",
       "      <td>1115</td>\n",
       "      <td>-8.0</td>\n",
       "      <td>11.0</td>\n",
       "      <td>1118.0</td>\n",
       "      <td>1223.0</td>\n",
       "      <td>7.0</td>\n",
       "      <td>1254</td>\n",
       "      <td>-24.0</td>\n",
       "      <td>99.0</td>\n",
       "      <td>83.0</td>\n",
       "      <td>65.0</td>\n",
       "      <td>414.0</td>\n",
       "    </tr>\n",
       "  </tbody>\n",
       "</table>\n",
       "</div>"
      ],
      "text/plain": [
       "      FL_DATE       OP_CARRIER     ORIGIN           DEST  CRS_DEP_TIME  \\\n",
       "0  2018-01-01  United Airlines     Newark         Denver          1517   \n",
       "1  2018-01-01  United Airlines  Las Vegas  San Francisco          1115   \n",
       "\n",
       "   DEP_DELAY  TAXI_OUT  WHEELS_OFF  WHEELS_ON  TAXI_IN  CRS_ARR_TIME  \\\n",
       "0       -5.0      15.0      1527.0     1712.0     10.0          1745   \n",
       "1       -8.0      11.0      1118.0     1223.0      7.0          1254   \n",
       "\n",
       "   ARR_DELAY  CRS_ELAPSED_TIME  ACTUAL_ELAPSED_TIME  AIR_TIME  DISTANCE  \n",
       "0      -23.0             268.0                250.0     225.0    1605.0  \n",
       "1      -24.0              99.0                 83.0      65.0     414.0  "
      ]
     },
     "execution_count": 83,
     "metadata": {},
     "output_type": "execute_result"
    }
   ],
   "source": [
    "df1.head(2)"
   ]
  },
  {
   "cell_type": "markdown",
   "metadata": {},
   "source": [
    "### Additional Pre-Processing"
   ]
  },
  {
   "cell_type": "markdown",
   "metadata": {},
   "source": [
    "This section is put here because of the need to not have any NaN values for the equation below to work:"
   ]
  },
  {
   "cell_type": "markdown",
   "metadata": {},
   "source": [
    "### Time-Related Columns"
   ]
  },
  {
   "cell_type": "markdown",
   "metadata": {},
   "source": [
    "Time is normally a categorical and having it in the current format will give us too many columns when the hot encode is applied to them, therefore I will split the time into 4 quarters of the days meaning of 6 hours each."
   ]
  },
  {
   "cell_type": "code",
   "execution_count": 84,
   "metadata": {
    "ExecuteTime": {
     "end_time": "2020-10-09T12:02:20.428384Z",
     "start_time": "2020-10-09T12:02:12.845307Z"
    }
   },
   "outputs": [],
   "source": [
    "df1['CRS_DEP_TIME'] = np.ceil(df1['CRS_DEP_TIME']/600).apply(int)\n",
    "df1['WHEELS_OFF'] = np.ceil(df1['WHEELS_OFF']/600).apply(int) \n",
    "df1['WHEELS_ON'] = np.ceil(df1['WHEELS_ON']/600).apply(int)\n",
    "df1['CRS_ARR_TIME'] = np.ceil(df1['CRS_ARR_TIME']/600).apply(int)"
   ]
  },
  {
   "cell_type": "code",
   "execution_count": 87,
   "metadata": {
    "ExecuteTime": {
     "end_time": "2020-10-09T12:03:31.788757Z",
     "start_time": "2020-10-09T12:03:31.772532Z"
    }
   },
   "outputs": [
    {
     "data": {
      "text/html": [
       "<div>\n",
       "<style scoped>\n",
       "    .dataframe tbody tr th:only-of-type {\n",
       "        vertical-align: middle;\n",
       "    }\n",
       "\n",
       "    .dataframe tbody tr th {\n",
       "        vertical-align: top;\n",
       "    }\n",
       "\n",
       "    .dataframe thead th {\n",
       "        text-align: right;\n",
       "    }\n",
       "</style>\n",
       "<table border=\"1\" class=\"dataframe\">\n",
       "  <thead>\n",
       "    <tr style=\"text-align: right;\">\n",
       "      <th></th>\n",
       "      <th>FL_DATE</th>\n",
       "      <th>OP_CARRIER</th>\n",
       "      <th>ORIGIN</th>\n",
       "      <th>DEST</th>\n",
       "      <th>CRS_DEP_TIME</th>\n",
       "      <th>DEP_DELAY</th>\n",
       "      <th>TAXI_OUT</th>\n",
       "      <th>WHEELS_OFF</th>\n",
       "      <th>WHEELS_ON</th>\n",
       "      <th>TAXI_IN</th>\n",
       "      <th>CRS_ARR_TIME</th>\n",
       "      <th>ARR_DELAY</th>\n",
       "      <th>CRS_ELAPSED_TIME</th>\n",
       "      <th>ACTUAL_ELAPSED_TIME</th>\n",
       "      <th>AIR_TIME</th>\n",
       "      <th>DISTANCE</th>\n",
       "    </tr>\n",
       "  </thead>\n",
       "  <tbody>\n",
       "    <tr>\n",
       "      <th>0</th>\n",
       "      <td>2018-01-01</td>\n",
       "      <td>United Airlines</td>\n",
       "      <td>Newark</td>\n",
       "      <td>Denver</td>\n",
       "      <td>3</td>\n",
       "      <td>-5.0</td>\n",
       "      <td>15.0</td>\n",
       "      <td>3</td>\n",
       "      <td>3</td>\n",
       "      <td>10.0</td>\n",
       "      <td>3</td>\n",
       "      <td>-23.0</td>\n",
       "      <td>268.0</td>\n",
       "      <td>250.0</td>\n",
       "      <td>225.0</td>\n",
       "      <td>1605.0</td>\n",
       "    </tr>\n",
       "    <tr>\n",
       "      <th>1</th>\n",
       "      <td>2018-01-01</td>\n",
       "      <td>United Airlines</td>\n",
       "      <td>Las Vegas</td>\n",
       "      <td>San Francisco</td>\n",
       "      <td>2</td>\n",
       "      <td>-8.0</td>\n",
       "      <td>11.0</td>\n",
       "      <td>2</td>\n",
       "      <td>3</td>\n",
       "      <td>7.0</td>\n",
       "      <td>3</td>\n",
       "      <td>-24.0</td>\n",
       "      <td>99.0</td>\n",
       "      <td>83.0</td>\n",
       "      <td>65.0</td>\n",
       "      <td>414.0</td>\n",
       "    </tr>\n",
       "    <tr>\n",
       "      <th>2</th>\n",
       "      <td>2018-01-01</td>\n",
       "      <td>United Airlines</td>\n",
       "      <td>Santa Ana</td>\n",
       "      <td>Denver</td>\n",
       "      <td>3</td>\n",
       "      <td>-5.0</td>\n",
       "      <td>15.0</td>\n",
       "      <td>3</td>\n",
       "      <td>3</td>\n",
       "      <td>5.0</td>\n",
       "      <td>3</td>\n",
       "      <td>-13.0</td>\n",
       "      <td>134.0</td>\n",
       "      <td>126.0</td>\n",
       "      <td>106.0</td>\n",
       "      <td>846.0</td>\n",
       "    </tr>\n",
       "    <tr>\n",
       "      <th>3</th>\n",
       "      <td>2018-01-01</td>\n",
       "      <td>United Airlines</td>\n",
       "      <td>Ft. Myers</td>\n",
       "      <td>Chicago</td>\n",
       "      <td>3</td>\n",
       "      <td>6.0</td>\n",
       "      <td>19.0</td>\n",
       "      <td>3</td>\n",
       "      <td>3</td>\n",
       "      <td>6.0</td>\n",
       "      <td>3</td>\n",
       "      <td>-2.0</td>\n",
       "      <td>190.0</td>\n",
       "      <td>182.0</td>\n",
       "      <td>157.0</td>\n",
       "      <td>1120.0</td>\n",
       "    </tr>\n",
       "    <tr>\n",
       "      <th>4</th>\n",
       "      <td>2018-01-01</td>\n",
       "      <td>United Airlines</td>\n",
       "      <td>Chicago</td>\n",
       "      <td>Albany</td>\n",
       "      <td>2</td>\n",
       "      <td>20.0</td>\n",
       "      <td>13.0</td>\n",
       "      <td>2</td>\n",
       "      <td>2</td>\n",
       "      <td>10.0</td>\n",
       "      <td>2</td>\n",
       "      <td>14.0</td>\n",
       "      <td>112.0</td>\n",
       "      <td>106.0</td>\n",
       "      <td>83.0</td>\n",
       "      <td>723.0</td>\n",
       "    </tr>\n",
       "  </tbody>\n",
       "</table>\n",
       "</div>"
      ],
      "text/plain": [
       "      FL_DATE       OP_CARRIER     ORIGIN           DEST  CRS_DEP_TIME  \\\n",
       "0  2018-01-01  United Airlines     Newark         Denver             3   \n",
       "1  2018-01-01  United Airlines  Las Vegas  San Francisco             2   \n",
       "2  2018-01-01  United Airlines  Santa Ana         Denver             3   \n",
       "3  2018-01-01  United Airlines  Ft. Myers        Chicago             3   \n",
       "4  2018-01-01  United Airlines    Chicago         Albany             2   \n",
       "\n",
       "   DEP_DELAY  TAXI_OUT  WHEELS_OFF  WHEELS_ON  TAXI_IN  CRS_ARR_TIME  \\\n",
       "0       -5.0      15.0           3          3     10.0             3   \n",
       "1       -8.0      11.0           2          3      7.0             3   \n",
       "2       -5.0      15.0           3          3      5.0             3   \n",
       "3        6.0      19.0           3          3      6.0             3   \n",
       "4       20.0      13.0           2          2     10.0             2   \n",
       "\n",
       "   ARR_DELAY  CRS_ELAPSED_TIME  ACTUAL_ELAPSED_TIME  AIR_TIME  DISTANCE  \n",
       "0      -23.0             268.0                250.0     225.0    1605.0  \n",
       "1      -24.0              99.0                 83.0      65.0     414.0  \n",
       "2      -13.0             134.0                126.0     106.0     846.0  \n",
       "3       -2.0             190.0                182.0     157.0    1120.0  \n",
       "4       14.0             112.0                106.0      83.0     723.0  "
      ]
     },
     "execution_count": 87,
     "metadata": {},
     "output_type": "execute_result"
    }
   ],
   "source": [
    "df1.head()"
   ]
  },
  {
   "cell_type": "markdown",
   "metadata": {},
   "source": [
    "What I have done here is reduced those 4 columns/features since they are Categoricals, now once I apply the hot_encode, I will end up with 4 columns instead of a considerably higher number. "
   ]
  },
  {
   "cell_type": "markdown",
   "metadata": {},
   "source": [
    "## Data Engineering"
   ]
  },
  {
   "cell_type": "markdown",
   "metadata": {},
   "source": [
    "For the time being the data engineer that I will be doing is quite simple but this will probably change as I start doing the visualizations as part of the EDA, which will be taken care of on a separate notebook. So in this notebook I will only concentrate on getting "
   ]
  },
  {
   "cell_type": "markdown",
   "metadata": {},
   "source": [
    "### Date Format"
   ]
  },
  {
   "cell_type": "markdown",
   "metadata": {},
   "source": [
    "I will engineer a couple of columns which might bee useful for the EDA. The first will be the month and the second the day. "
   ]
  },
  {
   "cell_type": "code",
   "execution_count": 88,
   "metadata": {
    "ExecuteTime": {
     "end_time": "2020-10-09T12:05:07.211264Z",
     "start_time": "2020-10-09T12:05:05.106935Z"
    }
   },
   "outputs": [
    {
     "data": {
      "text/html": [
       "<div>\n",
       "<style scoped>\n",
       "    .dataframe tbody tr th:only-of-type {\n",
       "        vertical-align: middle;\n",
       "    }\n",
       "\n",
       "    .dataframe tbody tr th {\n",
       "        vertical-align: top;\n",
       "    }\n",
       "\n",
       "    .dataframe thead th {\n",
       "        text-align: right;\n",
       "    }\n",
       "</style>\n",
       "<table border=\"1\" class=\"dataframe\">\n",
       "  <thead>\n",
       "    <tr style=\"text-align: right;\">\n",
       "      <th></th>\n",
       "      <th>FL_DATE</th>\n",
       "      <th>OP_CARRIER</th>\n",
       "      <th>ORIGIN</th>\n",
       "      <th>DEST</th>\n",
       "      <th>CRS_DEP_TIME</th>\n",
       "      <th>DEP_DELAY</th>\n",
       "      <th>TAXI_OUT</th>\n",
       "      <th>WHEELS_OFF</th>\n",
       "      <th>WHEELS_ON</th>\n",
       "      <th>TAXI_IN</th>\n",
       "      <th>CRS_ARR_TIME</th>\n",
       "      <th>ARR_DELAY</th>\n",
       "      <th>CRS_ELAPSED_TIME</th>\n",
       "      <th>ACTUAL_ELAPSED_TIME</th>\n",
       "      <th>AIR_TIME</th>\n",
       "      <th>DISTANCE</th>\n",
       "      <th>DAY</th>\n",
       "      <th>MONTH</th>\n",
       "    </tr>\n",
       "  </thead>\n",
       "  <tbody>\n",
       "    <tr>\n",
       "      <th>0</th>\n",
       "      <td>2018-01-01</td>\n",
       "      <td>United Airlines</td>\n",
       "      <td>Newark</td>\n",
       "      <td>Denver</td>\n",
       "      <td>3</td>\n",
       "      <td>-5.0</td>\n",
       "      <td>15.0</td>\n",
       "      <td>3</td>\n",
       "      <td>3</td>\n",
       "      <td>10.0</td>\n",
       "      <td>3</td>\n",
       "      <td>-23.0</td>\n",
       "      <td>268.0</td>\n",
       "      <td>250.0</td>\n",
       "      <td>225.0</td>\n",
       "      <td>1605.0</td>\n",
       "      <td>1</td>\n",
       "      <td>1</td>\n",
       "    </tr>\n",
       "    <tr>\n",
       "      <th>1</th>\n",
       "      <td>2018-01-01</td>\n",
       "      <td>United Airlines</td>\n",
       "      <td>Las Vegas</td>\n",
       "      <td>San Francisco</td>\n",
       "      <td>2</td>\n",
       "      <td>-8.0</td>\n",
       "      <td>11.0</td>\n",
       "      <td>2</td>\n",
       "      <td>3</td>\n",
       "      <td>7.0</td>\n",
       "      <td>3</td>\n",
       "      <td>-24.0</td>\n",
       "      <td>99.0</td>\n",
       "      <td>83.0</td>\n",
       "      <td>65.0</td>\n",
       "      <td>414.0</td>\n",
       "      <td>1</td>\n",
       "      <td>1</td>\n",
       "    </tr>\n",
       "  </tbody>\n",
       "</table>\n",
       "</div>"
      ],
      "text/plain": [
       "      FL_DATE       OP_CARRIER     ORIGIN           DEST  CRS_DEP_TIME  \\\n",
       "0  2018-01-01  United Airlines     Newark         Denver             3   \n",
       "1  2018-01-01  United Airlines  Las Vegas  San Francisco             2   \n",
       "\n",
       "   DEP_DELAY  TAXI_OUT  WHEELS_OFF  WHEELS_ON  TAXI_IN  CRS_ARR_TIME  \\\n",
       "0       -5.0      15.0           3          3     10.0             3   \n",
       "1       -8.0      11.0           2          3      7.0             3   \n",
       "\n",
       "   ARR_DELAY  CRS_ELAPSED_TIME  ACTUAL_ELAPSED_TIME  AIR_TIME  DISTANCE  DAY  \\\n",
       "0      -23.0             268.0                250.0     225.0    1605.0    1   \n",
       "1      -24.0              99.0                 83.0      65.0     414.0    1   \n",
       "\n",
       "   MONTH  \n",
       "0      1  \n",
       "1      1  "
      ]
     },
     "execution_count": 88,
     "metadata": {},
     "output_type": "execute_result"
    }
   ],
   "source": [
    "df1['DAY'] = pd.DatetimeIndex(df1['FL_DATE']).day\n",
    "df1['MONTH'] = pd.DatetimeIndex(df1['FL_DATE']).month\n",
    "df1.head(2)"
   ]
  },
  {
   "cell_type": "code",
   "execution_count": 89,
   "metadata": {
    "ExecuteTime": {
     "end_time": "2020-10-09T12:05:13.801647Z",
     "start_time": "2020-10-09T12:05:13.729467Z"
    }
   },
   "outputs": [
    {
     "name": "stdout",
     "output_type": "stream",
     "text": [
      "Maximum number of days in a month: 31\n",
      "Total number of months: 12\n"
     ]
    }
   ],
   "source": [
    "print('Maximum number of days in a month:', df1.DAY.nunique())\n",
    "print('Total number of months:', df1.MONTH.nunique())"
   ]
  },
  {
   "cell_type": "markdown",
   "metadata": {},
   "source": [
    "For visual purposes and because I will be using the month values to analyze which are the best and worst months to travel in terms of delays, I will convert the numerical (int) month value into the month abbreviation. For the modeling this will have no impact as I am not sure it will be a feature that I will preserve, most probably it won't be one, but that will be decided in the Modeling notebook. "
   ]
  },
  {
   "cell_type": "code",
   "execution_count": 90,
   "metadata": {
    "ExecuteTime": {
     "end_time": "2020-10-09T12:05:46.697119Z",
     "start_time": "2020-10-09T12:05:26.789420Z"
    }
   },
   "outputs": [],
   "source": [
    "import calendar\n",
    "df1['MONTH_AB'] = df1['MONTH'].apply(lambda x: calendar.month_abbr[x])"
   ]
  },
  {
   "cell_type": "code",
   "execution_count": 91,
   "metadata": {
    "ExecuteTime": {
     "end_time": "2020-10-09T12:05:48.730600Z",
     "start_time": "2020-10-09T12:05:48.714494Z"
    }
   },
   "outputs": [
    {
     "data": {
      "text/html": [
       "<div>\n",
       "<style scoped>\n",
       "    .dataframe tbody tr th:only-of-type {\n",
       "        vertical-align: middle;\n",
       "    }\n",
       "\n",
       "    .dataframe tbody tr th {\n",
       "        vertical-align: top;\n",
       "    }\n",
       "\n",
       "    .dataframe thead th {\n",
       "        text-align: right;\n",
       "    }\n",
       "</style>\n",
       "<table border=\"1\" class=\"dataframe\">\n",
       "  <thead>\n",
       "    <tr style=\"text-align: right;\">\n",
       "      <th></th>\n",
       "      <th>FL_DATE</th>\n",
       "      <th>OP_CARRIER</th>\n",
       "      <th>ORIGIN</th>\n",
       "      <th>DEST</th>\n",
       "      <th>CRS_DEP_TIME</th>\n",
       "      <th>DEP_DELAY</th>\n",
       "      <th>TAXI_OUT</th>\n",
       "      <th>WHEELS_OFF</th>\n",
       "      <th>WHEELS_ON</th>\n",
       "      <th>TAXI_IN</th>\n",
       "      <th>CRS_ARR_TIME</th>\n",
       "      <th>ARR_DELAY</th>\n",
       "      <th>CRS_ELAPSED_TIME</th>\n",
       "      <th>ACTUAL_ELAPSED_TIME</th>\n",
       "      <th>AIR_TIME</th>\n",
       "      <th>DISTANCE</th>\n",
       "      <th>DAY</th>\n",
       "      <th>MONTH</th>\n",
       "      <th>MONTH_AB</th>\n",
       "    </tr>\n",
       "  </thead>\n",
       "  <tbody>\n",
       "    <tr>\n",
       "      <th>0</th>\n",
       "      <td>2018-01-01</td>\n",
       "      <td>United Airlines</td>\n",
       "      <td>Newark</td>\n",
       "      <td>Denver</td>\n",
       "      <td>3</td>\n",
       "      <td>-5.0</td>\n",
       "      <td>15.0</td>\n",
       "      <td>3</td>\n",
       "      <td>3</td>\n",
       "      <td>10.0</td>\n",
       "      <td>3</td>\n",
       "      <td>-23.0</td>\n",
       "      <td>268.0</td>\n",
       "      <td>250.0</td>\n",
       "      <td>225.0</td>\n",
       "      <td>1605.0</td>\n",
       "      <td>1</td>\n",
       "      <td>1</td>\n",
       "      <td>Jan</td>\n",
       "    </tr>\n",
       "    <tr>\n",
       "      <th>1</th>\n",
       "      <td>2018-01-01</td>\n",
       "      <td>United Airlines</td>\n",
       "      <td>Las Vegas</td>\n",
       "      <td>San Francisco</td>\n",
       "      <td>2</td>\n",
       "      <td>-8.0</td>\n",
       "      <td>11.0</td>\n",
       "      <td>2</td>\n",
       "      <td>3</td>\n",
       "      <td>7.0</td>\n",
       "      <td>3</td>\n",
       "      <td>-24.0</td>\n",
       "      <td>99.0</td>\n",
       "      <td>83.0</td>\n",
       "      <td>65.0</td>\n",
       "      <td>414.0</td>\n",
       "      <td>1</td>\n",
       "      <td>1</td>\n",
       "      <td>Jan</td>\n",
       "    </tr>\n",
       "  </tbody>\n",
       "</table>\n",
       "</div>"
      ],
      "text/plain": [
       "      FL_DATE       OP_CARRIER     ORIGIN           DEST  CRS_DEP_TIME  \\\n",
       "0  2018-01-01  United Airlines     Newark         Denver             3   \n",
       "1  2018-01-01  United Airlines  Las Vegas  San Francisco             2   \n",
       "\n",
       "   DEP_DELAY  TAXI_OUT  WHEELS_OFF  WHEELS_ON  TAXI_IN  CRS_ARR_TIME  \\\n",
       "0       -5.0      15.0           3          3     10.0             3   \n",
       "1       -8.0      11.0           2          3      7.0             3   \n",
       "\n",
       "   ARR_DELAY  CRS_ELAPSED_TIME  ACTUAL_ELAPSED_TIME  AIR_TIME  DISTANCE  DAY  \\\n",
       "0      -23.0             268.0                250.0     225.0    1605.0    1   \n",
       "1      -24.0              99.0                 83.0      65.0     414.0    1   \n",
       "\n",
       "   MONTH MONTH_AB  \n",
       "0      1      Jan  \n",
       "1      1      Jan  "
      ]
     },
     "execution_count": 91,
     "metadata": {},
     "output_type": "execute_result"
    }
   ],
   "source": [
    "df1.head(2)"
   ]
  },
  {
   "cell_type": "markdown",
   "metadata": {},
   "source": [
    "I will now just double check that the values are what I am expecting, so basically every calendar month abbreviation:"
   ]
  },
  {
   "cell_type": "code",
   "execution_count": 92,
   "metadata": {
    "ExecuteTime": {
     "end_time": "2020-10-09T12:05:50.770166Z",
     "start_time": "2020-10-09T12:05:50.481739Z"
    }
   },
   "outputs": [
    {
     "name": "stdout",
     "output_type": "stream",
     "text": [
      "Months present in dataframe: [ 1  2  3  4  5  6  7  8  9 10 11 12]\n",
      "Months present in dataframe: ['Jan' 'Feb' 'Mar' 'Apr' 'May' 'Jun' 'Jul' 'Aug' 'Sep' 'Oct' 'Nov' 'Dec']\n"
     ]
    }
   ],
   "source": [
    "print('Months present in dataframe:', df1.MONTH.unique())\n",
    "print('Months present in dataframe:', df1.MONTH_AB.unique())"
   ]
  },
  {
   "cell_type": "markdown",
   "metadata": {},
   "source": [
    "### Binary Classsification"
   ]
  },
  {
   "cell_type": "markdown",
   "metadata": {},
   "source": [
    "As I mentioned at the beginning of this document, this is a binary classification, which means that I will run my models with the target being a column that I will engineer called FLIGHT_STATUS. In this column there will be only two values (hence the name binary), a 0 for flights that arrive either earlier or on time, and a 1 for flights that are delayed. "
   ]
  },
  {
   "cell_type": "code",
   "execution_count": 93,
   "metadata": {
    "ExecuteTime": {
     "end_time": "2020-10-09T12:05:54.839555Z",
     "start_time": "2020-10-09T12:05:52.543385Z"
    }
   },
   "outputs": [
    {
     "data": {
      "text/html": [
       "<div>\n",
       "<style scoped>\n",
       "    .dataframe tbody tr th:only-of-type {\n",
       "        vertical-align: middle;\n",
       "    }\n",
       "\n",
       "    .dataframe tbody tr th {\n",
       "        vertical-align: top;\n",
       "    }\n",
       "\n",
       "    .dataframe thead th {\n",
       "        text-align: right;\n",
       "    }\n",
       "</style>\n",
       "<table border=\"1\" class=\"dataframe\">\n",
       "  <thead>\n",
       "    <tr style=\"text-align: right;\">\n",
       "      <th></th>\n",
       "      <th>FL_DATE</th>\n",
       "      <th>OP_CARRIER</th>\n",
       "      <th>ORIGIN</th>\n",
       "      <th>DEST</th>\n",
       "      <th>CRS_DEP_TIME</th>\n",
       "      <th>DEP_DELAY</th>\n",
       "      <th>TAXI_OUT</th>\n",
       "      <th>WHEELS_OFF</th>\n",
       "      <th>WHEELS_ON</th>\n",
       "      <th>TAXI_IN</th>\n",
       "      <th>CRS_ARR_TIME</th>\n",
       "      <th>ARR_DELAY</th>\n",
       "      <th>CRS_ELAPSED_TIME</th>\n",
       "      <th>ACTUAL_ELAPSED_TIME</th>\n",
       "      <th>AIR_TIME</th>\n",
       "      <th>DISTANCE</th>\n",
       "      <th>DAY</th>\n",
       "      <th>MONTH</th>\n",
       "      <th>MONTH_AB</th>\n",
       "      <th>FLIGHT_STATUS</th>\n",
       "    </tr>\n",
       "  </thead>\n",
       "  <tbody>\n",
       "    <tr>\n",
       "      <th>0</th>\n",
       "      <td>2018-01-01</td>\n",
       "      <td>United Airlines</td>\n",
       "      <td>Newark</td>\n",
       "      <td>Denver</td>\n",
       "      <td>3</td>\n",
       "      <td>-5.0</td>\n",
       "      <td>15.0</td>\n",
       "      <td>3</td>\n",
       "      <td>3</td>\n",
       "      <td>10.0</td>\n",
       "      <td>3</td>\n",
       "      <td>-23.0</td>\n",
       "      <td>268.0</td>\n",
       "      <td>250.0</td>\n",
       "      <td>225.0</td>\n",
       "      <td>1605.0</td>\n",
       "      <td>1</td>\n",
       "      <td>1</td>\n",
       "      <td>Jan</td>\n",
       "      <td>0</td>\n",
       "    </tr>\n",
       "    <tr>\n",
       "      <th>1</th>\n",
       "      <td>2018-01-01</td>\n",
       "      <td>United Airlines</td>\n",
       "      <td>Las Vegas</td>\n",
       "      <td>San Francisco</td>\n",
       "      <td>2</td>\n",
       "      <td>-8.0</td>\n",
       "      <td>11.0</td>\n",
       "      <td>2</td>\n",
       "      <td>3</td>\n",
       "      <td>7.0</td>\n",
       "      <td>3</td>\n",
       "      <td>-24.0</td>\n",
       "      <td>99.0</td>\n",
       "      <td>83.0</td>\n",
       "      <td>65.0</td>\n",
       "      <td>414.0</td>\n",
       "      <td>1</td>\n",
       "      <td>1</td>\n",
       "      <td>Jan</td>\n",
       "      <td>0</td>\n",
       "    </tr>\n",
       "  </tbody>\n",
       "</table>\n",
       "</div>"
      ],
      "text/plain": [
       "      FL_DATE       OP_CARRIER     ORIGIN           DEST  CRS_DEP_TIME  \\\n",
       "0  2018-01-01  United Airlines     Newark         Denver             3   \n",
       "1  2018-01-01  United Airlines  Las Vegas  San Francisco             2   \n",
       "\n",
       "   DEP_DELAY  TAXI_OUT  WHEELS_OFF  WHEELS_ON  TAXI_IN  CRS_ARR_TIME  \\\n",
       "0       -5.0      15.0           3          3     10.0             3   \n",
       "1       -8.0      11.0           2          3      7.0             3   \n",
       "\n",
       "   ARR_DELAY  CRS_ELAPSED_TIME  ACTUAL_ELAPSED_TIME  AIR_TIME  DISTANCE  DAY  \\\n",
       "0      -23.0             268.0                250.0     225.0    1605.0    1   \n",
       "1      -24.0              99.0                 83.0      65.0     414.0    1   \n",
       "\n",
       "   MONTH MONTH_AB  FLIGHT_STATUS  \n",
       "0      1      Jan              0  \n",
       "1      1      Jan              0  "
      ]
     },
     "execution_count": 93,
     "metadata": {},
     "output_type": "execute_result"
    }
   ],
   "source": [
    "status = []\n",
    "\n",
    "for value in df1['ARR_DELAY']:\n",
    "    if value < 0:\n",
    "        status.append(0)\n",
    "    else:\n",
    "        status.append(1)\n",
    "df1['FLIGHT_STATUS'] = status\n",
    "df1.head(2)    "
   ]
  },
  {
   "cell_type": "code",
   "execution_count": 94,
   "metadata": {
    "ExecuteTime": {
     "end_time": "2020-10-09T12:06:07.229078Z",
     "start_time": "2020-10-09T12:06:07.182089Z"
    }
   },
   "outputs": [
    {
     "data": {
      "text/plain": [
       "0    0.624772\n",
       "1    0.375228\n",
       "Name: FLIGHT_STATUS, dtype: float64"
      ]
     },
     "execution_count": 94,
     "metadata": {},
     "output_type": "execute_result"
    }
   ],
   "source": [
    "df1.FLIGHT_STATUS.value_counts(normalize=True)"
   ]
  },
  {
   "cell_type": "markdown",
   "metadata": {},
   "source": [
    "This means that 62.48% of the flights have no delays, but that can be that they arrived either early or on time, and 37.52% of the flight were delayed. Quite a significant number if you think about it. "
   ]
  },
  {
   "cell_type": "markdown",
   "metadata": {},
   "source": [
    "At this point I don't think there is any other pre-processing that I want to do, so I will save this dataframe and start looking at the EDA on a separate notebook. However, as I mentioned above, there might be some other feature engineering done for the visualizations that I will do, or even some additional column dropping as there are a few that I cannot see affecting the modeling in any way."
   ]
  },
  {
   "cell_type": "code",
   "execution_count": 95,
   "metadata": {
    "ExecuteTime": {
     "end_time": "2020-10-09T12:07:15.577888Z",
     "start_time": "2020-10-09T12:06:19.838441Z"
    }
   },
   "outputs": [],
   "source": [
    "df1.to_csv('df1.csv')"
   ]
  },
  {
   "cell_type": "code",
   "execution_count": 96,
   "metadata": {
    "ExecuteTime": {
     "end_time": "2020-10-09T12:08:37.809042Z",
     "start_time": "2020-10-09T12:08:36.663790Z"
    }
   },
   "outputs": [
    {
     "data": {
      "text/plain": [
       "FL_DATE                0\n",
       "OP_CARRIER             0\n",
       "ORIGIN                 0\n",
       "DEST                   0\n",
       "CRS_DEP_TIME           0\n",
       "DEP_DELAY              0\n",
       "TAXI_OUT               0\n",
       "WHEELS_OFF             0\n",
       "WHEELS_ON              0\n",
       "TAXI_IN                0\n",
       "CRS_ARR_TIME           0\n",
       "ARR_DELAY              0\n",
       "CRS_ELAPSED_TIME       0\n",
       "ACTUAL_ELAPSED_TIME    0\n",
       "AIR_TIME               0\n",
       "DISTANCE               0\n",
       "DAY                    0\n",
       "MONTH                  0\n",
       "MONTH_AB               0\n",
       "FLIGHT_STATUS          0\n",
       "dtype: int64"
      ]
     },
     "execution_count": 96,
     "metadata": {},
     "output_type": "execute_result"
    }
   ],
   "source": [
    "df1.isna().sum()"
   ]
  },
  {
   "cell_type": "markdown",
   "metadata": {},
   "source": [
    "=============================================================================="
   ]
  },
  {
   "cell_type": "code",
   "execution_count": null,
   "metadata": {},
   "outputs": [],
   "source": []
  }
 ],
 "metadata": {
  "kernelspec": {
   "display_name": "learn-env",
   "language": "python",
   "name": "learn-env"
  },
  "language_info": {
   "codemirror_mode": {
    "name": "ipython",
    "version": 3
   },
   "file_extension": ".py",
   "mimetype": "text/x-python",
   "name": "python",
   "nbconvert_exporter": "python",
   "pygments_lexer": "ipython3",
   "version": "3.6.9"
  },
  "toc": {
   "base_numbering": 1,
   "nav_menu": {},
   "number_sections": true,
   "sideBar": true,
   "skip_h1_title": false,
   "title_cell": "Table of Contents",
   "title_sidebar": "Contents",
   "toc_cell": false,
   "toc_position": {
    "height": "calc(100% - 180px)",
    "left": "10px",
    "top": "150px",
    "width": "325.390625px"
   },
   "toc_section_display": true,
   "toc_window_display": false
  },
  "varInspector": {
   "cols": {
    "lenName": 16,
    "lenType": 16,
    "lenVar": 40
   },
   "kernels_config": {
    "python": {
     "delete_cmd_postfix": "",
     "delete_cmd_prefix": "del ",
     "library": "var_list.py",
     "varRefreshCmd": "print(var_dic_list())"
    },
    "r": {
     "delete_cmd_postfix": ") ",
     "delete_cmd_prefix": "rm(",
     "library": "var_list.r",
     "varRefreshCmd": "cat(var_dic_list()) "
    }
   },
   "types_to_exclude": [
    "module",
    "function",
    "builtin_function_or_method",
    "instance",
    "_Feature"
   ],
   "window_display": false
  }
 },
 "nbformat": 4,
 "nbformat_minor": 4
}
